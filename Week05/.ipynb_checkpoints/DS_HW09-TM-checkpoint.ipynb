{
 "metadata": {
  "name": "",
  "signature": "sha256:1345fa8ed032755282017429770fd2101211604370c6d702b7d0abd53ca39bae"
 },
 "nbformat": 3,
 "nbformat_minor": 0,
 "worksheets": [
  {
   "cells": [
    {
     "cell_type": "markdown",
     "metadata": {},
     "source": [
      "Lab\n",
      "==========================================\n",
      "Text Feature Extraction for Classification\n",
      "------------------------------------------\n",
      "Alessandro D. Gagliardi  \n",
      "*(adapted from Olivier Grisel's tutorial)*"
     ]
    },
    {
     "cell_type": "markdown",
     "metadata": {
      "slideshow": {
       "slide_type": "slide"
      }
     },
     "source": [
      "_What is scikit-learn?_\n",
      "--------------------------------------------------------\n",
      "\n",
      "* Library of Machine Learning algorithms\n",
      "* Focus on standard methods (e.g. ESL-II, (Elements of Statistical Learning))\n",
      "* Open Source (BSD)\n",
      "* Simple &nbsp; ** ` fit / predict / transform ` ** &nbsp; API\n",
      "* Python / NumPy / SciPy / Cython\n",
      "* Model Assessment, Selection & Ensembles"
     ]
    },
    {
     "cell_type": "markdown",
     "metadata": {
      "slideshow": {
       "slide_type": "subslide"
      }
     },
     "source": [
      "<img src=\"assets/predictive_modeling_data_flow.png\">"
     ]
    },
    {
     "cell_type": "markdown",
     "metadata": {
      "slideshow": {
       "slide_type": "subslide"
      }
     },
     "source": [
      "<style>\n",
      "div.input {\n",
      "    width: 105ex; /* about 80 chars + buffer */\n",
      "}\n",
      "div.text_cell {\n",
      "    width: 105ex; /* instead of 100%, */\n",
      "}\n",
      "div.text_cell_render {\n",
      "    /*font-family: \"Helvetica Neue\", Arial, Helvetica, Geneva, sans-serif;*/\n",
      "    font-family: \"Charis SIL\", serif !important; /* Make non-code text serif. */\n",
      "    line-height: 145% !important; /* added for some line spacing of text. */\n",
      "    width: 105ex !important; /* instead of 'inherit' for shorter lines */\n",
      "}\n",
      "/* Set the size of the headers */\n",
      "div.text_cell_render h1 {\n",
      "    font-size: 18pt;\n",
      "}\n",
      "div.text_cell_render h2 {\n",
      "    font-size: 14pt;\n",
      "}\n",
      ".CodeMirror {\n",
      "     font-family: Consolas, monospace;\n",
      "}\n",
      "</style>\n",
      "\n",
      "Outline of this section:\n",
      "\n",
      "- Turn a corpus of text documents into **feature vectors** using a **Bag of Words** representation,\n",
      "- Train a simple text classifier on the feature vectors,\n",
      "- Wrap the vectorizer and the classifier with a **pipeline**,\n",
      "- Cross-validation and **model selection** on the pipeline."
     ]
    },
    {
     "cell_type": "code",
     "collapsed": false,
     "input": [
      "%matplotlib inline\n",
      "import matplotlib.pyplot as plt\n",
      "import numpy as np\n",
      "import pandas as pd\n",
      "\n",
      "# Some nice default configuration for plots\n",
      "plt.rcParams['figure.figsize'] = 10, 7.5\n",
      "plt.rcParams['axes.grid'] = True\n",
      "plt.gray()"
     ],
     "language": "python",
     "metadata": {
      "slideshow": {
       "slide_type": "skip"
      }
     },
     "outputs": [
      {
       "metadata": {},
       "output_type": "display_data",
       "text": [
        "<matplotlib.figure.Figure at 0x10271c690>"
       ]
      }
     ],
     "prompt_number": 1
    },
    {
     "cell_type": "heading",
     "level": 3,
     "metadata": {
      "slideshow": {
       "slide_type": "skip"
      }
     },
     "source": [
      "Check that you have the datasets"
     ]
    },
    {
     "cell_type": "code",
     "collapsed": false,
     "input": [
      "%run fetch_data.py"
     ],
     "language": "python",
     "metadata": {
      "slideshow": {
       "slide_type": "skip"
      }
     },
     "outputs": [
      {
       "output_type": "stream",
       "stream": "stdout",
       "text": [
        "Creating datasets folder: /Users/quicksoat/Documents/DAT6-Material/DAT6/datasets\n",
        "Checking availability of the 20 newsgroups dataset\n",
        "Downloading dataset from http://people.csail.mit.edu/jrennie/20Newsgroups/20news-bydate.tar.gz (14 MB)\n",
        "Decompressing /Users/quicksoat/Documents/DAT6-Material/DAT6/datasets/20news-bydate.tar.gz"
       ]
      },
      {
       "output_type": "stream",
       "stream": "stdout",
       "text": [
        "\n",
        "Checking that the 20 newsgroups files exist..."
       ]
      },
      {
       "output_type": "stream",
       "stream": "stdout",
       "text": [
        "\n",
        "=> Success!\n",
        "Checking availability of the titanic dataset\n",
        "Downloading titanic data from https://dl.dropboxusercontent.com/u/5743203/data/titanic/titanic_train.csv\n",
        "=> Success!"
       ]
      },
      {
       "output_type": "stream",
       "stream": "stdout",
       "text": [
        "\n"
       ]
      }
     ],
     "prompt_number": 3
    },
    {
     "cell_type": "code",
     "collapsed": false,
     "input": [
      "!ls -lh datasets/"
     ],
     "language": "python",
     "metadata": {
      "slideshow": {
       "slide_type": "skip"
      }
     },
     "outputs": [
      {
       "output_type": "stream",
       "stream": "stdout",
       "text": [
        "total 28376\r\n"
       ]
      },
      {
       "output_type": "stream",
       "stream": "stdout",
       "text": [
        "drwxr-xr-x+ 22 quicksoat  staff   748B Mar 18  2003 \u001b[34m20news-bydate-test\u001b[m\u001b[m\r\n",
        "drwxr-xr-x+ 22 quicksoat  staff   748B Mar 18  2003 \u001b[34m20news-bydate-train\u001b[m\u001b[m\r\n",
        "-rw-r--r--+  1 quicksoat  staff    14M May 12 19:45 20news-bydate.tar.gz\r\n",
        "-rw-r--r--+  1 quicksoat  staff    60K May 12 19:45 titanic_train.csv\r\n"
       ]
      }
     ],
     "prompt_number": 4
    },
    {
     "cell_type": "heading",
     "level": 2,
     "metadata": {
      "slideshow": {
       "slide_type": "slide"
      }
     },
     "source": [
      "Text Classification in 20 lines of Python"
     ]
    },
    {
     "cell_type": "markdown",
     "metadata": {
      "slideshow": {
       "slide_type": "-"
      }
     },
     "source": [
      "Let's start by implementing a canonical text classification example:\n",
      "\n",
      "- The 20 newsgroups dataset: around 18000 text posts from 20 newsgroups forums\n",
      "- Bag of Words features extraction with TF-IDF weighting\n",
      "- Naive Bayes classifier for the classifier itself"
     ]
    },
    {
     "cell_type": "code",
     "collapsed": false,
     "input": [
      "from sklearn.datasets import load_files\n",
      "from sklearn.feature_extraction.text import TfidfVectorizer\n",
      "from sklearn.naive_bayes import MultinomialNB\n",
      "\n",
      "# Load the text data\n",
      "categories = [\n",
      "    'alt.atheism',\n",
      "    'talk.religion.misc',\n",
      "    'comp.graphics',\n",
      "    'sci.space',\n",
      "]\n",
      "twenty_train_small = load_files('datasets/20news-bydate-train/',\n",
      "    categories=categories, encoding='latin-1')\n",
      "twenty_test_small = load_files('datasets/20news-bydate-test/',\n",
      "    categories=categories, encoding='latin-1')\n",
      "\n",
      "# Turn the text documents into vectors of word frequencies\n",
      "vectorizer = TfidfVectorizer(min_df=2)\n",
      "X_train = vectorizer.fit_transform(twenty_train_small.data)\n",
      "y_train = twenty_train_small.target\n",
      "\n",
      "# Fit a classifier on the training set\n",
      "classifier = MultinomialNB().fit(X_train, y_train)\n",
      "print(\"Training score: {0:.1f}%\".format(\n",
      "    classifier.score(X_train, y_train) * 100))\n",
      "\n",
      "# Evaluate the classifier on the testing set\n",
      "X_test = vectorizer.transform(twenty_test_small.data)\n",
      "y_test = twenty_test_small.target\n",
      "print(\"Testing score: {0:.1f}%\".format(\n",
      "    classifier.score(X_test, y_test) * 100))"
     ],
     "language": "python",
     "metadata": {
      "slideshow": {
       "slide_type": "subslide"
      }
     },
     "outputs": [
      {
       "output_type": "stream",
       "stream": "stdout",
       "text": [
        "Training score: 95.1%\n",
        "Testing score: 85.1%"
       ]
      },
      {
       "output_type": "stream",
       "stream": "stdout",
       "text": [
        "\n"
       ]
      }
     ],
     "prompt_number": 5
    },
    {
     "cell_type": "markdown",
     "metadata": {
      "slideshow": {
       "slide_type": "skip"
      }
     },
     "source": [
      "[Multinomial Naive Bayes](http://scikit-learn.org/stable/modules/naive_bayes.html#multinomial-naive-bayes)\n",
      "--------------------------------------------------------\n",
      "`MultinomialNB` implements the naive Bayes algorithm for multinomially distributed data, and is one of the two classic naive Bayes variants used in text classification (where the data are typically represented as word vector counts, although tf-idf vectors are also known to work well in practice). The distribution is parametrized by vectors $\\theta_y = (\\theta_{y1},\\ldots,\\theta_{yn})$ for each class $y$, where $n$ is the number of features (in text classification, the size of the vocabulary) and $\\theta_{yi}$ is the probability $P(x_i \\mid y)$ of feature $i$ appearing in a sample belonging to class $y$.\n",
      "\n",
      "The parameters $\\theta_y$ is estimated by a smoothed version of maximum likelihood, i.e. relative frequency counting:\n",
      "\n",
      "$$ \\hat{\\theta}_{yi} = \\frac{ N_{yi} + \\alpha}{N_y + \\alpha n} $$\n",
      "\n",
      "where $N_{yi} = \\sum_{x \\in T} x_i$ is the number of times feature $i$ appears in a sample of class $y$ in the training set $T$, and $N_{y} = \\sum_{i=1}^{|T|} N_{yi}$ is the total count of all features for class $y$.\n",
      "\n",
      "The smoothing priors $\\alpha \\ge 0$ accounts for features not present in the learning samples and prevents zero probabilities in further computations. Setting $\\alpha = 1$ is called Laplace smoothing, while $\\alpha < 1$ is called Lidstone smoothing."
     ]
    },
    {
     "cell_type": "markdown",
     "metadata": {
      "slideshow": {
       "slide_type": "-"
      }
     },
     "source": [
      "Let's now decompose what we just did to understand and customize each step."
     ]
    },
    {
     "cell_type": "heading",
     "level": 3,
     "metadata": {
      "slideshow": {
       "slide_type": "slide"
      }
     },
     "source": [
      "Loading the Dataset"
     ]
    },
    {
     "cell_type": "markdown",
     "metadata": {
      "slideshow": {
       "slide_type": "-"
      }
     },
     "source": [
      "Let's explore the dataset loading utility without passing a list of categories: in this case we load the full 20 newsgroups dataset in memory. The source website for the 20 newsgroups already provides a date-based train / test split that is made available using the `subset` keyword argument: "
     ]
    },
    {
     "cell_type": "code",
     "collapsed": false,
     "input": [
      "ls datasets/"
     ],
     "language": "python",
     "metadata": {
      "slideshow": {
       "slide_type": "-"
      }
     },
     "outputs": [
      {
       "output_type": "stream",
       "stream": "stdout",
       "text": [
        "\u001b[34m20news-bydate-test\u001b[m\u001b[m/   20news-bydate.tar.gz\r\n",
        "\u001b[34m20news-bydate-train\u001b[m\u001b[m/  titanic_train.csv\r\n"
       ]
      }
     ],
     "prompt_number": 6
    },
    {
     "cell_type": "code",
     "collapsed": false,
     "input": [
      "ls -lh datasets/20news-bydate-train"
     ],
     "language": "python",
     "metadata": {
      "slideshow": {
       "slide_type": "fragment"
      }
     },
     "outputs": [
      {
       "output_type": "stream",
       "stream": "stdout",
       "text": [
        "total 0\r\n",
        "drwxr-xr-x+ 482 quicksoat  staff    16K Mar 18  2003 \u001b[34malt.atheism\u001b[m\u001b[m/\r\n",
        "drwxr-xr-x+ 586 quicksoat  staff    19K Mar 18  2003 \u001b[34mcomp.graphics\u001b[m\u001b[m/\r\n",
        "drwxr-xr-x+ 593 quicksoat  staff    20K Mar 18  2003 \u001b[34mcomp.os.ms-windows.misc\u001b[m\u001b[m/\r\n",
        "drwxr-xr-x+ 592 quicksoat  staff    20K Mar 18  2003 \u001b[34mcomp.sys.ibm.pc.hardware\u001b[m\u001b[m/\r\n",
        "drwxr-xr-x+ 580 quicksoat  staff    19K Mar 18  2003 \u001b[34mcomp.sys.mac.hardware\u001b[m\u001b[m/\r\n",
        "drwxr-xr-x+ 595 quicksoat  staff    20K Mar 18  2003 \u001b[34mcomp.windows.x\u001b[m\u001b[m/\r\n",
        "drwxr-xr-x+ 587 quicksoat  staff    19K Mar 18  2003 \u001b[34mmisc.forsale\u001b[m\u001b[m/\r\n",
        "drwxr-xr-x+ 596 quicksoat  staff    20K Mar 18  2003 \u001b[34mrec.autos\u001b[m\u001b[m/\r\n",
        "drwxr-xr-x+ 600 quicksoat  staff    20K Mar 18  2003 \u001b[34mrec.motorcycles\u001b[m\u001b[m/\r\n",
        "drwxr-xr-x+ 599 quicksoat  staff    20K Mar 18  2003 \u001b[34mrec.sport.baseball\u001b[m\u001b[m/\r\n",
        "drwxr-xr-x+ 602 quicksoat  staff    20K Mar 18  2003 \u001b[34mrec.sport.hockey\u001b[m\u001b[m/\r\n",
        "drwxr-xr-x+ 597 quicksoat  staff    20K Mar 18  2003 \u001b[34msci.crypt\u001b[m\u001b[m/\r\n",
        "drwxr-xr-x+ 593 quicksoat  staff    20K Mar 18  2003 \u001b[34msci.electronics\u001b[m\u001b[m/\r\n",
        "drwxr-xr-x+ 596 quicksoat  staff    20K Mar 18  2003 \u001b[34msci.med\u001b[m\u001b[m/\r\n",
        "drwxr-xr-x+ 595 quicksoat  staff    20K Mar 18  2003 \u001b[34msci.space\u001b[m\u001b[m/\r\n",
        "drwxr-xr-x+ 601 quicksoat  staff    20K Mar 18  2003 \u001b[34msoc.religion.christian\u001b[m\u001b[m/\r\n",
        "drwxr-xr-x+ 548 quicksoat  staff    18K Mar 18  2003 \u001b[34mtalk.politics.guns\u001b[m\u001b[m/\r\n",
        "drwxr-xr-x+ 566 quicksoat  staff    19K Mar 18  2003 \u001b[34mtalk.politics.mideast\u001b[m\u001b[m/\r\n",
        "drwxr-xr-x+ 467 quicksoat  staff    16K Mar 18  2003 \u001b[34mtalk.politics.misc\u001b[m\u001b[m/\r\n",
        "drwxr-xr-x+ 379 quicksoat  staff    13K Mar 18  2003 \u001b[34mtalk.religion.misc\u001b[m\u001b[m/\r\n"
       ]
      }
     ],
     "prompt_number": 7
    },
    {
     "cell_type": "code",
     "collapsed": false,
     "input": [
      "ls -lh datasets/20news-bydate-train/alt.atheism/ | head -n27"
     ],
     "language": "python",
     "metadata": {
      "slideshow": {
       "slide_type": "subslide"
      }
     },
     "outputs": [
      {
       "output_type": "stream",
       "stream": "stdout",
       "text": [
        "total 4480\r\n",
        "-rw-r--r--+ 1 quicksoat  staff    12K Mar 18  2003 49960\r\n",
        "-rw-r--r--+ 1 quicksoat  staff    31K Mar 18  2003 51060\r\n",
        "-rw-r--r--+ 1 quicksoat  staff   4.0K Mar 18  2003 51119\r\n",
        "-rw-r--r--+ 1 quicksoat  staff   1.6K Mar 18  2003 51120\r\n",
        "-rw-r--r--+ 1 quicksoat  staff   773B Mar 18  2003 51121\r\n",
        "-rw-r--r--+ 1 quicksoat  staff   4.8K Mar 18  2003 51122\r\n",
        "-rw-r--r--+ 1 quicksoat  staff   618B Mar 18  2003 51123\r\n",
        "-rw-r--r--+ 1 quicksoat  staff   1.4K Mar 18  2003 51124\r\n",
        "-rw-r--r--+ 1 quicksoat  staff   2.7K Mar 18  2003 51125\r\n",
        "-rw-r--r--+ 1 quicksoat  staff   427B Mar 18  2003 51126\r\n",
        "-rw-r--r--+ 1 quicksoat  staff   742B Mar 18  2003 51127\r\n",
        "-rw-r--r--+ 1 quicksoat  staff   650B Mar 18  2003 51128\r\n",
        "-rw-r--r--+ 1 quicksoat  staff   1.3K Mar 18  2003 51130\r\n",
        "-rw-r--r--+ 1 quicksoat  staff   2.3K Mar 18  2003 51131\r\n",
        "-rw-r--r--+ 1 quicksoat  staff   2.6K Mar 18  2003 51132\r\n",
        "-rw-r--r--+ 1 quicksoat  staff   1.5K Mar 18  2003 51133\r\n",
        "-rw-r--r--+ 1 quicksoat  staff   1.2K Mar 18  2003 51134\r\n",
        "-rw-r--r--+ 1 quicksoat  staff   1.6K Mar 18  2003 51135\r\n",
        "-rw-r--r--+ 1 quicksoat  staff   2.1K Mar 18  2003 51136\r\n",
        "-rw-r--r--+ 1 quicksoat  staff   1.3K Mar 18  2003 51139\r\n",
        "-rw-r--r--+ 1 quicksoat  staff   409B Mar 18  2003 51140\r\n",
        "-rw-r--r--+ 1 quicksoat  staff   940B Mar 18  2003 51141\r\n",
        "-rw-r--r--+ 1 quicksoat  staff   9.0K Mar 18  2003 51142\r\n",
        "-rw-r--r--+ 1 quicksoat  staff   632B Mar 18  2003 51143\r\n",
        "-rw-r--r--+ 1 quicksoat  staff   1.2K Mar 18  2003 51144\r\n",
        "-rw-r--r--+ 1 quicksoat  staff   609B Mar 18  2003 51145\r\n"
       ]
      }
     ],
     "prompt_number": 8
    },
    {
     "cell_type": "markdown",
     "metadata": {
      "slideshow": {
       "slide_type": "subslide"
      }
     },
     "source": [
      "The `load_files` function can load text files from a 2 levels folder structure assuming folder names represent categories:"
     ]
    },
    {
     "cell_type": "code",
     "collapsed": false,
     "input": [
      "print(load_files.__doc__)"
     ],
     "language": "python",
     "metadata": {
      "slideshow": {
       "slide_type": "skip"
      }
     },
     "outputs": [
      {
       "output_type": "stream",
       "stream": "stdout",
       "text": [
        "Load text files with categories as subfolder names.\n",
        "\n",
        "    Individual samples are assumed to be files stored a two levels folder\n",
        "    structure such as the following:\n",
        "\n",
        "        container_folder/\n",
        "            category_1_folder/\n",
        "                file_1.txt\n",
        "                file_2.txt\n",
        "                ...\n",
        "                file_42.txt\n",
        "            category_2_folder/\n",
        "                file_43.txt\n",
        "                file_44.txt\n",
        "                ...\n",
        "\n",
        "    The folder names are used has supervised signal label names. The\n",
        "    individual file names are not important.\n",
        "\n",
        "    This function does not try to extract features into a numpy array or\n",
        "    scipy sparse matrix. In addition, if load_content is false it\n",
        "    does not try to load the files in memory.\n",
        "\n",
        "    To use text files in a scikit-learn classification or clustering\n",
        "    algorithm, you will need to use the `sklearn.feature_extraction.text`\n",
        "    module to build a feature extraction transformer that suits your\n",
        "    problem.\n",
        "\n",
        "    If you set load_content=True, you should also specify the encoding of\n",
        "    the text using the 'encoding' parameter. For many modern text files,\n",
        "    'utf-8' will be the correct encoding. If you leave encoding equal to None,\n",
        "    then the content will be made of bytes instead of Unicode, and you will\n",
        "    not be able to use most functions in `sklearn.feature_extraction.text`.\n",
        "\n",
        "    Similar feature extractors should be built for other kind of unstructured\n",
        "    data input such as images, audio, video, ...\n",
        "\n",
        "    Parameters\n",
        "    ----------\n",
        "    container_path : string or unicode\n",
        "        Path to the main folder holding one subfolder per category\n",
        "\n",
        "    description: string or unicode, optional (default=None)\n",
        "        A paragraph describing the characteristic of the dataset: its source,\n",
        "        reference, etc.\n",
        "\n",
        "    categories : A collection of strings or None, optional (default=None)\n",
        "        If None (default), load all the categories.\n",
        "        If not None, list of category names to load (other categories ignored).\n",
        "\n",
        "    load_content : boolean, optional (default=True)\n",
        "        Whether to load or not the content of the different files. If\n",
        "        true a 'data' attribute containing the text information is present\n",
        "        in the data structure returned. If not, a filenames attribute\n",
        "        gives the path to the files.\n",
        "\n",
        "    encoding : string or None (default is None)\n",
        "        If None, do not try to decode the content of the files (e.g. for\n",
        "        images or other non-text content).\n",
        "        If not None, encoding to use to decode text files to Unicode if\n",
        "        load_content is True.\n",
        "\n",
        "    decode_error: {'strict', 'ignore', 'replace'}, optional\n",
        "        Instruction on what to do if a byte sequence is given to analyze that\n",
        "        contains characters not of the given `encoding`. Passed as keyword\n",
        "        argument 'errors' to bytes.decode.\n",
        "\n",
        "    shuffle : bool, optional (default=True)\n",
        "        Whether or not to shuffle the data: might be important for models that\n",
        "        make the assumption that the samples are independent and identically\n",
        "        distributed (i.i.d.), such as stochastic gradient descent.\n",
        "\n",
        "    random_state : int, RandomState instance or None, optional (default=0)\n",
        "        If int, random_state is the seed used by the random number generator;\n",
        "        If RandomState instance, random_state is the random number generator;\n",
        "        If None, the random number generator is the RandomState instance used\n",
        "        by `np.random`.\n",
        "\n",
        "    Returns\n",
        "    -------\n",
        "    data : Bunch\n",
        "        Dictionary-like object, the interesting attributes are: either\n",
        "        data, the raw text data to learn, or 'filenames', the files\n",
        "        holding it, 'target', the classification labels (integer index),\n",
        "        'target_names', the meaning of the labels, and 'DESCR', the full\n",
        "        description of the dataset.\n",
        "    \n"
       ]
      }
     ],
     "prompt_number": 9
    },
    {
     "cell_type": "code",
     "collapsed": false,
     "input": [
      "all_twenty_train = load_files('datasets/20news-bydate-train/',\n",
      "  encoding='latin-1', random_state=42)\n",
      "all_twenty_test = load_files('datasets/20news-bydate-test/',\n",
      "    encoding='latin-1', random_state=42)"
     ],
     "language": "python",
     "metadata": {
      "slideshow": {
       "slide_type": "-"
      }
     },
     "outputs": [],
     "prompt_number": 10
    },
    {
     "cell_type": "code",
     "collapsed": false,
     "input": [
      "all_target_names = all_twenty_train.target_names\n",
      "all_target_names"
     ],
     "language": "python",
     "metadata": {
      "slideshow": {
       "slide_type": "subslide"
      }
     },
     "outputs": [
      {
       "metadata": {},
       "output_type": "pyout",
       "prompt_number": 11,
       "text": [
        "['alt.atheism',\n",
        " 'comp.graphics',\n",
        " 'comp.os.ms-windows.misc',\n",
        " 'comp.sys.ibm.pc.hardware',\n",
        " 'comp.sys.mac.hardware',\n",
        " 'comp.windows.x',\n",
        " 'misc.forsale',\n",
        " 'rec.autos',\n",
        " 'rec.motorcycles',\n",
        " 'rec.sport.baseball',\n",
        " 'rec.sport.hockey',\n",
        " 'sci.crypt',\n",
        " 'sci.electronics',\n",
        " 'sci.med',\n",
        " 'sci.space',\n",
        " 'soc.religion.christian',\n",
        " 'talk.politics.guns',\n",
        " 'talk.politics.mideast',\n",
        " 'talk.politics.misc',\n",
        " 'talk.religion.misc']"
       ]
      }
     ],
     "prompt_number": 11
    },
    {
     "cell_type": "code",
     "collapsed": false,
     "input": [
      "all_twenty_train.target"
     ],
     "language": "python",
     "metadata": {
      "slideshow": {
       "slide_type": "subslide"
      }
     },
     "outputs": [
      {
       "metadata": {},
       "output_type": "pyout",
       "prompt_number": 12,
       "text": [
        "array([12,  6,  9, ...,  9,  1, 12])"
       ]
      }
     ],
     "prompt_number": 12
    },
    {
     "cell_type": "code",
     "collapsed": false,
     "input": [
      "all_twenty_train.target.shape"
     ],
     "language": "python",
     "metadata": {
      "slideshow": {
       "slide_type": "fragment"
      }
     },
     "outputs": [
      {
       "metadata": {},
       "output_type": "pyout",
       "prompt_number": 13,
       "text": [
        "(11314,)"
       ]
      }
     ],
     "prompt_number": 13
    },
    {
     "cell_type": "code",
     "collapsed": false,
     "input": [
      "all_twenty_test.target.shape"
     ],
     "language": "python",
     "metadata": {
      "slideshow": {
       "slide_type": "fragment"
      }
     },
     "outputs": [
      {
       "metadata": {},
       "output_type": "pyout",
       "prompt_number": 14,
       "text": [
        "(7532,)"
       ]
      }
     ],
     "prompt_number": 14
    },
    {
     "cell_type": "code",
     "collapsed": false,
     "input": [
      "len(all_twenty_train.data)"
     ],
     "language": "python",
     "metadata": {
      "slideshow": {
       "slide_type": "fragment"
      }
     },
     "outputs": [
      {
       "metadata": {},
       "output_type": "pyout",
       "prompt_number": 15,
       "text": [
        "11314"
       ]
      }
     ],
     "prompt_number": 15
    },
    {
     "cell_type": "code",
     "collapsed": false,
     "input": [
      "type(all_twenty_train.data[0])"
     ],
     "language": "python",
     "metadata": {
      "slideshow": {
       "slide_type": "fragment"
      }
     },
     "outputs": [
      {
       "metadata": {},
       "output_type": "pyout",
       "prompt_number": 16,
       "text": [
        "unicode"
       ]
      }
     ],
     "prompt_number": 16
    },
    {
     "cell_type": "code",
     "collapsed": false,
     "input": [
      "def display_sample(i, dataset):\n",
      "    print(\"Class name: \" + dataset.target_names[dataset.target[i]])\n",
      "    print(\"Text content:\\n\")\n",
      "    print(dataset.data[i])"
     ],
     "language": "python",
     "metadata": {
      "slideshow": {
       "slide_type": "subslide"
      }
     },
     "outputs": [],
     "prompt_number": 17
    },
    {
     "cell_type": "code",
     "collapsed": false,
     "input": [
      "display_sample(0, all_twenty_train)"
     ],
     "language": "python",
     "metadata": {
      "slideshow": {
       "slide_type": "-"
      }
     },
     "outputs": [
      {
       "output_type": "stream",
       "stream": "stdout",
       "text": [
        "Class name: sci.electronics\n",
        "Text content:\n",
        "\n",
        "From: wtm@uhura.neoucom.edu (Bill Mayhew)\n",
        "Subject: Re: How to the disks copy protected.\n",
        "Organization: Northeastern Ohio Universities College of Medicine\n",
        "Lines: 23\n",
        "\n",
        "Write a good manual to go with the software.  The hassle of\n",
        "photocopying the manual is offset by simplicity of purchasing\n",
        "the package for only $15.  Also, consider offering an inexpensive\n",
        "but attractive perc for registered users.  For instance, a coffee\n",
        "mug.  You could produce and mail the incentive for a couple of\n",
        "dollars, so consider pricing the product at $17.95.\n",
        "\n",
        "You're lucky if only 20% of the instances of your program in use\n",
        "are non-licensed users.\n",
        "\n",
        "The best approach is to estimate your loss and accomodate that into\n",
        "your price structure.  Sure it hurts legitimate users, but too bad.\n",
        "Retailers have to charge off loss to shoplifters onto paying\n",
        "customers; the software industry is the same.\n",
        "\n",
        "Unless your product is exceptionally unique, using an ostensibly\n",
        "copy-proof disk will just send your customers to the competetion.\n",
        "\n",
        "\n",
        "-- \n",
        "Bill Mayhew      NEOUCOM Computer Services Department\n",
        "Rootstown, OH  44272-9995  USA    phone: 216-325-2511\n",
        "wtm@uhura.neoucom.edu (140.220.1.1)    146.580: N8WED\n",
        "\n"
       ]
      }
     ],
     "prompt_number": 18
    },
    {
     "cell_type": "code",
     "collapsed": false,
     "input": [
      "display_sample(1, all_twenty_train)"
     ],
     "language": "python",
     "metadata": {
      "slideshow": {
       "slide_type": "subslide"
      }
     },
     "outputs": [
      {
       "output_type": "stream",
       "stream": "stdout",
       "text": [
        "Class name: misc.forsale\n",
        "Text content:\n",
        "\n",
        "From: andy@SAIL.Stanford.EDU (Andy Freeman)\n",
        "Subject: Re: Catalog of Hard-to-Find PC Enhancements (Repost)\n",
        "Organization: Computer Science Department,  Stanford University.\n",
        "Lines: 33\n",
        "\n",
        ">andy@SAIL.Stanford.EDU (Andy Freeman) writes:\n",
        ">> >In article <C5ELME.4z4@unix.portal.com> jdoll@shell.portal.com (Joe Doll) wr\n",
        ">> >>   \"The Catalog of Personal Computing Tools for Engineers and Scien-\n",
        ">> >>   tists\" lists hardware cards and application software packages for \n",
        ">> >>   PC/XT/AT/PS/2 class machines.  Focus is on engineering and scien-\n",
        ">> >>   tific applications of PCs, such as data acquisition/control, \n",
        ">> >>   design automation, and data analysis and presentation.  \n",
        ">> >\n",
        ">> >>   If you would like a free copy, reply with your (U. S. Postal) \n",
        ">> >>   mailing address.\n",
        ">> \n",
        ">> Don't bother - it never comes.  It's a cheap trick for building a\n",
        ">> mailing list to sell if my junk mail flow is any indication.\n",
        ">> \n",
        ">> -andy sent his address months ago\n",
        ">\n",
        ">Perhaps we can get Portal to nuke this weasal.  I never received a \n",
        ">catalog either.  If that person doesn't respond to a growing flame, then \n",
        ">we can assume that we'yall look forward to lotsa junk mail.\n",
        "\n",
        "I don't want him nuked, I want him to be honest.  The junk mail has\n",
        "been much more interesting than the promised catalog.  If I'd known\n",
        "what I was going to get, I wouldn't have hesitated.  I wouldn't be\n",
        "surprised if there were other folks who looked at the ad and said\n",
        "\"nope\" but who would be very interested in the junk mail that results.\n",
        "Similarly, there are people who wanted the advertised catalog who\n",
        "aren't happy with the junk they got instead.\n",
        "\n",
        "The folks buying the mailing lists would prefer an honest ad, and\n",
        "so would the people reading it.\n",
        "\n",
        "-andy\n",
        "--\n",
        "\n"
       ]
      }
     ],
     "prompt_number": 19
    },
    {
     "cell_type": "markdown",
     "metadata": {
      "slideshow": {
       "slide_type": "subslide"
      }
     },
     "source": [
      "Let's compute the (uncompressed, in-memory) size of the training and test sets in MB assuming an 8-bit encoding (in this case, all chars can be encoded using the latin-1 charset)."
     ]
    },
    {
     "cell_type": "code",
     "collapsed": false,
     "input": [
      "def text_size(text, charset='iso-8859-1'):\n",
      "    return len(text.encode(charset)) * 8 * 1e-6\n",
      "\n",
      "train_size_mb = sum(text_size(text) for text in all_twenty_train.data) \n",
      "test_size_mb = sum(text_size(text) for text in all_twenty_test.data)\n",
      "\n",
      "print(\"Training set size: {0} MB\".format(int(train_size_mb)))\n",
      "print(\"Testing set size: {0} MB\".format(int(test_size_mb)))"
     ],
     "language": "python",
     "metadata": {
      "slideshow": {
       "slide_type": "-"
      }
     },
     "outputs": [
      {
       "output_type": "stream",
       "stream": "stdout",
       "text": [
        "Training set size: 176 MB\n",
        "Testing set size: 110 MB\n"
       ]
      }
     ],
     "prompt_number": 20
    },
    {
     "cell_type": "markdown",
     "metadata": {
      "slideshow": {
       "slide_type": "fragment"
      }
     },
     "source": [
      "If we only consider a small subset of the 4 categories selected from the initial example:"
     ]
    },
    {
     "cell_type": "code",
     "collapsed": false,
     "input": [
      "train_small_size_mb = sum(text_size(text) for text in twenty_train_small.data) \n",
      "test_small_size_mb = sum(text_size(text) for text in twenty_test_small.data)\n",
      "\n",
      "print(\"Training set size: {0} MB\".format(int(train_small_size_mb)))\n",
      "print(\"Testing set size: {0} MB\".format(int(test_small_size_mb)))"
     ],
     "language": "python",
     "metadata": {
      "slideshow": {
       "slide_type": "fragment"
      }
     },
     "outputs": [
      {
       "output_type": "stream",
       "stream": "stdout",
       "text": [
        "Training set size: 31 MB\n",
        "Testing set size: 22 MB\n"
       ]
      }
     ],
     "prompt_number": 21
    },
    {
     "cell_type": "heading",
     "level": 3,
     "metadata": {
      "slideshow": {
       "slide_type": "slide"
      }
     },
     "source": [
      "Extracting Text Features"
     ]
    },
    {
     "cell_type": "markdown",
     "metadata": {},
     "source": [
      "* Terms that occur in only a few documents are often more valuable than ones that occur in many \u2013 inverse document frequency (${IDF}_j$)\n",
      "* The more often a term occurs in a document, the more likely it is to be important for that document \u2013 term frequency (${TF}_{ij}$)"
     ]
    },
    {
     "cell_type": "code",
     "collapsed": false,
     "input": [
      "from sklearn.feature_extraction.text import TfidfVectorizer\n",
      "\n",
      "TfidfVectorizer()"
     ],
     "language": "python",
     "metadata": {
      "slideshow": {
       "slide_type": "subslide"
      }
     },
     "outputs": [
      {
       "metadata": {},
       "output_type": "pyout",
       "prompt_number": 22,
       "text": [
        "TfidfVectorizer(analyzer=u'word', binary=False, charset=None,\n",
        "        charset_error=None, decode_error=u'strict',\n",
        "        dtype=<type 'numpy.int64'>, encoding=u'utf-8', input=u'content',\n",
        "        lowercase=True, max_df=1.0, max_features=None, min_df=1,\n",
        "        ngram_range=(1, 1), norm=u'l2', preprocessor=None, smooth_idf=True,\n",
        "        stop_words=None, strip_accents=None, sublinear_tf=False,\n",
        "        token_pattern=u'(?u)\\\\b\\\\w\\\\w+\\\\b', tokenizer=None, use_idf=True,\n",
        "        vocabulary=None)"
       ]
      }
     ],
     "prompt_number": 22
    },
    {
     "cell_type": "code",
     "collapsed": false,
     "input": [
      "vectorizer = TfidfVectorizer(min_df=1)\n",
      "\n",
      "%time X_train_small = vectorizer.fit_transform(twenty_train_small.data)"
     ],
     "language": "python",
     "metadata": {
      "slideshow": {
       "slide_type": "fragment"
      }
     },
     "outputs": [
      {
       "output_type": "stream",
       "stream": "stdout",
       "text": [
        "CPU times: user 1.19 s, sys: 59.4 ms, total: 1.25 s\n",
        "Wall time: 1.45 s\n"
       ]
      }
     ],
     "prompt_number": 23
    },
    {
     "cell_type": "markdown",
     "metadata": {
      "slideshow": {
       "slide_type": "subslide"
      }
     },
     "source": [
      "The results is not a `numpy.array` but instead a `scipy.sparse` matrix. _(Similar to the DocumentTermMatrix in R's `tm` library.)_ This datastructure is quite similar to a 2D numpy array but it does not store the zeros."
     ]
    },
    {
     "cell_type": "code",
     "collapsed": false,
     "input": [
      "X_train_small"
     ],
     "language": "python",
     "metadata": {
      "slideshow": {
       "slide_type": "-"
      }
     },
     "outputs": [
      {
       "metadata": {},
       "output_type": "pyout",
       "prompt_number": 24,
       "text": [
        "<2034x34118 sparse matrix of type '<type 'numpy.float64'>'\n",
        "\twith 323433 stored elements in Compressed Sparse Row format>"
       ]
      }
     ],
     "prompt_number": 24
    },
    {
     "cell_type": "markdown",
     "metadata": {
      "slideshow": {
       "slide_type": "-"
      }
     },
     "source": [
      "scipy.sparse matrices also have a shape attribute to access the dimensions:"
     ]
    },
    {
     "cell_type": "code",
     "collapsed": false,
     "input": [
      "n_samples, n_features = X_train_small.shape"
     ],
     "language": "python",
     "metadata": {
      "slideshow": {
       "slide_type": "-"
      }
     },
     "outputs": [],
     "prompt_number": 25
    },
    {
     "cell_type": "markdown",
     "metadata": {
      "slideshow": {
       "slide_type": "-"
      }
     },
     "source": [
      "This dataset has around 2000 samples (the rows of the data matrix):"
     ]
    },
    {
     "cell_type": "code",
     "collapsed": false,
     "input": [
      "n_samples"
     ],
     "language": "python",
     "metadata": {
      "slideshow": {
       "slide_type": "-"
      }
     },
     "outputs": [
      {
       "metadata": {},
       "output_type": "pyout",
       "prompt_number": 26,
       "text": [
        "2034"
       ]
      }
     ],
     "prompt_number": 26
    },
    {
     "cell_type": "markdown",
     "metadata": {
      "slideshow": {
       "slide_type": "-"
      }
     },
     "source": [
      "This is the same value as the number of strings in the original list of text documents:"
     ]
    },
    {
     "cell_type": "code",
     "collapsed": false,
     "input": [
      "len(twenty_train_small.data)"
     ],
     "language": "python",
     "metadata": {
      "slideshow": {
       "slide_type": "-"
      }
     },
     "outputs": [
      {
       "metadata": {},
       "output_type": "pyout",
       "prompt_number": 27,
       "text": [
        "2034"
       ]
      }
     ],
     "prompt_number": 27
    },
    {
     "cell_type": "markdown",
     "metadata": {
      "slideshow": {
       "slide_type": "subslide"
      }
     },
     "source": [
      "The columns represent the individual token occurrences:"
     ]
    },
    {
     "cell_type": "code",
     "collapsed": false,
     "input": [
      "n_features"
     ],
     "language": "python",
     "metadata": {
      "slideshow": {
       "slide_type": "-"
      }
     },
     "outputs": [
      {
       "metadata": {},
       "output_type": "pyout",
       "prompt_number": 28,
       "text": [
        "34118"
       ]
      }
     ],
     "prompt_number": 28
    },
    {
     "cell_type": "markdown",
     "metadata": {
      "slideshow": {
       "slide_type": "-"
      }
     },
     "source": [
      "This number is the size of the vocabulary of the model extracted during fit in a Python dictionary:"
     ]
    },
    {
     "cell_type": "code",
     "collapsed": false,
     "input": [
      "type(vectorizer.vocabulary_)"
     ],
     "language": "python",
     "metadata": {
      "slideshow": {
       "slide_type": "-"
      }
     },
     "outputs": [
      {
       "metadata": {},
       "output_type": "pyout",
       "prompt_number": 29,
       "text": [
        "dict"
       ]
      }
     ],
     "prompt_number": 29
    },
    {
     "cell_type": "code",
     "collapsed": false,
     "input": [
      "len(vectorizer.vocabulary_)"
     ],
     "language": "python",
     "metadata": {
      "slideshow": {
       "slide_type": "-"
      }
     },
     "outputs": [
      {
       "metadata": {},
       "output_type": "pyout",
       "prompt_number": 30,
       "text": [
        "34118"
       ]
      }
     ],
     "prompt_number": 30
    },
    {
     "cell_type": "markdown",
     "metadata": {
      "slideshow": {
       "slide_type": "subslide"
      }
     },
     "source": [
      "The keys of the `vocabulary_` attribute are also called feature names and can be accessed as a list of strings."
     ]
    },
    {
     "cell_type": "code",
     "collapsed": false,
     "input": [
      "len(vectorizer.get_feature_names())"
     ],
     "language": "python",
     "metadata": {
      "slideshow": {
       "slide_type": "-"
      }
     },
     "outputs": [
      {
       "metadata": {},
       "output_type": "pyout",
       "prompt_number": 31,
       "text": [
        "34118"
       ]
      }
     ],
     "prompt_number": 31
    },
    {
     "cell_type": "markdown",
     "metadata": {
      "slideshow": {
       "slide_type": "fragment"
      }
     },
     "source": [
      "Here are the first 10 elements (sorted in lexicographical order):"
     ]
    },
    {
     "cell_type": "code",
     "collapsed": false,
     "input": [
      "vectorizer.get_feature_names()[:10]"
     ],
     "language": "python",
     "metadata": {
      "slideshow": {
       "slide_type": "fragment"
      }
     },
     "outputs": [
      {
       "metadata": {},
       "output_type": "pyout",
       "prompt_number": 32,
       "text": [
        "[u'00',\n",
        " u'000',\n",
        " u'0000',\n",
        " u'00000',\n",
        " u'000000',\n",
        " u'000005102000',\n",
        " u'000021',\n",
        " u'000062david42',\n",
        " u'0000vec',\n",
        " u'0001']"
       ]
      }
     ],
     "prompt_number": 32
    },
    {
     "cell_type": "markdown",
     "metadata": {
      "slideshow": {
       "slide_type": "subslide"
      }
     },
     "source": [
      "Let's have a look at the features from the middle:"
     ]
    },
    {
     "cell_type": "code",
     "collapsed": false,
     "input": [
      "vectorizer.get_feature_names()[n_features / 2:n_features / 2 + 10]"
     ],
     "language": "python",
     "metadata": {
      "slideshow": {
       "slide_type": "fragment"
      }
     },
     "outputs": [
      {
       "metadata": {},
       "output_type": "pyout",
       "prompt_number": 33,
       "text": [
        "[u'inadequate',\n",
        " u'inala',\n",
        " u'inalienable',\n",
        " u'inane',\n",
        " u'inanimate',\n",
        " u'inapplicable',\n",
        " u'inappropriate',\n",
        " u'inappropriately',\n",
        " u'inaudible',\n",
        " u'inbreeding']"
       ]
      }
     ],
     "prompt_number": 33
    },
    {
     "cell_type": "heading",
     "level": 3,
     "metadata": {
      "slideshow": {
       "slide_type": "slide"
      }
     },
     "source": [
      "Training a Classifier on Text Features"
     ]
    },
    {
     "cell_type": "markdown",
     "metadata": {
      "slideshow": {
       "slide_type": "subslide"
      }
     },
     "source": [
      "We have previously extracted a vector representation of the training corpus and put it into a variable name `X_train_small`. To train a supervised model, in this case a classifier, we also need "
     ]
    },
    {
     "cell_type": "code",
     "collapsed": false,
     "input": [
      "y_train_small = twenty_train_small.target"
     ],
     "language": "python",
     "metadata": {
      "slideshow": {
       "slide_type": "-"
      }
     },
     "outputs": [],
     "prompt_number": 34
    },
    {
     "cell_type": "code",
     "collapsed": false,
     "input": [
      "y_train_small.shape"
     ],
     "language": "python",
     "metadata": {
      "slideshow": {
       "slide_type": "-"
      }
     },
     "outputs": [
      {
       "metadata": {},
       "output_type": "pyout",
       "prompt_number": 35,
       "text": [
        "(2034,)"
       ]
      }
     ],
     "prompt_number": 35
    },
    {
     "cell_type": "markdown",
     "metadata": {
      "slideshow": {
       "slide_type": "fragment"
      }
     },
     "source": [
      "We can shape that we have the same number of samples for the input data and the labels:"
     ]
    },
    {
     "cell_type": "code",
     "collapsed": false,
     "input": [
      "X_train_small.shape[0] == y_train_small.shape[0]"
     ],
     "language": "python",
     "metadata": {
      "slideshow": {
       "slide_type": "fragment"
      }
     },
     "outputs": [
      {
       "metadata": {},
       "output_type": "pyout",
       "prompt_number": 36,
       "text": [
        "True"
       ]
      }
     ],
     "prompt_number": 36
    },
    {
     "cell_type": "markdown",
     "metadata": {
      "slideshow": {
       "slide_type": "subslide"
      }
     },
     "source": [
      "We can now train a classifier, for instance a Multinomial Naive Bayesian classifier:"
     ]
    },
    {
     "cell_type": "code",
     "collapsed": false,
     "input": [
      "from sklearn.naive_bayes import MultinomialNB\n",
      "\n",
      "clf = MultinomialNB(alpha=0.1)\n",
      "clf"
     ],
     "language": "python",
     "metadata": {
      "slideshow": {
       "slide_type": "-"
      }
     },
     "outputs": [
      {
       "metadata": {},
       "output_type": "pyout",
       "prompt_number": 37,
       "text": [
        "MultinomialNB(alpha=0.1, class_prior=None, fit_prior=True)"
       ]
      }
     ],
     "prompt_number": 37
    },
    {
     "cell_type": "code",
     "collapsed": false,
     "input": [
      "clf.fit(X_train_small, y_train_small)"
     ],
     "language": "python",
     "metadata": {
      "slideshow": {
       "slide_type": "-"
      }
     },
     "outputs": [
      {
       "metadata": {},
       "output_type": "pyout",
       "prompt_number": 38,
       "text": [
        "MultinomialNB(alpha=0.1, class_prior=None, fit_prior=True)"
       ]
      }
     ],
     "prompt_number": 38
    },
    {
     "cell_type": "markdown",
     "metadata": {
      "slideshow": {
       "slide_type": "subslide"
      }
     },
     "source": [
      "We can now evaluate the classifier on the testing set. Let's first use the builtin score function, which is the rate of correct classification in the test set:"
     ]
    },
    {
     "cell_type": "code",
     "collapsed": false,
     "input": [
      "X_test_small = vectorizer.transform(twenty_test_small.data)\n",
      "y_test_small = twenty_test_small.target"
     ],
     "language": "python",
     "metadata": {
      "slideshow": {
       "slide_type": "-"
      }
     },
     "outputs": [],
     "prompt_number": 39
    },
    {
     "cell_type": "code",
     "collapsed": false,
     "input": [
      "X_test_small.shape"
     ],
     "language": "python",
     "metadata": {
      "slideshow": {
       "slide_type": "-"
      }
     },
     "outputs": [
      {
       "metadata": {},
       "output_type": "pyout",
       "prompt_number": 40,
       "text": [
        "(1353, 34118)"
       ]
      }
     ],
     "prompt_number": 40
    },
    {
     "cell_type": "code",
     "collapsed": false,
     "input": [
      "y_test_small.shape"
     ],
     "language": "python",
     "metadata": {
      "slideshow": {
       "slide_type": "-"
      }
     },
     "outputs": [
      {
       "metadata": {},
       "output_type": "pyout",
       "prompt_number": 41,
       "text": [
        "(1353,)"
       ]
      }
     ],
     "prompt_number": 41
    },
    {
     "cell_type": "code",
     "collapsed": false,
     "input": [
      "clf.score(X_test_small, y_test_small)"
     ],
     "language": "python",
     "metadata": {
      "slideshow": {
       "slide_type": "-"
      }
     },
     "outputs": [
      {
       "metadata": {},
       "output_type": "pyout",
       "prompt_number": 42,
       "text": [
        "0.89652623798965259"
       ]
      }
     ],
     "prompt_number": 42
    },
    {
     "cell_type": "markdown",
     "metadata": {
      "slideshow": {
       "slide_type": "notes"
      }
     },
     "source": [
      "We can also compute the score on the train set and observe that the model is both overfitting and underfitting a bit at the same time:"
     ]
    },
    {
     "cell_type": "code",
     "collapsed": false,
     "input": [
      "clf.score(X_train_small, y_train_small)"
     ],
     "language": "python",
     "metadata": {
      "slideshow": {
       "slide_type": "fragment"
      }
     },
     "outputs": [
      {
       "metadata": {},
       "output_type": "pyout",
       "prompt_number": 43,
       "text": [
        "0.99262536873156337"
       ]
      }
     ],
     "prompt_number": 43
    },
    {
     "cell_type": "heading",
     "level": 3,
     "metadata": {},
     "source": [
      "Alternative evaluation metrics"
     ]
    },
    {
     "cell_type": "markdown",
     "metadata": {},
     "source": [
      "Na\u00efve Bayes is a probabilistic models: instead of just predicting a binary outcome (alt.atheism or talk.religion) given the input features it can also estimates the posterior probability of the outcome given the input features using the `predict_proba` method:"
     ]
    },
    {
     "cell_type": "code",
     "collapsed": false,
     "input": [
      "target_predicted_proba = clf.predict_proba(X_test_small)\n",
      "target_predicted_proba[:5]"
     ],
     "language": "python",
     "metadata": {},
     "outputs": [
      {
       "metadata": {},
       "output_type": "pyout",
       "prompt_number": 44,
       "text": [
        "array([[  8.57020798e-03,   9.79264055e-01,   7.39862543e-03,\n",
        "          4.76711125e-03],\n",
        "       [  4.93074898e-06,   7.23598156e-06,   9.99982629e-01,\n",
        "          5.20395904e-06],\n",
        "       [  5.53894730e-02,   4.64943864e-05,   3.61862263e-05,\n",
        "          9.44527846e-01],\n",
        "       [  9.95389581e-01,   3.33416235e-05,   3.36336051e-05,\n",
        "          4.54344426e-03],\n",
        "       [  2.61756163e-05,   1.95881223e-04,   9.99649240e-01,\n",
        "          1.28702687e-04]])"
       ]
      }
     ],
     "prompt_number": 44
    },
    {
     "cell_type": "markdown",
     "metadata": {},
     "source": [
      "By default the decision threshold is 0.5: if we vary the decision threshold from 0 to 1 we could generate a family of binary classifier models that address all the possible trade offs between false positive and false negative prediction errors.\n",
      "\n",
      "We can summarize the performance of a binary classifier for all the possible thresholds by plotting the ROC curves and quantifying the area under the curve (AUC):"
     ]
    },
    {
     "cell_type": "code",
     "collapsed": false,
     "input": [
      "def plot_roc_curve(target_test, target_predicted_proba, categories):\n",
      "    from sklearn.metrics import roc_curve\n",
      "    from sklearn.metrics import auc\n",
      "    \n",
      "    for pos_label, category in enumerate(categories):\n",
      "        fpr, tpr, thresholds = roc_curve(target_test, target_predicted_proba[:, pos_label], pos_label)\n",
      "        roc_auc = auc(fpr, tpr)\n",
      "        plt.plot(fpr, tpr, label='{} ROC curve (area = {:.3f})'.format(category, roc_auc))\n",
      "    \n",
      "    plt.plot([0, 1], [0, 1], 'k--')  # random predictions curve\n",
      "    plt.xlim([0.0, 1.0])\n",
      "    plt.ylim([0.0, 1.0])\n",
      "    plt.xlabel('False Positive Rate or (1 - Specifity)')\n",
      "    plt.ylabel('True Positive Rate or (Sensitivity)')\n",
      "    plt.title('Receiver Operating Characteristic')\n",
      "    plt.legend(loc=\"lower right\")"
     ],
     "language": "python",
     "metadata": {},
     "outputs": [],
     "prompt_number": 45
    },
    {
     "cell_type": "code",
     "collapsed": false,
     "input": [
      "plot_roc_curve(y_test_small, target_predicted_proba, twenty_test_small.target_names)"
     ],
     "language": "python",
     "metadata": {},
     "outputs": [
      {
       "metadata": {},
       "output_type": "display_data",
       "png": "[encoded data removed]",
       "text": [
        "<matplotlib.figure.Figure at 0x1068ee990>"
       ]
      }
     ],
     "prompt_number": 46
    },
    {
     "cell_type": "markdown",
     "metadata": {},
     "source": [
      "Here the area under ROC curve ranges between .963 and .974. The ROC-AUC score of a random model is expected to 0.5 on average while the accuracy score of a random model depends on the class imbalance of the data. ROC-AUC can be seen as a way to callibrate the predictive accuracy of a model against class imbalance."
     ]
    },
    {
     "cell_type": "heading",
     "level": 3,
     "metadata": {
      "slideshow": {
       "slide_type": "slide"
      }
     },
     "source": [
      "Introspecting the Behavior of the Text Vectorizer"
     ]
    },
    {
     "cell_type": "markdown",
     "metadata": {
      "slideshow": {
       "slide_type": "subslide"
      }
     },
     "source": [
      "The text vectorizer has many parameters to customize it's behavior, in particular how it extracts tokens:"
     ]
    },
    {
     "cell_type": "code",
     "collapsed": false,
     "input": [
      "TfidfVectorizer()"
     ],
     "language": "python",
     "metadata": {
      "slideshow": {
       "slide_type": "-"
      }
     },
     "outputs": [
      {
       "metadata": {},
       "output_type": "pyout",
       "prompt_number": 47,
       "text": [
        "TfidfVectorizer(analyzer=u'word', binary=False, charset=None,\n",
        "        charset_error=None, decode_error=u'strict',\n",
        "        dtype=<type 'numpy.int64'>, encoding=u'utf-8', input=u'content',\n",
        "        lowercase=True, max_df=1.0, max_features=None, min_df=1,\n",
        "        ngram_range=(1, 1), norm=u'l2', preprocessor=None, smooth_idf=True,\n",
        "        stop_words=None, strip_accents=None, sublinear_tf=False,\n",
        "        token_pattern=u'(?u)\\\\b\\\\w\\\\w+\\\\b', tokenizer=None, use_idf=True,\n",
        "        vocabulary=None)"
       ]
      }
     ],
     "prompt_number": 47
    },
    {
     "cell_type": "code",
     "collapsed": false,
     "input": [
      "print(TfidfVectorizer.__doc__)"
     ],
     "language": "python",
     "metadata": {
      "slideshow": {
       "slide_type": "skip"
      }
     },
     "outputs": [
      {
       "output_type": "stream",
       "stream": "stdout",
       "text": [
        "Convert a collection of raw documents to a matrix of TF-IDF features.\n",
        "\n",
        "    Equivalent to CountVectorizer followed by TfidfTransformer.\n",
        "\n",
        "    Parameters\n",
        "    ----------\n",
        "    input : string {'filename', 'file', 'content'}\n",
        "        If filename, the sequence passed as an argument to fit is\n",
        "        expected to be a list of filenames that need reading to fetch\n",
        "        the raw content to analyze.\n",
        "\n",
        "        If 'file', the sequence items must have 'read' method (file-like\n",
        "        object) it is called to fetch the bytes in memory.\n",
        "\n",
        "        Otherwise the input is expected to be the sequence strings or\n",
        "        bytes items are expected to be analyzed directly.\n",
        "\n",
        "    encoding : string, 'utf-8' by default.\n",
        "        If bytes or files are given to analyze, this encoding is used to\n",
        "        decode.\n",
        "\n",
        "    decode_error : {'strict', 'ignore', 'replace'}\n",
        "        Instruction on what to do if a byte sequence is given to analyze that\n",
        "        contains characters not of the given `encoding`. By default, it is\n",
        "        'strict', meaning that a UnicodeDecodeError will be raised. Other\n",
        "        values are 'ignore' and 'replace'.\n",
        "\n",
        "    strip_accents : {'ascii', 'unicode', None}\n",
        "        Remove accents during the preprocessing step.\n",
        "        'ascii' is a fast method that only works on characters that have\n",
        "        an direct ASCII mapping.\n",
        "        'unicode' is a slightly slower method that works on any characters.\n",
        "        None (default) does nothing.\n",
        "\n",
        "    analyzer : string, {'word', 'char'} or callable\n",
        "        Whether the feature should be made of word or character n-grams.\n",
        "\n",
        "        If a callable is passed it is used to extract the sequence of features\n",
        "        out of the raw, unprocessed input.\n",
        "\n",
        "    preprocessor : callable or None (default)\n",
        "        Override the preprocessing (string transformation) stage while\n",
        "        preserving the tokenizing and n-grams generation steps.\n",
        "\n",
        "    tokenizer : callable or None (default)\n",
        "        Override the string tokenization step while preserving the\n",
        "        preprocessing and n-grams generation steps.\n",
        "\n",
        "    ngram_range : tuple (min_n, max_n)\n",
        "        The lower and upper boundary of the range of n-values for different\n",
        "        n-grams to be extracted. All values of n such that min_n <= n <= max_n\n",
        "        will be used.\n",
        "\n",
        "    stop_words : string {'english'}, list, or None (default)\n",
        "        If a string, it is passed to _check_stop_list and the appropriate stop\n",
        "        list is returned. 'english' is currently the only supported string\n",
        "        value.\n",
        "\n",
        "        If a list, that list is assumed to contain stop words, all of which\n",
        "        will be removed from the resulting tokens.\n",
        "\n",
        "        If None, no stop words will be used. max_df can be set to a value\n",
        "        in the range [0.7, 1.0) to automatically detect and filter stop\n",
        "        words based on intra corpus document frequency of terms.\n",
        "\n",
        "    lowercase : boolean, default True\n",
        "        Convert all characters to lowercase befor tokenizing.\n",
        "\n",
        "    token_pattern : string\n",
        "        Regular expression denoting what constitutes a \"token\", only used\n",
        "        if `tokenize == 'word'`. The default regexp select tokens of 2\n",
        "        or more letters characters (punctuation is completely ignored\n",
        "        and always treated as a token separator).\n",
        "\n",
        "    max_df : float in range [0.0, 1.0] or int, optional, 1.0 by default\n",
        "        When building the vocabulary ignore terms that have a term frequency\n",
        "        strictly higher than the given threshold (corpus specific stop words).\n",
        "        If float, the parameter represents a proportion of documents, integer\n",
        "        absolute counts.\n",
        "        This parameter is ignored if vocabulary is not None.\n",
        "\n",
        "    min_df : float in range [0.0, 1.0] or int, optional, 1 by default\n",
        "        When building the vocabulary ignore terms that have a term frequency\n",
        "        strictly lower than the given threshold.\n",
        "        This value is also called cut-off in the literature.\n",
        "        If float, the parameter represents a proportion of documents, integer\n",
        "        absolute counts.\n",
        "        This parameter is ignored if vocabulary is not None.\n",
        "\n",
        "    max_features : optional, None by default\n",
        "        If not None, build a vocabulary that only consider the top\n",
        "        max_features ordered by term frequency across the corpus.\n",
        "\n",
        "        This parameter is ignored if vocabulary is not None.\n",
        "\n",
        "    vocabulary : Mapping or iterable, optional\n",
        "        Either a Mapping (e.g., a dict) where keys are terms and values are\n",
        "        indices in the feature matrix, or an iterable over terms. If not\n",
        "        given, a vocabulary is determined from the input documents.\n",
        "\n",
        "    binary : boolean, False by default.\n",
        "        If True, all non zero counts are set to 1. This is useful for discrete\n",
        "        probabilistic models that model binary events rather than integer\n",
        "        counts.\n",
        "\n",
        "    dtype : type, optional\n",
        "        Type of the matrix returned by fit_transform() or transform().\n",
        "\n",
        "    norm : 'l1', 'l2' or None, optional\n",
        "        Norm used to normalize term vectors. None for no normalization.\n",
        "\n",
        "    use_idf : boolean, optional\n",
        "        Enable inverse-document-frequency reweighting.\n",
        "\n",
        "    smooth_idf : boolean, optional\n",
        "        Smooth idf weights by adding one to document frequencies, as if an\n",
        "        extra document was seen containing every term in the collection\n",
        "        exactly once. Prevents zero divisions.\n",
        "\n",
        "    sublinear_tf : boolean, optional\n",
        "        Apply sublinear tf scaling, i.e. replace tf with 1 + log(tf).\n",
        "\n",
        "    See also\n",
        "    --------\n",
        "    CountVectorizer\n",
        "        Tokenize the documents and count the occurrences of token and return\n",
        "        them as a sparse matrix\n",
        "\n",
        "    TfidfTransformer\n",
        "        Apply Term Frequency Inverse Document Frequency normalization to a\n",
        "        sparse matrix of occurrence counts.\n",
        "\n",
        "    \n"
       ]
      }
     ],
     "prompt_number": 48
    },
    {
     "cell_type": "markdown",
     "metadata": {
      "slideshow": {
       "slide_type": "subslide"
      }
     },
     "source": [
      "The easiest way to introspect what the vectorizer is actually doing for a given test of parameters is call the `vectorizer.build_analyzer()` to get an instance of the text analyzer it uses to process the text:"
     ]
    },
    {
     "cell_type": "code",
     "collapsed": false,
     "input": [
      "analyzer = TfidfVectorizer().build_analyzer()\n",
      "analyzer(\"I love scikit-learn: this is a cool Python lib!\")"
     ],
     "language": "python",
     "metadata": {
      "slideshow": {
       "slide_type": "-"
      }
     },
     "outputs": [
      {
       "metadata": {},
       "output_type": "pyout",
       "prompt_number": 49,
       "text": [
        "[u'love', u'scikit', u'learn', u'this', u'is', u'cool', u'python', u'lib']"
       ]
      }
     ],
     "prompt_number": 49
    },
    {
     "cell_type": "markdown",
     "metadata": {
      "slideshow": {
       "slide_type": "fragment"
      }
     },
     "source": [
      "You can notice that all the tokens are lowercase, that the single letter word \"I\" was dropped, and that hyphenation is used. Let's change some of that default behavior:"
     ]
    },
    {
     "cell_type": "code",
     "collapsed": false,
     "input": [
      "analyzer = TfidfVectorizer(\n",
      "    preprocessor=lambda text: text,  # disable lowercasing\n",
      "    token_pattern=ur'(?u)\\b[\\w-]+\\b', # treat hyphen as a letter\n",
      "                                      # do not exclude single letter tokens\n",
      ").build_analyzer()\n",
      "\n",
      "analyzer(\"I love scikit-learn: this is a cool Python lib!\")"
     ],
     "language": "python",
     "metadata": {
      "slideshow": {
       "slide_type": "subslide"
      }
     },
     "outputs": [
      {
       "metadata": {},
       "output_type": "pyout",
       "prompt_number": 50,
       "text": [
        "[u'I',\n",
        " u'love',\n",
        " u'scikit-learn',\n",
        " u'this',\n",
        " u'is',\n",
        " u'a',\n",
        " u'cool',\n",
        " u'Python',\n",
        " u'lib']"
       ]
      }
     ],
     "prompt_number": 50
    },
    {
     "cell_type": "markdown",
     "metadata": {
      "slideshow": {
       "slide_type": "subslide"
      }
     },
     "source": [
      "The analyzer name comes from the Lucene parlance: it wraps the sequential application of:\n",
      "\n",
      "- text preprocessing (processing the text documents as a whole, e.g. lowercasing)\n",
      "- text tokenization (splitting the document into a sequence of tokens)\n",
      "- token filtering and recombination (e.g. n-grams extraction, see later)\n",
      "\n",
      "The analyzer system of scikit-learn is much more basic than lucene's though."
     ]
    },
    {
     "cell_type": "markdown",
     "metadata": {},
     "source": [
      "**Exercise**:\n",
      "\n",
      "- Write a pre-processor callable (e.g. a python function) to remove the headers of the text a newsgroup post.\n",
      "- Vectorize the data again and measure the impact on performance of removing the header info from the dataset.\n",
      "- Do you expect the performance of the model to improve or decrease? What is the score of a uniform random classifier on the same dataset?\n",
      "\n",
      "Hint: the `TfidfVectorizer` class can accept python functions to customize the `preprocessor`, `tokenizer` or `analyzer` stages of the vectorizer.\n",
      "    \n",
      "- type `TfidfVectorizer()` alone in a cell to see the default value of the parameters\n",
      "\n",
      "- type `TfidfVectorizer.__doc__` to print the constructor parameters doc or `?` suffix operator on a any Python class or method to read the docstring or even the `??` operator to read the source code."
     ]
    },
    {
     "cell_type": "markdown",
     "metadata": {},
     "source": [
      "**Solution**:"
     ]
    },
    {
     "cell_type": "markdown",
     "metadata": {},
     "source": [
      "Let's write a Python function to strip the post headers and only retain the body (text after the first blank line):"
     ]
    },
    {
     "cell_type": "code",
     "collapsed": false,
     "input": [
      "def strip_headers(post):\n",
      "    \"\"\"Find the first blank line and drop the headers to keep the body\"\"\"\n",
      "    if '\\n\\n' in post:\n",
      "        headers, body = post.split('\\n\\n', 1)\n",
      "        return body.lower()\n",
      "    else:\n",
      "        # Unexpected post inner-structure, be conservative\n",
      "        # and keep everything\n",
      "        return post.lower()"
     ],
     "language": "python",
     "metadata": {
      "slideshow": {
       "slide_type": "-"
      }
     },
     "outputs": [],
     "prompt_number": 51
    },
    {
     "cell_type": "markdown",
     "metadata": {},
     "source": [
      "Let's try it on the first post. Here is the original post content, including the headers:"
     ]
    },
    {
     "cell_type": "code",
     "collapsed": false,
     "input": [
      "original_text = all_twenty_train.data[0]\n",
      "print(original_text)"
     ],
     "language": "python",
     "metadata": {},
     "outputs": [
      {
       "output_type": "stream",
       "stream": "stdout",
       "text": [
        "From: wtm@uhura.neoucom.edu (Bill Mayhew)\n",
        "Subject: Re: How to the disks copy protected.\n",
        "Organization: Northeastern Ohio Universities College of Medicine\n",
        "Lines: 23\n",
        "\n",
        "Write a good manual to go with the software.  The hassle of\n",
        "photocopying the manual is offset by simplicity of purchasing\n",
        "the package for only $15.  Also, consider offering an inexpensive\n",
        "but attractive perc for registered users.  For instance, a coffee\n",
        "mug.  You could produce and mail the incentive for a couple of\n",
        "dollars, so consider pricing the product at $17.95.\n",
        "\n",
        "You're lucky if only 20% of the instances of your program in use\n",
        "are non-licensed users.\n",
        "\n",
        "The best approach is to estimate your loss and accomodate that into\n",
        "your price structure.  Sure it hurts legitimate users, but too bad.\n",
        "Retailers have to charge off loss to shoplifters onto paying\n",
        "customers; the software industry is the same.\n",
        "\n",
        "Unless your product is exceptionally unique, using an ostensibly\n",
        "copy-proof disk will just send your customers to the competetion.\n",
        "\n",
        "\n",
        "-- \n",
        "Bill Mayhew      NEOUCOM Computer Services Department\n",
        "Rootstown, OH  44272-9995  USA    phone: 216-325-2511\n",
        "wtm@uhura.neoucom.edu (140.220.1.1)    146.580: N8WED\n",
        "\n"
       ]
      }
     ],
     "prompt_number": 52
    },
    {
     "cell_type": "markdown",
     "metadata": {},
     "source": [
      "Here is the result of applying our header stripping function:"
     ]
    },
    {
     "cell_type": "code",
     "collapsed": false,
     "input": [
      "text_body = strip_headers(original_text)\n",
      "print(text_body)"
     ],
     "language": "python",
     "metadata": {},
     "outputs": [
      {
       "output_type": "stream",
       "stream": "stdout",
       "text": [
        "write a good manual to go with the software.  the hassle of\n",
        "photocopying the manual is offset by simplicity of purchasing\n",
        "the package for only $15.  also, consider offering an inexpensive\n",
        "but attractive perc for registered users.  for instance, a coffee\n",
        "mug.  you could produce and mail the incentive for a couple of\n",
        "dollars, so consider pricing the product at $17.95.\n",
        "\n",
        "you're lucky if only 20% of the instances of your program in use\n",
        "are non-licensed users.\n",
        "\n",
        "the best approach is to estimate your loss and accomodate that into\n",
        "your price structure.  sure it hurts legitimate users, but too bad.\n",
        "retailers have to charge off loss to shoplifters onto paying\n",
        "customers; the software industry is the same.\n",
        "\n",
        "unless your product is exceptionally unique, using an ostensibly\n",
        "copy-proof disk will just send your customers to the competetion.\n",
        "\n",
        "\n",
        "-- \n",
        "bill mayhew      neoucom computer services department\n",
        "rootstown, oh  44272-9995  usa    phone: 216-325-2511\n",
        "wtm@uhura.neoucom.edu (140.220.1.1)    146.580: n8wed\n",
        "\n"
       ]
      }
     ],
     "prompt_number": 53
    },
    {
     "cell_type": "markdown",
     "metadata": {},
     "source": [
      "Let's plug our function in the vectorizer and retrain a naive Bayes classifier (as done initially):"
     ]
    },
    {
     "cell_type": "code",
     "collapsed": false,
     "input": [
      "strip_vectorizer = TfidfVectorizer(preprocessor=strip_headers, min_df=2)\n",
      "X_train_small_stripped = strip_vectorizer.fit_transform(\n",
      "    twenty_train_small.data)\n",
      "\n",
      "y_train_small_stripped = twenty_train_small.target\n",
      "\n",
      "classifier = MultinomialNB().fit(\n",
      "  X_train_small_stripped, y_train_small_stripped)\n",
      "\n",
      "print(\"Training score: {0:.1f}%\".format(\n",
      "    classifier.score(X_train_small_stripped, y_train_small_stripped) * 100))\n",
      "\n",
      "X_test_small_stripped = strip_vectorizer.transform(twenty_test_small.data)\n",
      "y_test_small_stripped = twenty_test_small.target\n",
      "print(\"Testing score: {0:.1f}%\".format(\n",
      "    classifier.score(X_test_small_stripped, y_test_small_stripped) * 100))"
     ],
     "language": "python",
     "metadata": {},
     "outputs": [
      {
       "output_type": "stream",
       "stream": "stdout",
       "text": [
        "Training score: 93.3%\n",
        "Testing score: 82.2%"
       ]
      },
      {
       "output_type": "stream",
       "stream": "stdout",
       "text": [
        "\n"
       ]
      }
     ],
     "prompt_number": 54
    },
    {
     "cell_type": "markdown",
     "metadata": {},
     "source": [
      "So indeed the header data is making the problem easier (cheating one could say) but naive Bayes classifier can still guess 80% of the time against 1 / 4 == 25% mean score for a random guessing on the small subset with 4 target categories."
     ]
    },
    {
     "cell_type": "heading",
     "level": 2,
     "metadata": {
      "slideshow": {
       "slide_type": "slide"
      }
     },
     "source": [
      "Model Selection of the Naive Bayes Classifier Parameter Alone"
     ]
    },
    {
     "cell_type": "markdown",
     "metadata": {
      "slideshow": {
       "slide_type": "subslide"
      }
     },
     "source": [
      "The `MultinomialNB` class is a good baseline classifier for text as it's fast and has few parameters to tweak:"
     ]
    },
    {
     "cell_type": "code",
     "collapsed": false,
     "input": [
      "MultinomialNB()"
     ],
     "language": "python",
     "metadata": {
      "slideshow": {
       "slide_type": "-"
      }
     },
     "outputs": [
      {
       "metadata": {},
       "output_type": "pyout",
       "prompt_number": 55,
       "text": [
        "MultinomialNB(alpha=1.0, class_prior=None, fit_prior=True)"
       ]
      }
     ],
     "prompt_number": 55
    },
    {
     "cell_type": "code",
     "collapsed": false,
     "input": [
      "print(MultinomialNB.__doc__)"
     ],
     "language": "python",
     "metadata": {
      "slideshow": {
       "slide_type": "-"
      }
     },
     "outputs": [
      {
       "output_type": "stream",
       "stream": "stdout",
       "text": [
        "\n",
        "    Naive Bayes classifier for multinomial models\n",
        "\n",
        "    The multinomial Naive Bayes classifier is suitable for classification with\n",
        "    discrete features (e.g., word counts for text classification). The\n",
        "    multinomial distribution normally requires integer feature counts. However,\n",
        "    in practice, fractional counts such as tf-idf may also work.\n",
        "\n",
        "    Parameters\n",
        "    ----------\n",
        "    alpha : float, optional (default=1.0)\n",
        "        Additive (Laplace/Lidstone) smoothing parameter\n",
        "        (0 for no smoothing).\n",
        "\n",
        "    fit_prior : boolean\n",
        "        Whether to learn class prior probabilities or not.\n",
        "        If false, a uniform prior will be used.\n",
        "\n",
        "    class_prior : array-like, size (n_classes,)\n",
        "        Prior probabilities of the classes. If specified the priors are not\n",
        "        adjusted according to the data.\n",
        "\n",
        "    Attributes\n",
        "    ----------\n",
        "    `class_log_prior_` : array, shape (n_classes, )\n",
        "        Smoothed empirical log probability for each class.\n",
        "\n",
        "    `intercept_` : property\n",
        "        Mirrors ``class_log_prior_`` for interpreting MultinomialNB\n",
        "        as a linear model.\n",
        "\n",
        "    `feature_log_prob_`: array, shape (n_classes, n_features)\n",
        "        Empirical log probability of features\n",
        "        given a class, ``P(x_i|y)``.\n",
        "\n",
        "    `coef_` : property\n",
        "        Mirrors ``feature_log_prob_`` for interpreting MultinomialNB\n",
        "        as a linear model.\n",
        "\n",
        "    `class_count_` : array, shape (n_classes,)\n",
        "        Number of samples encountered for each class during fitting. This\n",
        "        value is weighted by the sample weight when provided.\n",
        "\n",
        "    `feature_count_` : array, shape (n_classes, n_features)\n",
        "        Number of samples encountered for each (class, feature)\n",
        "        during fitting. This value is weighted by the sample weight when\n",
        "        provided.\n",
        "\n",
        "    Examples\n",
        "    --------\n",
        "    >>> import numpy as np\n",
        "    >>> X = np.random.randint(5, size=(6, 100))\n",
        "    >>> y = np.array([1, 2, 3, 4, 5, 6])\n",
        "    >>> from sklearn.naive_bayes import MultinomialNB\n",
        "    >>> clf = MultinomialNB()\n",
        "    >>> clf.fit(X, y)\n",
        "    MultinomialNB(alpha=1.0, class_prior=None, fit_prior=True)\n",
        "    >>> print(clf.predict(X[2]))\n",
        "    [3]\n",
        "\n",
        "    Notes\n",
        "    -----\n",
        "    For the rationale behind the names `coef_` and `intercept_`, i.e.\n",
        "    naive Bayes as a linear classifier, see J. Rennie et al. (2003),\n",
        "    Tackling the poor assumptions of naive Bayes text classifiers, ICML.\n",
        "\n",
        "    References\n",
        "    ----------\n",
        "    C.D. Manning, P. Raghavan and H. Sch\u00fctze (2008). Introduction to\n",
        "    Information Retrieval. Cambridge University Press, pp. 234\u2013265.\n",
        "    http://nlp.stanford.edu/IR-book/html/htmledition/\n",
        "        naive-bayes-text-classification-1.html\n",
        "    \n"
       ]
      }
     ],
     "prompt_number": 56
    },
    {
     "cell_type": "markdown",
     "metadata": {
      "slideshow": {
       "slide_type": "subslide"
      }
     },
     "source": [
      "By reading the doc we can see that the `alpha` parameter is a good candidate to adjust the model for the bias (underfitting) vs variance (overfitting) trade-off."
     ]
    },
    {
     "cell_type": "heading",
     "level": 2,
     "metadata": {
      "slideshow": {
       "slide_type": "slide"
      }
     },
     "source": [
      "Setting Up a Pipeline for Cross Validation and Model Selection of the Feature Extraction parameters"
     ]
    },
    {
     "cell_type": "markdown",
     "metadata": {
      "slideshow": {
       "slide_type": "subslide"
      }
     },
     "source": [
      "The feature extraction class has many options to customize its behavior:"
     ]
    },
    {
     "cell_type": "code",
     "collapsed": false,
     "input": [
      "print(TfidfVectorizer.__doc__)"
     ],
     "language": "python",
     "metadata": {
      "slideshow": {
       "slide_type": "-"
      }
     },
     "outputs": [
      {
       "output_type": "stream",
       "stream": "stdout",
       "text": [
        "Convert a collection of raw documents to a matrix of TF-IDF features.\n",
        "\n",
        "    Equivalent to CountVectorizer followed by TfidfTransformer.\n",
        "\n",
        "    Parameters\n",
        "    ----------\n",
        "    input : string {'filename', 'file', 'content'}\n",
        "        If filename, the sequence passed as an argument to fit is\n",
        "        expected to be a list of filenames that need reading to fetch\n",
        "        the raw content to analyze.\n",
        "\n",
        "        If 'file', the sequence items must have 'read' method (file-like\n",
        "        object) it is called to fetch the bytes in memory.\n",
        "\n",
        "        Otherwise the input is expected to be the sequence strings or\n",
        "        bytes items are expected to be analyzed directly.\n",
        "\n",
        "    encoding : string, 'utf-8' by default.\n",
        "        If bytes or files are given to analyze, this encoding is used to\n",
        "        decode.\n",
        "\n",
        "    decode_error : {'strict', 'ignore', 'replace'}\n",
        "        Instruction on what to do if a byte sequence is given to analyze that\n",
        "        contains characters not of the given `encoding`. By default, it is\n",
        "        'strict', meaning that a UnicodeDecodeError will be raised. Other\n",
        "        values are 'ignore' and 'replace'.\n",
        "\n",
        "    strip_accents : {'ascii', 'unicode', None}\n",
        "        Remove accents during the preprocessing step.\n",
        "        'ascii' is a fast method that only works on characters that have\n",
        "        an direct ASCII mapping.\n",
        "        'unicode' is a slightly slower method that works on any characters.\n",
        "        None (default) does nothing.\n",
        "\n",
        "    analyzer : string, {'word', 'char'} or callable\n",
        "        Whether the feature should be made of word or character n-grams.\n",
        "\n",
        "        If a callable is passed it is used to extract the sequence of features\n",
        "        out of the raw, unprocessed input.\n",
        "\n",
        "    preprocessor : callable or None (default)\n",
        "        Override the preprocessing (string transformation) stage while\n",
        "        preserving the tokenizing and n-grams generation steps.\n",
        "\n",
        "    tokenizer : callable or None (default)\n",
        "        Override the string tokenization step while preserving the\n",
        "        preprocessing and n-grams generation steps.\n",
        "\n",
        "    ngram_range : tuple (min_n, max_n)\n",
        "        The lower and upper boundary of the range of n-values for different\n",
        "        n-grams to be extracted. All values of n such that min_n <= n <= max_n\n",
        "        will be used.\n",
        "\n",
        "    stop_words : string {'english'}, list, or None (default)\n",
        "        If a string, it is passed to _check_stop_list and the appropriate stop\n",
        "        list is returned. 'english' is currently the only supported string\n",
        "        value.\n",
        "\n",
        "        If a list, that list is assumed to contain stop words, all of which\n",
        "        will be removed from the resulting tokens.\n",
        "\n",
        "        If None, no stop words will be used. max_df can be set to a value\n",
        "        in the range [0.7, 1.0) to automatically detect and filter stop\n",
        "        words based on intra corpus document frequency of terms.\n",
        "\n",
        "    lowercase : boolean, default True\n",
        "        Convert all characters to lowercase befor tokenizing.\n",
        "\n",
        "    token_pattern : string\n",
        "        Regular expression denoting what constitutes a \"token\", only used\n",
        "        if `tokenize == 'word'`. The default regexp select tokens of 2\n",
        "        or more letters characters (punctuation is completely ignored\n",
        "        and always treated as a token separator).\n",
        "\n",
        "    max_df : float in range [0.0, 1.0] or int, optional, 1.0 by default\n",
        "        When building the vocabulary ignore terms that have a term frequency\n",
        "        strictly higher than the given threshold (corpus specific stop words).\n",
        "        If float, the parameter represents a proportion of documents, integer\n",
        "        absolute counts.\n",
        "        This parameter is ignored if vocabulary is not None.\n",
        "\n",
        "    min_df : float in range [0.0, 1.0] or int, optional, 1 by default\n",
        "        When building the vocabulary ignore terms that have a term frequency\n",
        "        strictly lower than the given threshold.\n",
        "        This value is also called cut-off in the literature.\n",
        "        If float, the parameter represents a proportion of documents, integer\n",
        "        absolute counts.\n",
        "        This parameter is ignored if vocabulary is not None.\n",
        "\n",
        "    max_features : optional, None by default\n",
        "        If not None, build a vocabulary that only consider the top\n",
        "        max_features ordered by term frequency across the corpus.\n",
        "\n",
        "        This parameter is ignored if vocabulary is not None.\n",
        "\n",
        "    vocabulary : Mapping or iterable, optional\n",
        "        Either a Mapping (e.g., a dict) where keys are terms and values are\n",
        "        indices in the feature matrix, or an iterable over terms. If not\n",
        "        given, a vocabulary is determined from the input documents.\n",
        "\n",
        "    binary : boolean, False by default.\n",
        "        If True, all non zero counts are set to 1. This is useful for discrete\n",
        "        probabilistic models that model binary events rather than integer\n",
        "        counts.\n",
        "\n",
        "    dtype : type, optional\n",
        "        Type of the matrix returned by fit_transform() or transform().\n",
        "\n",
        "    norm : 'l1', 'l2' or None, optional\n",
        "        Norm used to normalize term vectors. None for no normalization.\n",
        "\n",
        "    use_idf : boolean, optional\n",
        "        Enable inverse-document-frequency reweighting.\n",
        "\n",
        "    smooth_idf : boolean, optional\n",
        "        Smooth idf weights by adding one to document frequencies, as if an\n",
        "        extra document was seen containing every term in the collection\n",
        "        exactly once. Prevents zero divisions.\n",
        "\n",
        "    sublinear_tf : boolean, optional\n",
        "        Apply sublinear tf scaling, i.e. replace tf with 1 + log(tf).\n",
        "\n",
        "    See also\n",
        "    --------\n",
        "    CountVectorizer\n",
        "        Tokenize the documents and count the occurrences of token and return\n",
        "        them as a sparse matrix\n",
        "\n",
        "    TfidfTransformer\n",
        "        Apply Term Frequency Inverse Document Frequency normalization to a\n",
        "        sparse matrix of occurrence counts.\n",
        "\n",
        "    \n"
       ]
      }
     ],
     "prompt_number": 57
    },
    {
     "cell_type": "markdown",
     "metadata": {
      "slideshow": {
       "slide_type": "subslide"
      }
     },
     "source": [
      "In order to evaluate the impact of the parameters of the feature extraction one can chain a configured feature extraction and classifier:"
     ]
    },
    {
     "cell_type": "code",
     "collapsed": false,
     "input": [
      "from sklearn.pipeline import Pipeline\n",
      "\n",
      "pipeline = Pipeline((\n",
      "    ('vec', TfidfVectorizer()),\n",
      "    ('clf', MultinomialNB()),\n",
      "))"
     ],
     "language": "python",
     "metadata": {
      "slideshow": {
       "slide_type": "-"
      }
     },
     "outputs": [],
     "prompt_number": 58
    },
    {
     "cell_type": "markdown",
     "metadata": {
      "slideshow": {
       "slide_type": "fragment"
      }
     },
     "source": [
      "Such a pipeline can then be cross validated or even grid searched:"
     ]
    },
    {
     "cell_type": "code",
     "collapsed": false,
     "input": [
      "from sklearn.cross_validation import cross_val_score\n",
      "from scipy.stats import sem\n",
      "\n",
      "scores = cross_val_score(pipeline, twenty_train_small.data,\n",
      "                         twenty_train_small.target, cv=3, n_jobs=3)\n",
      "scores.mean(), sem(scores)"
     ],
     "language": "python",
     "metadata": {
      "slideshow": {
       "slide_type": "fragment"
      }
     },
     "outputs": [
      {
       "metadata": {},
       "output_type": "pyout",
       "prompt_number": 59,
       "text": [
        "(0.87659783677482794, 0.0085296713731059272)"
       ]
      }
     ],
     "prompt_number": 59
    },
    {
     "cell_type": "markdown",
     "metadata": {
      "slideshow": {
       "slide_type": "subslide"
      }
     },
     "source": [
      "For the grid search, the parameters names are prefixed with the name of the pipeline step using \"__\" as a separator:"
     ]
    },
    {
     "cell_type": "code",
     "collapsed": false,
     "input": [
      "from sklearn.grid_search import GridSearchCV\n",
      "\n",
      "parameters = {\n",
      "    'vec__max_df': [0.8, 1.0],\n",
      "    'vec__ngram_range': [(1, 1), (1, 2)],\n",
      "    'clf__alpha': np.logspace(-5, 0, 6)\n",
      "}\n",
      "\n",
      "gs = GridSearchCV(pipeline, parameters, verbose=2, refit=False, n_jobs=3)\n",
      "_ = gs.fit(twenty_train_small.data, twenty_train_small.target)"
     ],
     "language": "python",
     "metadata": {
      "slideshow": {
       "slide_type": "-"
      }
     },
     "outputs": [
      {
       "output_type": "stream",
       "stream": "stdout",
       "text": [
        "Fitting 3 folds for each of 24 candidates, totalling 72 fits\n"
       ]
      },
      {
       "output_type": "stream",
       "stream": "stderr",
       "text": [
        "[Parallel(n_jobs=3)]: Done   1 jobs       | elapsed:    3.3s\n",
        "[Parallel(n_jobs=3)]: Done  41 jobs       | elapsed:  1.8min\n",
        "[Parallel(n_jobs=3)]: Done  68 out of  72 | elapsed:  2.8min remaining:   10.0s\n",
        "[Parallel(n_jobs=3)]: Done  72 out of  72 | elapsed:  3.0min finished\n"
       ]
      },
      {
       "output_type": "stream",
       "stream": "stdout",
       "text": [
        "[GridSearchCV] vec__max_df=0.8, vec__ngram_range=(1, 1), clf__alpha=1e-05 ......\n",
        "[GridSearchCV] vec__max_df=0.8, vec__ngram_range=(1, 1), clf__alpha=1e-05 ......\n",
        "[GridSearchCV] vec__max_df=0.8, vec__ngram_range=(1, 1), clf__alpha=1e-05 ......\n",
        "[GridSearchCV]  vec__max_df=0.8, vec__ngram_range=(1, 1), clf__alpha=1e-05 -   3.2s[GridSearchCV]  vec__max_df=0.8, vec__ngram_range=(1, 1), clf__alpha=1e-05 -   3.1s[GridSearchCV]  vec__max_df=0.8, vec__ngram_range=(1, 1), clf__alpha=1e-05 -   3.1s\n",
        "\n",
        "\n",
        "[GridSearchCV] vec__max_df=0.8, vec__ngram_range=(1, 2), clf__alpha=1e-05 ......[GridSearchCV] vec__max_df=0.8, vec__ngram_range=(1, 2), clf__alpha=1e-05 ......[GridSearchCV] vec__max_df=0.8, vec__ngram_range=(1, 2), clf__alpha=1e-05 ......\n",
        "\n",
        "\n",
        "[GridSearchCV]  vec__max_df=0.8, vec__ngram_range=(1, 2), clf__alpha=1e-05 -  12.1s[GridSearchCV]  vec__max_df=0.8, vec__ngram_range=(1, 2), clf__alpha=1e-05 -  11.9s[GridSearchCV]  vec__max_df=0.8, vec__ngram_range=(1, 2), clf__alpha=1e-05 -  12.5s\n",
        "\n",
        "\n",
        "[GridSearchCV] vec__max_df=1.0, vec__ngram_range=(1, 1), clf__alpha=1e-05 ......[GridSearchCV] vec__max_df=1.0, vec__ngram_range=(1, 1), clf__alpha=1e-05 ......[GridSearchCV] vec__max_df=1.0, vec__ngram_range=(1, 1), clf__alpha=1e-05 ......\n",
        "\n",
        "\n",
        "[GridSearchCV]  vec__max_df=1.0, vec__ngram_range=(1, 1), clf__alpha=1e-05 -   3.0s[GridSearchCV]  vec__max_df=1.0, vec__ngram_range=(1, 1), clf__alpha=1e-05 -   2.7s[GridSearchCV]  vec__max_df=1.0, vec__ngram_range=(1, 1), clf__alpha=1e-05 -   2.9s\n",
        "\n",
        "\n",
        "[GridSearchCV] vec__max_df=1.0, vec__ngram_range=(1, 2), clf__alpha=1e-05 ......[GridSearchCV] vec__max_df=1.0, vec__ngram_range=(1, 2), clf__alpha=1e-05 ......[GridSearchCV] vec__max_df=1.0, vec__ngram_range=(1, 2), clf__alpha=1e-05 ......\n",
        "\n",
        "\n",
        "[GridSearchCV]  vec__max_df=1.0, vec__ngram_range=(1, 2), clf__alpha=1e-05 -  10.1s[GridSearchCV]  vec__max_df=1.0, vec__ngram_range=(1, 2), clf__alpha=1e-05 -   9.8s[GridSearchCV]  vec__max_df=1.0, vec__ngram_range=(1, 2), clf__alpha=1e-05 -  10.3s\n",
        "\n",
        "\n",
        "[GridSearchCV] vec__max_df=0.8, vec__ngram_range=(1, 1), clf__alpha=0.0001 .....[GridSearchCV] vec__max_df=0.8, vec__ngram_range=(1, 1), clf__alpha=0.0001 .....[GridSearchCV] vec__max_df=0.8, vec__ngram_range=(1, 1), clf__alpha=0.0001 .....\n",
        "\n",
        "\n",
        "[GridSearchCV]  vec__max_df=0.8, vec__ngram_range=(1, 1), clf__alpha=0.0001 -   3.0s[GridSearchCV]  vec__max_df=0.8, vec__ngram_range=(1, 1), clf__alpha=0.0001 -   2.9s[GridSearchCV]  vec__max_df=0.8, vec__ngram_range=(1, 1), clf__alpha=0.0001 -   3.1s\n",
        "\n",
        "\n",
        "[GridSearchCV] vec__max_df=0.8, vec__ngram_range=(1, 2), clf__alpha=0.0001 .....[GridSearchCV] vec__max_df=0.8, vec__ngram_range=(1, 2), clf__alpha=0.0001 .....[GridSearchCV] vec__max_df=0.8, vec__ngram_range=(1, 2), clf__alpha=0.0001 .....\n",
        "\n",
        "\n",
        "[GridSearchCV]  vec__max_df=0.8, vec__ngram_range=(1, 2), clf__alpha=0.0001 -  12.1s[GridSearchCV]  vec__max_df=0.8, vec__ngram_range=(1, 2), clf__alpha=0.0001 -  12.7s[GridSearchCV]  vec__max_df=0.8, vec__ngram_range=(1, 2), clf__alpha=0.0001 -  12.6s\n",
        "\n",
        "\n",
        "[GridSearchCV] vec__max_df=1.0, vec__ngram_range=(1, 1), clf__alpha=0.0001 .....[GridSearchCV] vec__max_df=1.0, vec__ngram_range=(1, 1), clf__alpha=0.0001 .....[GridSearchCV] vec__max_df=1.0, vec__ngram_range=(1, 1), clf__alpha=0.0001 .....\n",
        "\n",
        "\n",
        "[GridSearchCV]  vec__max_df=1.0, vec__ngram_range=(1, 1), clf__alpha=0.0001 -   3.7s[GridSearchCV]  vec__max_df=1.0, vec__ngram_range=(1, 1), clf__alpha=0.0001 -   3.7s[GridSearchCV]  vec__max_df=1.0, vec__ngram_range=(1, 1), clf__alpha=0.0001 -   3.2s\n",
        "\n",
        "\n",
        "[GridSearchCV] vec__max_df=1.0, vec__ngram_range=(1, 2), clf__alpha=0.0001 .....[GridSearchCV] vec__max_df=1.0, vec__ngram_range=(1, 2), clf__alpha=0.0001 .....[GridSearchCV] vec__max_df=1.0, vec__ngram_range=(1, 2), clf__alpha=0.0001 .....\n",
        "\n",
        "\n",
        "[GridSearchCV]  vec__max_df=1.0, vec__ngram_range=(1, 2), clf__alpha=0.0001 -  12.5s[GridSearchCV]  vec__max_df=1.0, vec__ngram_range=(1, 2), clf__alpha=0.0001 -  12.1s[GridSearchCV]  vec__max_df=1.0, vec__ngram_range=(1, 2), clf__alpha=0.0001 -  12.4s\n",
        "\n",
        "\n",
        "[GridSearchCV] vec__max_df=0.8, vec__ngram_range=(1, 1), clf__alpha=0.001 ......[GridSearchCV] vec__max_df=0.8, vec__ngram_range=(1, 1), clf__alpha=0.001 ......[GridSearchCV] vec__max_df=0.8, vec__ngram_range=(1, 1), clf__alpha=0.001 ......\n",
        "\n",
        "\n",
        "[GridSearchCV]  vec__max_df=0.8, vec__ngram_range=(1, 1), clf__alpha=0.001 -   3.0s[GridSearchCV]  vec__max_df=0.8, vec__ngram_range=(1, 1), clf__alpha=0.001 -   2.6s[GridSearchCV]  vec__max_df=0.8, vec__ngram_range=(1, 1), clf__alpha=0.001 -   3.5s\n",
        "\n",
        "\n",
        "[GridSearchCV] vec__max_df=0.8, vec__ngram_range=(1, 2), clf__alpha=0.001 ......[GridSearchCV] vec__max_df=0.8, vec__ngram_range=(1, 2), clf__alpha=0.001 ......[GridSearchCV] vec__max_df=0.8, vec__ngram_range=(1, 2), clf__alpha=0.001 ......\n",
        "\n",
        "\n",
        "[GridSearchCV]  vec__max_df=0.8, vec__ngram_range=(1, 2), clf__alpha=0.001 -  13.3s[GridSearchCV]  vec__max_df=0.8, vec__ngram_range=(1, 2), clf__alpha=0.001 -  12.6s[GridSearchCV]  vec__max_df=0.8, vec__ngram_range=(1, 2), clf__alpha=0.001 -  13.2s\n",
        "\n",
        "\n",
        "[GridSearchCV] vec__max_df=1.0, vec__ngram_range=(1, 1), clf__alpha=0.001 ......[GridSearchCV] vec__max_df=1.0, vec__ngram_range=(1, 1), clf__alpha=0.001 ......[GridSearchCV] vec__max_df=1.0, vec__ngram_range=(1, 1), clf__alpha=0.001 ......\n",
        "\n",
        "\n",
        "[GridSearchCV]  vec__max_df=1.0, vec__ngram_range=(1, 1), clf__alpha=0.001 -   2.5s[GridSearchCV]  vec__max_df=1.0, vec__ngram_range=(1, 1), clf__alpha=0.001 -   2.7s[GridSearchCV]  vec__max_df=1.0, vec__ngram_range=(1, 1), clf__alpha=0.001 -   2.3s\n",
        "\n",
        "\n",
        "[GridSearchCV] vec__max_df=1.0, vec__ngram_range=(1, 2), clf__alpha=0.001 ......[GridSearchCV] vec__max_df=1.0, vec__ngram_range=(1, 2), clf__alpha=0.001 ......[GridSearchCV] vec__max_df=1.0, vec__ngram_range=(1, 2), clf__alpha=0.001 ......\n",
        "\n",
        "\n",
        "[GridSearchCV]  vec__max_df=1.0, vec__ngram_range=(1, 2), clf__alpha=0.001 -   9.9s[GridSearchCV]  vec__max_df=1.0, vec__ngram_range=(1, 2), clf__alpha=0.001 -   9.6s[GridSearchCV]  vec__max_df=1.0, vec__ngram_range=(1, 2), clf__alpha=0.001 -  10.3s\n",
        "\n",
        "\n",
        "[GridSearchCV] vec__max_df=0.8, vec__ngram_range=(1, 1), clf__alpha=0.01 .......[GridSearchCV] vec__max_df=0.8, vec__ngram_range=(1, 1), clf__alpha=0.01 .......[GridSearchCV] vec__max_df=0.8, vec__ngram_range=(1, 2), clf__alpha=0.01 .......\n",
        "\n",
        "\n",
        "[GridSearchCV]  vec__max_df=0.8, vec__ngram_range=(1, 1), clf__alpha=0.01 -   2.5s[GridSearchCV]  vec__max_df=0.8, vec__ngram_range=(1, 1), clf__alpha=0.01 -   2.5s[GridSearchCV]  vec__max_df=0.8, vec__ngram_range=(1, 2), clf__alpha=0.01 -  10.9s\n",
        "\n",
        "\n",
        "[GridSearchCV] vec__max_df=0.8, vec__ngram_range=(1, 2), clf__alpha=0.01 .......[GridSearchCV] vec__max_df=0.8, vec__ngram_range=(1, 1), clf__alpha=0.01 .......[GridSearchCV] vec__max_df=1.0, vec__ngram_range=(1, 1), clf__alpha=0.01 .......\n",
        "\n",
        "\n",
        "[GridSearchCV]  vec__max_df=0.8, vec__ngram_range=(1, 2), clf__alpha=0.01 -  11.4s[GridSearchCV]  vec__max_df=0.8, vec__ngram_range=(1, 1), clf__alpha=0.01 -   3.4s[GridSearchCV]  vec__max_df=1.0, vec__ngram_range=(1, 1), clf__alpha=0.01 -   3.4s\n",
        "\n",
        "\n",
        "[GridSearchCV] vec__max_df=1.0, vec__ngram_range=(1, 1), clf__alpha=0.01 .......[GridSearchCV] vec__max_df=0.8, vec__ngram_range=(1, 2), clf__alpha=0.01 .......[GridSearchCV] vec__max_df=1.0, vec__ngram_range=(1, 1), clf__alpha=0.01 .......\n",
        "\n",
        "\n",
        "[GridSearchCV]  vec__max_df=1.0, vec__ngram_range=(1, 1), clf__alpha=0.01 -   3.1s[GridSearchCV]  vec__max_df=0.8, vec__ngram_range=(1, 2), clf__alpha=0.01 -  11.6s[GridSearchCV]  vec__max_df=1.0, vec__ngram_range=(1, 1), clf__alpha=0.01 -   3.0s\n",
        "\n",
        "\n",
        "[GridSearchCV] vec__max_df=1.0, vec__ngram_range=(1, 2), clf__alpha=0.01 .......[GridSearchCV] vec__max_df=1.0, vec__ngram_range=(1, 2), clf__alpha=0.01 .......[GridSearchCV] vec__max_df=1.0, vec__ngram_range=(1, 2), clf__alpha=0.01 .......\n",
        "\n",
        "\n",
        "[GridSearchCV]  vec__max_df=1.0, vec__ngram_range=(1, 2), clf__alpha=0.01 -  10.4s[GridSearchCV]  vec__max_df=1.0, vec__ngram_range=(1, 2), clf__alpha=0.01 -  10.1s[GridSearchCV]  vec__max_df=1.0, vec__ngram_range=(1, 2), clf__alpha=0.01 -  10.7s\n",
        "\n",
        "\n",
        "[GridSearchCV] vec__max_df=0.8, vec__ngram_range=(1, 1), clf__alpha=0.1 ........[GridSearchCV] vec__max_df=0.8, vec__ngram_range=(1, 1), clf__alpha=0.1 ........[GridSearchCV] vec__max_df=0.8, vec__ngram_range=(1, 2), clf__alpha=0.1 ........\n",
        "\n",
        "\n",
        "[GridSearchCV]  vec__max_df=0.8, vec__ngram_range=(1, 1), clf__alpha=0.1 -   2.9s[GridSearchCV]  vec__max_df=0.8, vec__ngram_range=(1, 1), clf__alpha=0.1 -   2.9s[GridSearchCV]  vec__max_df=0.8, vec__ngram_range=(1, 2), clf__alpha=0.1 -  10.7s\n",
        "\n",
        "\n",
        "[GridSearchCV] vec__max_df=0.8, vec__ngram_range=(1, 2), clf__alpha=0.1 ........[GridSearchCV] vec__max_df=0.8, vec__ngram_range=(1, 1), clf__alpha=0.1 ........[GridSearchCV] vec__max_df=1.0, vec__ngram_range=(1, 1), clf__alpha=0.1 ........\n",
        "\n",
        "\n",
        "[GridSearchCV]  vec__max_df=0.8, vec__ngram_range=(1, 2), clf__alpha=0.1 -  11.5s[GridSearchCV]  vec__max_df=0.8, vec__ngram_range=(1, 1), clf__alpha=0.1 -   2.7s[GridSearchCV]  vec__max_df=1.0, vec__ngram_range=(1, 1), clf__alpha=0.1 -   4.4s\n",
        "\n",
        "\n",
        "[GridSearchCV] vec__max_df=1.0, vec__ngram_range=(1, 1), clf__alpha=0.1 ........[GridSearchCV] vec__max_df=0.8, vec__ngram_range=(1, 2), clf__alpha=0.1 ........[GridSearchCV] vec__max_df=1.0, vec__ngram_range=(1, 1), clf__alpha=0.1 ........\n",
        "\n",
        "\n",
        "[GridSearchCV]  vec__max_df=1.0, vec__ngram_range=(1, 1), clf__alpha=0.1 -   4.3s[GridSearchCV]  vec__max_df=0.8, vec__ngram_range=(1, 2), clf__alpha=0.1 -  13.4s[GridSearchCV]  vec__max_df=1.0, vec__ngram_range=(1, 1), clf__alpha=0.1 -   4.2s\n",
        "\n",
        "\n",
        "[GridSearchCV] vec__max_df=1.0, vec__ngram_range=(1, 2), clf__alpha=0.1 ........[GridSearchCV] vec__max_df=1.0, vec__ngram_range=(1, 2), clf__alpha=0.1 ........[GridSearchCV] vec__max_df=1.0, vec__ngram_range=(1, 2), clf__alpha=0.1 ........\n",
        "\n",
        "\n",
        "[GridSearchCV]  vec__max_df=1.0, vec__ngram_range=(1, 2), clf__alpha=0.1 -  15.3s[GridSearchCV]  vec__max_df=1.0, vec__ngram_range=(1, 2), clf__alpha=0.1 -  15.2s[GridSearchCV]  vec__max_df=1.0, vec__ngram_range=(1, 2), clf__alpha=0.1 -  14.9s\n",
        "\n",
        "\n",
        "[GridSearchCV] vec__max_df=0.8, vec__ngram_range=(1, 1), clf__alpha=1.0 ........[GridSearchCV] vec__max_df=0.8, vec__ngram_range=(1, 1), clf__alpha=1.0 ........[GridSearchCV] vec__max_df=0.8, vec__ngram_range=(1, 2), clf__alpha=1.0 ........\n",
        "\n",
        "\n",
        "[GridSearchCV]  vec__max_df=0.8, vec__ngram_range=(1, 1), clf__alpha=1.0 -   2.9s[GridSearchCV]  vec__max_df=0.8, vec__ngram_range=(1, 1), clf__alpha=1.0 -   2.9s[GridSearchCV]  vec__max_df=0.8, vec__ngram_range=(1, 2), clf__alpha=1.0 -   9.5s\n",
        "\n",
        "\n",
        "[GridSearchCV] vec__max_df=0.8, vec__ngram_range=(1, 2), clf__alpha=1.0 ........[GridSearchCV] vec__max_df=0.8, vec__ngram_range=(1, 1), clf__alpha=1.0 ........[GridSearchCV] vec__max_df=1.0, vec__ngram_range=(1, 1), clf__alpha=1.0 ........\n",
        "\n",
        "\n",
        "[GridSearchCV]  vec__max_df=0.8, vec__ngram_range=(1, 2), clf__alpha=1.0 -   9.7s"
       ]
      }
     ],
     "prompt_number": 60
    },
    {
     "cell_type": "code",
     "collapsed": false,
     "input": [
      "gs.best_score_"
     ],
     "language": "python",
     "metadata": {
      "slideshow": {
       "slide_type": "subslide"
      }
     },
     "outputs": [
      {
       "output_type": "stream",
       "stream": "stdout",
       "text": [
        "[GridSearchCV]  vec__max_df=0.8, vec__ngram_range=(1, 1), clf__alpha=1.0 -   3.0s[GridSearchCV]  vec__max_df=1.0, vec__ngram_range=(1, 1), clf__alpha=1.0 -   2.8s\n",
        "\n",
        "\n",
        "[GridSearchCV] vec__max_df=1.0, vec__ngram_range=(1, 1), clf__alpha=1.0 ........[GridSearchCV] vec__max_df=0.8, vec__ngram_range=(1, 2), clf__alpha=1.0 ........[GridSearchCV] vec__max_df=1.0, vec__ngram_range=(1, 1), clf__alpha=1.0 ........\n",
        "\n",
        "\n",
        "[GridSearchCV]  vec__max_df=1.0, vec__ngram_range=(1, 1), clf__alpha=1.0 -   2.8s[GridSearchCV]  vec__max_df=0.8, vec__ngram_range=(1, 2), clf__alpha=1.0 -  10.4s[GridSearchCV]  vec__max_df=1.0, vec__ngram_range=(1, 1), clf__alpha=1.0 -   2.3s\n",
        "\n",
        "\n",
        "[GridSearchCV] vec__max_df=1.0, vec__ngram_range=(1, 2), clf__alpha=1.0 ........[GridSearchCV] vec__max_df=1.0, vec__ngram_range=(1, 2), clf__alpha=1.0 ........[GridSearchCV] vec__max_df=1.0, vec__ngram_range=(1, 2), clf__alpha=1.0 ........\n",
        "\n",
        "\n",
        "[GridSearchCV]  vec__max_df=1.0, vec__ngram_range=(1, 2), clf__alpha=1.0 -  11.1s[GridSearchCV]  vec__max_df=1.0, vec__ngram_range=(1, 2), clf__alpha=1.0 -  11.0s[GridSearchCV]  vec__max_df=1.0, vec__ngram_range=(1, 2), clf__alpha=1.0 -  10.9s\n",
        "\n",
        "\n"
       ]
      },
      {
       "metadata": {},
       "output_type": "pyout",
       "prompt_number": 61,
       "text": [
        "0.95771878072763028"
       ]
      }
     ],
     "prompt_number": 61
    },
    {
     "cell_type": "code",
     "collapsed": false,
     "input": [
      "gs.best_params_"
     ],
     "language": "python",
     "metadata": {
      "slideshow": {
       "slide_type": "-"
      }
     },
     "outputs": [
      {
       "metadata": {},
       "output_type": "pyout",
       "prompt_number": 62,
       "text": [
        "{'clf__alpha': 0.001, 'vec__max_df': 0.8, 'vec__ngram_range': (1, 2)}"
       ]
      }
     ],
     "prompt_number": 62
    },
    {
     "cell_type": "heading",
     "level": 2,
     "metadata": {
      "slideshow": {
       "slide_type": "slide"
      }
     },
     "source": [
      "Introspecting Model Performance"
     ]
    },
    {
     "cell_type": "heading",
     "level": 3,
     "metadata": {
      "slideshow": {
       "slide_type": "subslide"
      }
     },
     "source": [
      "Displaying the Most Discriminative Features"
     ]
    },
    {
     "cell_type": "markdown",
     "metadata": {
      "slideshow": {
       "slide_type": "-"
      }
     },
     "source": [
      "Let's fit a model on the small dataset and collect info on the fitted components:"
     ]
    },
    {
     "cell_type": "code",
     "collapsed": false,
     "input": [
      "pipeline = Pipeline((\n",
      "    ('vec', TfidfVectorizer(max_df = 0.8, ngram_range = (1, 2), use_idf=True)),\n",
      "    ('clf', MultinomialNB(alpha = 0.001)),\n",
      "))\n",
      "_ = pipeline.fit(twenty_train_small.data, twenty_train_small.target)"
     ],
     "language": "python",
     "metadata": {
      "slideshow": {
       "slide_type": "-"
      }
     },
     "outputs": [],
     "prompt_number": 63
    },
    {
     "cell_type": "code",
     "collapsed": false,
     "input": [
      "vec_name, vec = pipeline.steps[0]\n",
      "clf_name, clf = pipeline.steps[1]\n",
      "\n",
      "feature_names = vec.get_feature_names()\n",
      "target_names = twenty_train_small.target_names\n",
      "\n",
      "feature_weights = clf.coef_\n",
      "\n",
      "feature_weights.shape"
     ],
     "language": "python",
     "metadata": {
      "slideshow": {
       "slide_type": "fragment"
      }
     },
     "outputs": [
      {
       "metadata": {},
       "output_type": "pyout",
       "prompt_number": 64,
       "text": [
        "(4, 279569)"
       ]
      }
     ],
     "prompt_number": 64
    },
    {
     "cell_type": "markdown",
     "metadata": {
      "slideshow": {
       "slide_type": "subslide"
      }
     },
     "source": [
      "By sorting the feature weights on the linear model and asking the vectorizer what their names is, one can get a clue on what the model did actually learn on the data:"
     ]
    },
    {
     "cell_type": "code",
     "collapsed": false,
     "input": [
      "def display_important_features(feature_names, target_names, weights, n_top=30):\n",
      "    for i, target_name in enumerate(target_names):\n",
      "        print(u\"Class: \" + target_name)\n",
      "        print(u\"\")\n",
      "        \n",
      "        sorted_features_indices = weights[i].argsort()[::-1]\n",
      "        \n",
      "        most_important = sorted_features_indices[:n_top]\n",
      "        print(u\", \".join(u\"{0}: {1:.4f}\".format(feature_names[j], weights[i, j])\n",
      "                        for j in most_important))\n",
      "        print(u\"...\")\n",
      "        \n",
      "        least_important = sorted_features_indices[-n_top:]\n",
      "        print(u\", \".join(u\"{0}: {1:.4f}\".format(feature_names[j], weights[i, j])\n",
      "                        for j in least_important))\n",
      "        print(u\"\")\n",
      "        \n",
      "display_important_features(feature_names, target_names, feature_weights)"
     ],
     "language": "python",
     "metadata": {
      "slideshow": {
       "slide_type": "-"
      }
     },
     "outputs": [
      {
       "output_type": "stream",
       "stream": "stdout",
       "text": [
        "Class: alt.atheism\n",
        "\n",
        "is: -6.0027, that: -6.0312, you: -6.2511, it: -6.3314, edu: -6.4635, not: -6.5979, keith: -6.6737, are: -6.7286, god: -6.7621, be: -6.7679, this: -6.8508, have: -6.8571, as: -6.9286, for: -6.9742, com: -6.9941, was: -7.0117, if: -7.0161, what: -7.0188, caltech edu: -7.0239, caltech: -7.0395, but: -7.0456, we: -7.0484, they: -7.0532, or: -7.0633, your: -7.0776, an: -7.0856, he: -7.0863, people: -7.1103, one: -7.1105, do: -7.1638"
       ]
      },
      {
       "output_type": "stream",
       "stream": "stdout",
       "text": [
        "\n",
        "...\n",
        "occultic writings: -15.9805, occurred close: -15.9805, occurred long: -15.9805, ocean of: -15.9805, occurs program: -15.9805, ocean marvin: -15.9805, ocean mariner: -15.9805, ocean in: -15.9805, ocean dynamics: -15.9805, ocean dt: -15.9805, ocean and: -15.9805, ocean aleph: -15.9805, ocean after: -15.9805, ocean: -15.9805, occurs under: -15.9805, occurs this: -15.9805, occurs now: -15.9805, occurred think: -15.9805, occurs may: -15.9805, occurs in: -15.9805, occurs even: -15.9805, occurs during: -15.9805, occurs at: -15.9805, occurs as: -15.9805, occurs after: -15.9805, occurring in: -15.9805, occurring: -15.9805, occurrence in: -15.9805, occurrence based: -15.9805, laboratory nasa: -15.9805\n",
        "\n",
        "Class: comp.graphics\n",
        "\n",
        "for: -6.5232, is: -6.5246, it: -6.5456, graphics: -6.5550, edu: -6.6665, that: -6.9367, you: -6.9517, on: -6.9593, this: -7.0023, have: -7.0823, or: -7.1226, can: -7.1328, any: -7.1529, image: -7.1651, be: -7.1743, university: -7.1775, with: -7.1914, com: -7.2013, files: -7.2251, thanks: -7.2414, if: -7.2704, there: -7.3163, 3d: -7.3234, file: -7.3337, are: -7.3455, but: -7.3655, posting: -7.3922, university of: -7.3987, windows: -7.4041, host: -7.4349\n",
        "...\n",
        "occured: -15.9061, occurred to: -15.9061, occurrence: -15.9061, ocean in: -15.9061, occurs in: -15.9061, ocean dynamics: -15.9061, ocean and: -15.9061, ocean aleph: -15.9061, ocean after: -15.9061, occurs whenever: -15.9061, occurs when: -15.9061, occurs under: -15.9061, occurs or: -15.9061, occurs of: -15.9061, occurs now: -15.9061, occurs may: -15.9061, occurs even: -15.9061, occurrence based: -15.9061, occurs during: -15.9061, occurs at: -15.9061, occurs and: -15.9061, occurs after: -15.9061, occurring in: -15.9061, occurring: -15.9061, occurrences who: -15.9061, occurrences it: -15.9061, occurrences: -15.9061, occurrence of: -15.9061, occurrence in: -15.9061, laboratory nasa: -15.9061\n",
        "\n",
        "Class: sci.space\n",
        "\n",
        "space: -6.2911, is: -6.5869, that: -6.6500, it: -6.6725, edu: -6.7050, nasa: -6.7105, for: -6.8113, on: -6.8681, you: -6.9553, be: -6.9736, was: -7.0381, this: -7.0560, henry: -7.0744, of the: -7.1096, access: -7.1658, gov: -7.1702, com: -7.2087, as: -7.2198, at: -7.2211, alaska: -7.2383, are: -7.2405, they: -7.2748, toronto: -7.2751, would: -7.2767, moon: -7.2871, have: -7.3009, not: -7.3185, nasa gov: -7.3204, digex: -7.3577, access digex: -7.3577"
       ]
      },
      {
       "output_type": "stream",
       "stream": "stdout",
       "text": [
        "\n",
        "...\n",
        "magnificent church: -16.1294, magney cco: -16.1294, magney: -16.1294, unicorns don: -16.1294, magos: -16.1294, magos is: -16.1294, mahood: -16.1294, magu: -16.1294, unicorn if: -16.1294, unicorn nott: -16.1294, mahdi or: -16.1294, mahdi is: -16.1294, mahdi: -16.1294, maharaj sawan: -16.1294, maharaj gurinder: -16.1294, maharaj: -16.1294, mahanta for: -16.1294, mahanta: -16.1294, mahabharata the: -16.1294, mahabharata: -16.1294, magus sang: -16.1294, magus in: -16.1294, magus during: -16.1294, magus: -16.1294, magupati head: -16.1294, magupati: -16.1294, magu rendered: -16.1294, magu has: -16.1294, magu and: -16.1294, \u00band the: -16.1294\n",
        "\n",
        "Class: talk.religion.misc\n",
        "\n",
        "that: -6.1157, is: -6.2229, you: -6.3350, it: -6.6493, not: -6.6993, god: -6.8269, com: -6.8471, he: -6.8576, are: -6.8596, edu: -6.8870, sandvik: -6.8977, of the: -6.9046, as: -6.9459, this: -6.9646, jesus: -6.9714, for: -6.9743, be: -6.9748, they: -7.0126, have: -7.0412, was: -7.0674, with: -7.0833, we: -7.0838, who: -7.0931, what: -7.1481, your: -7.1744, his: -7.2007, christian: -7.2177, on: -7.2337, by: -7.2348, or: -7.2370"
       ]
      },
      {
       "output_type": "stream",
       "stream": "stdout",
       "text": [
        "\n",
        "...\n",
        "nature but: -15.7612, nature bill: -15.7612, nature produces: -15.7612, nature religions: -15.7612, nature second: -15.7612, nature simplicity: -15.7612, naught liberating: -15.7612, naught: -15.7612, nau edu: -15.7612, nau: -15.7612, natuur en: -15.7612, natuur: -15.7612, natures of: -15.7612, natures: -15.7612, natured the: -15.7612, natured: -15.7612, nature you: -15.7612, nature yet: -15.7612, nature yes: -15.7612, nature which: -15.7612, nature very: -15.7612, nature ve: -15.7612, nature v324: -15.7612, nature undecided: -15.7612, nature uncorruptable: -15.7612, nature to: -15.7612, nature thus: -15.7612, nature think: -15.7612, nature the: -15.7612, laboratory nasa: -15.7612\n",
        "\n"
       ]
      }
     ],
     "prompt_number": 65
    },
    {
     "cell_type": "heading",
     "level": 3,
     "metadata": {
      "slideshow": {
       "slide_type": "subslide"
      }
     },
     "source": [
      "Displaying the per-class Classification Reports"
     ]
    },
    {
     "cell_type": "code",
     "collapsed": false,
     "input": [
      "from sklearn.metrics import classification_report\n",
      "\n",
      "predicted = pipeline.predict(twenty_test_small.data)"
     ],
     "language": "python",
     "metadata": {
      "slideshow": {
       "slide_type": "-"
      }
     },
     "outputs": [],
     "prompt_number": 66
    },
    {
     "cell_type": "code",
     "collapsed": false,
     "input": [
      "print(classification_report(twenty_test_small.target, predicted,\n",
      "                            target_names=twenty_test_small.target_names))"
     ],
     "language": "python",
     "metadata": {
      "slideshow": {
       "slide_type": "-"
      }
     },
     "outputs": [
      {
       "output_type": "stream",
       "stream": "stdout",
       "text": [
        "                    precision    recall  f1-score   support\n",
        "\n",
        "       alt.atheism       0.83      0.88      0.86       319\n",
        "     comp.graphics       0.94      0.95      0.94       389\n",
        "         sci.space       0.94      0.95      0.94       394\n",
        "talk.religion.misc       0.86      0.76      0.81       251\n",
        "\n",
        "       avg / total       0.90      0.90      0.90      1353\n",
        "\n"
       ]
      }
     ],
     "prompt_number": 67
    },
    {
     "cell_type": "heading",
     "level": 3,
     "metadata": {
      "slideshow": {
       "slide_type": "subslide"
      }
     },
     "source": [
      "Printing the Confusion Matrix"
     ]
    },
    {
     "cell_type": "markdown",
     "metadata": {
      "slideshow": {
       "slide_type": "-"
      }
     },
     "source": [
      "The confusion matrix summarize which class where by having a look at off-diagonal entries: here we can see that articles about atheism have been wrongly classified as being about religion 57 times for instance: "
     ]
    },
    {
     "cell_type": "code",
     "collapsed": false,
     "input": [
      "from sklearn.metrics import confusion_matrix\n",
      "\n",
      "pd.DataFrame(confusion_matrix(twenty_test_small.target, predicted), \n",
      "             index = pd.MultiIndex.from_product([['actual'], twenty_test_small.target_names]),\n",
      "             columns = pd.MultiIndex.from_product([['predicted'], twenty_test_small.target_names]))"
     ],
     "language": "python",
     "metadata": {
      "slideshow": {
       "slide_type": "-"
      }
     },
     "outputs": [
      {
       "html": [
        "<div style=\"max-height:1000px;max-width:1500px;overflow:auto;\">\n",
        "<table border=\"1\" class=\"dataframe\">\n",
        "  <thead>\n",
        "    <tr>\n",
        "      <th></th>\n",
        "      <th></th>\n",
        "      <th colspan=\"4\" halign=\"left\">predicted</th>\n",
        "    </tr>\n",
        "    <tr>\n",
        "      <th></th>\n",
        "      <th></th>\n",
        "      <th>alt.atheism</th>\n",
        "      <th>comp.graphics</th>\n",
        "      <th>sci.space</th>\n",
        "      <th>talk.religion.misc</th>\n",
        "    </tr>\n",
        "  </thead>\n",
        "  <tbody>\n",
        "    <tr>\n",
        "      <th rowspan=\"4\" valign=\"top\">actual</th>\n",
        "      <th>alt.atheism</th>\n",
        "      <td> 282</td>\n",
        "      <td>   3</td>\n",
        "      <td>   5</td>\n",
        "      <td>  29</td>\n",
        "    </tr>\n",
        "    <tr>\n",
        "      <th>comp.graphics</th>\n",
        "      <td>   7</td>\n",
        "      <td> 368</td>\n",
        "      <td>  13</td>\n",
        "      <td>   1</td>\n",
        "    </tr>\n",
        "    <tr>\n",
        "      <th>sci.space</th>\n",
        "      <td>   3</td>\n",
        "      <td>  15</td>\n",
        "      <td> 375</td>\n",
        "      <td>   1</td>\n",
        "    </tr>\n",
        "    <tr>\n",
        "      <th>talk.religion.misc</th>\n",
        "      <td>  48</td>\n",
        "      <td>   4</td>\n",
        "      <td>   7</td>\n",
        "      <td> 192</td>\n",
        "    </tr>\n",
        "  </tbody>\n",
        "</table>\n",
        "<p>4 rows \u00d7 4 columns</p>\n",
        "</div>"
       ],
       "metadata": {},
       "output_type": "pyout",
       "prompt_number": 68,
       "text": [
        "                             predicted                            \\\n",
        "                           alt.atheism  comp.graphics  sci.space   \n",
        "actual alt.atheism                 282              3          5   \n",
        "       comp.graphics                 7            368         13   \n",
        "       sci.space                     3             15        375   \n",
        "       talk.religion.misc           48              4          7   \n",
        "\n",
        "                                               \n",
        "                           talk.religion.misc  \n",
        "actual alt.atheism                         29  \n",
        "       comp.graphics                        1  \n",
        "       sci.space                            1  \n",
        "       talk.religion.misc                 192  \n",
        "\n",
        "[4 rows x 4 columns]"
       ]
      }
     ],
     "prompt_number": 68
    },
    {
     "cell_type": "markdown",
     "metadata": {},
     "source": [
      "1-2 Pairs\n",
      "=========\n",
      "\n",
      "```bash\n",
      "$ unzip Classification_data -d Classification_data\n",
      "```\n",
      "\n",
      "1. Load the dateset using `load_files` (hint: our `categories` are now `spam`, `easy_ham`, etc.)\n",
      "2. Write a pre-processor callable to remove the message headers.\n",
      "3. Set up a pipeline for cross validation and model selection using `spam` and `easy_ham`.\n",
      "    - Which parameters should be optimized?\n",
      "    - Do you expect the results to be different from the parameters above? Why/why not?\n",
      "    - Are there other parameters we should optimize that we haven't tested?\n",
      "4. Use `GridSearchCV` to find optimal parameters for vectorizor and classifier.\n",
      "5. Run classifier against `hard_ham`. What percentage of `hard_ham` does it correctly identify as not `spam`?\n",
      "6. Display the most discriminative features. Anything stick out?\n",
      "7. Run classifier against `spam_2`, `easy_ham_2`, `hard_ham_2`. \n",
      "    - Plot the ROC curve (along with AUC) for each case. \n",
      "    - Print the confusion matrix"
     ]
    },
    {
     "cell_type": "markdown",
     "metadata": {},
     "source": [
      "Homework\n",
      "========\n",
      "\n",
      "1. Read the Na\u00efve Bayes documentation at [scikit-learn.org](http://scikit-learn.org/stable/modules/naive_bayes.html). There are three Na\u00efve Bayes classifiers described. Which of the other two might also be appropriate for this task?\n",
      "2. Explain your choice and apply it to either the spam/ham dataset (if you completed the pair assignment) or the newsgroups dataset (if you didn't).\n",
      "3. Use grid search cross validation to find the best parameters for both the vectorizor and classifier.\n",
      "    - Do different parameters for the vectorizor work better for this classifier?\n",
      "4. Does this classifier do better or worse than the multinomial classifier?\n",
      "5. Advanced: consider the descriptions of the two classifiers in light of which does better for this problem. Can you posit a theory as to why one classifier should do better than the other?"
     ]
    }
   ],
   "metadata": {}
  }
 ]
}