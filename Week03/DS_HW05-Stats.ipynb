{
 "metadata": {
  "name": "",
  "signature": "sha256:603e3b9a4837a14474e6450407d522fe7c687fe135c282e4643bc67a010ed079"
 },
 "nbformat": 3,
 "nbformat_minor": 0,
 "worksheets": [
  {
   "cells": [
    {
     "cell_type": "markdown",
     "metadata": {},
     "source": [
      "Homework\n",
      "========\n",
      "\n",
      "Use `enron.db` from last week.\n",
      "\n",
      "1. Create a boxplot of the message recipient count (`MAX(rno)`), splitting the data based on the `seniority` of the sender.\n",
      "\n",
      "2. Compute the sample mean and standard deviation in the two groups.\n",
      "\n",
      "3. Create a histogram of the recipient count within each group.\n",
      "\n",
      "4. Compute a 90% confidence interval for the difference in supervisor performance between the two groups. What is a problem with this? How might you fix it?\n",
      "\n",
      "5. At level $\\alpha=5\\%$, test the null hypothesis that the average supervisor performance does not differ between the two groups. What assumptions are you making? What can you conclude?\n",
      "\n",
      "6. Repeat the test in 5. using `OLS`."
     ]
    },
    {
     "cell_type": "heading",
     "level": 3,
     "metadata": {},
     "source": [
      "Imports and Initializations"
     ]
    },
    {
     "cell_type": "code",
     "collapsed": false,
     "input": [
      "%matplotlib inline\n",
      "import os\n",
      "import matplotlib.pyplot as plt\n",
      "import numpy as np\n",
      "import pandas as pd\n",
      "import statsmodels.api as sm\n",
      "import pandas as pd\n",
      "import sqlite3\n",
      "from pandas.io import sql\n",
      "conn = sqlite3.connect('enron.db')"
     ],
     "language": "python",
     "metadata": {},
     "outputs": []
    }
   ],
   "metadata": {}
  }
 ]
}