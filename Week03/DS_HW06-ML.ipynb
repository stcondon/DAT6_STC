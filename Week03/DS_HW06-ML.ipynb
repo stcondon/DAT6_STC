{
 "metadata": {
  "name": "",
  "signature": "sha256:c38618645c2dc2c75f286f96f985d8a5cb64b70145eb358b6f4396e2ee9e6931"
 },
 "nbformat": 3,
 "nbformat_minor": 0,
 "worksheets": [
  {
   "cells": [
    {
     "cell_type": "markdown",
     "metadata": {
      "slideshow": {
       "slide_type": "slide"
      }
     },
     "source": [
      "Homework\n",
      "==========================\n",
      "Multiple Linear Regression\n",
      "--------------------------\n",
      "Stephen Condon"
     ]
    },
    {
     "cell_type": "code",
     "collapsed": false,
     "input": [
      "%matplotlib inline\n",
      "import os\n",
      "import matplotlib.pyplot as plt\n",
      "import numpy as np\n",
      "import pandas as pd\n",
      "import scipy.stats as stats\n",
      "import statsmodels.formula.api as smf\n",
      "import sqlite3\n",
      "\n",
      "from pandas.io import sql\n",
      "\n",
      "conn = sqlite3.connect('enron.db')"
     ],
     "language": "python",
     "metadata": {
      "slideshow": {
       "slide_type": "slide"
      }
     },
     "outputs": [],
     "prompt_number": 1
    },
    {
     "cell_type": "code",
     "collapsed": false,
     "input": [
      "y.head()"
     ],
     "language": "python",
     "metadata": {},
     "outputs": [
      {
       "html": [
        "<div style=\"max-height:1000px;max-width:1500px;overflow:auto;\">\n",
        "<table border=\"1\" class=\"dataframe\">\n",
        "  <thead>\n",
        "    <tr style=\"text-align: right;\">\n",
        "      <th></th>\n",
        "      <th>State</th>\n",
        "      <th>Age</th>\n",
        "      <th>HS</th>\n",
        "      <th>Income</th>\n",
        "      <th>Black</th>\n",
        "      <th>Female</th>\n",
        "      <th>Price</th>\n",
        "      <th>Sales</th>\n",
        "    </tr>\n",
        "  </thead>\n",
        "  <tbody>\n",
        "    <tr>\n",
        "      <th>0</th>\n",
        "      <td> AL</td>\n",
        "      <td> 27.0</td>\n",
        "      <td> 41.3</td>\n",
        "      <td> 2948</td>\n",
        "      <td> 26.2</td>\n",
        "      <td> 51.7</td>\n",
        "      <td> 42.7</td>\n",
        "      <td>  89.8</td>\n",
        "    </tr>\n",
        "    <tr>\n",
        "      <th>1</th>\n",
        "      <td> AK</td>\n",
        "      <td> 22.9</td>\n",
        "      <td> 66.7</td>\n",
        "      <td> 4644</td>\n",
        "      <td>  3.0</td>\n",
        "      <td> 45.7</td>\n",
        "      <td> 41.8</td>\n",
        "      <td> 121.3</td>\n",
        "    </tr>\n",
        "    <tr>\n",
        "      <th>2</th>\n",
        "      <td> AZ</td>\n",
        "      <td> 26.3</td>\n",
        "      <td> 58.1</td>\n",
        "      <td> 3665</td>\n",
        "      <td>  3.0</td>\n",
        "      <td> 50.8</td>\n",
        "      <td> 38.5</td>\n",
        "      <td> 115.2</td>\n",
        "    </tr>\n",
        "    <tr>\n",
        "      <th>3</th>\n",
        "      <td> AR</td>\n",
        "      <td> 29.1</td>\n",
        "      <td> 39.9</td>\n",
        "      <td> 2878</td>\n",
        "      <td> 18.3</td>\n",
        "      <td> 51.5</td>\n",
        "      <td> 38.8</td>\n",
        "      <td> 100.3</td>\n",
        "    </tr>\n",
        "    <tr>\n",
        "      <th>4</th>\n",
        "      <td> CA</td>\n",
        "      <td> 28.1</td>\n",
        "      <td> 62.6</td>\n",
        "      <td> 4493</td>\n",
        "      <td>  7.0</td>\n",
        "      <td> 50.8</td>\n",
        "      <td> 39.7</td>\n",
        "      <td> 123.0</td>\n",
        "    </tr>\n",
        "  </tbody>\n",
        "</table>\n",
        "<p>5 rows \u00d7 8 columns</p>\n",
        "</div>"
       ],
       "metadata": {},
       "output_type": "pyout",
       "prompt_number": 15,
       "text": [
        "  State   Age    HS  Income  Black  Female  Price  Sales\n",
        "0    AL  27.0  41.3    2948   26.2    51.7   42.7   89.8\n",
        "1    AK  22.9  66.7    4644    3.0    45.7   41.8  121.3\n",
        "2    AZ  26.3  58.1    3665    3.0    50.8   38.5  115.2\n",
        "3    AR  29.1  39.9    2878   18.3    51.5   38.8  100.3\n",
        "4    CA  28.1  62.6    4493    7.0    50.8   39.7  123.0\n",
        "\n",
        "[5 rows x 8 columns]"
       ]
      }
     ],
     "prompt_number": 15
    },
    {
     "cell_type": "code",
     "collapsed": false,
     "input": [
      "lm = smf.ols('Y ~ X1 + X2 + X3 + X4 + X5 + X6', data=x)\n",
      "fit = lm.fit()\n",
      "print fit.summary()"
     ],
     "language": "python",
     "metadata": {},
     "outputs": []
    },
    {
     "cell_type": "markdown",
     "metadata": {},
     "source": [
      "Homework\n",
      "========"
     ]
    },
    {
     "cell_type": "markdown",
     "metadata": {},
     "source": [
      "Level 1\n",
      "--------\n",
      "\n",
      "Use `enron.db` from last week.\n",
      "\n",
      "1. Select a `DataFrame` containing the recipient count (as before) and the `department` of the sender for each message.\n",
      "\n",
      "2. Create a histogram of the recipient count.\n",
      "\n",
      "3. Create a new column based on the `log` of the recipient count.\n",
      "\n",
      "4. Create a histogram of that log.\n",
      "\n",
      "6. Create a boxplot of the log, splitting the data based on the `department` of the sender.\n",
      "\n",
      "7. Compute the sample mean and standard deviation of the log in the three groups.\n",
      "\n",
      "8. Compute a 95% confidence interval for the difference in recipient count between the three groups. \n",
      "\n",
      "5. At level $\\alpha=5\\%$, test the null hypothesis that the average recipient count does not differ between the three groups. What assumptions are you making? What can you conclude?"
     ]
    },
    {
     "cell_type": "code",
     "collapsed": false,
     "input": [
      "RMBase = sql.frame_query(\"\"\"SELECT mid, MAX(rno) AS recipient_count, from_eid AS eid \n",
      "                                    FROM RecipientBase JOIN MessageBase USING (mid)\n",
      "                                    GROUP BY mid\"\"\", conn, \"mid\")\n",
      "RMBase.head()"
     ],
     "language": "python",
     "metadata": {},
     "outputs": [
      {
       "html": [
        "<div style=\"max-height:1000px;max-width:1500px;overflow:auto;\">\n",
        "<table border=\"1\" class=\"dataframe\">\n",
        "  <thead>\n",
        "    <tr style=\"text-align: right;\">\n",
        "      <th></th>\n",
        "      <th>recipient_count</th>\n",
        "      <th>eid</th>\n",
        "    </tr>\n",
        "    <tr>\n",
        "      <th>mid</th>\n",
        "      <th></th>\n",
        "      <th></th>\n",
        "    </tr>\n",
        "  </thead>\n",
        "  <tbody>\n",
        "    <tr>\n",
        "      <th>1</th>\n",
        "      <td> 1</td>\n",
        "      <td> 138</td>\n",
        "    </tr>\n",
        "    <tr>\n",
        "      <th>2</th>\n",
        "      <td> 1</td>\n",
        "      <td> 138</td>\n",
        "    </tr>\n",
        "    <tr>\n",
        "      <th>3</th>\n",
        "      <td> 1</td>\n",
        "      <td> 138</td>\n",
        "    </tr>\n",
        "    <tr>\n",
        "      <th>4</th>\n",
        "      <td> 4</td>\n",
        "      <td> 138</td>\n",
        "    </tr>\n",
        "    <tr>\n",
        "      <th>5</th>\n",
        "      <td> 2</td>\n",
        "      <td> 138</td>\n",
        "    </tr>\n",
        "  </tbody>\n",
        "</table>\n",
        "<p>5 rows \u00d7 2 columns</p>\n",
        "</div>"
       ],
       "metadata": {},
       "output_type": "pyout",
       "prompt_number": 2,
       "text": [
        "     recipient_count  eid\n",
        "mid                      \n",
        "1                  1  138\n",
        "2                  1  138\n",
        "3                  1  138\n",
        "4                  4  138\n",
        "5                  2  138\n",
        "\n",
        "[5 rows x 2 columns]"
       ]
      }
     ],
     "prompt_number": 2
    },
    {
     "cell_type": "code",
     "collapsed": false,
     "input": [
      "NewEmployeeBase = sql.frame_query(\"\"\"SELECT eid, department FROM EmployeeBase\"\"\", conn, \"eid\")\n",
      "NewEmployeeBase.head()"
     ],
     "language": "python",
     "metadata": {},
     "outputs": [
      {
       "html": [
        "<div style=\"max-height:1000px;max-width:1500px;overflow:auto;\">\n",
        "<table border=\"1\" class=\"dataframe\">\n",
        "  <thead>\n",
        "    <tr style=\"text-align: right;\">\n",
        "      <th></th>\n",
        "      <th>department</th>\n",
        "    </tr>\n",
        "    <tr>\n",
        "      <th>eid</th>\n",
        "      <th></th>\n",
        "    </tr>\n",
        "  </thead>\n",
        "  <tbody>\n",
        "    <tr>\n",
        "      <th>1</th>\n",
        "      <td> Trading</td>\n",
        "    </tr>\n",
        "    <tr>\n",
        "      <th>2</th>\n",
        "      <td> Trading</td>\n",
        "    </tr>\n",
        "    <tr>\n",
        "      <th>3</th>\n",
        "      <td> Trading</td>\n",
        "    </tr>\n",
        "    <tr>\n",
        "      <th>4</th>\n",
        "      <td>   Legal</td>\n",
        "    </tr>\n",
        "    <tr>\n",
        "      <th>5</th>\n",
        "      <td> Trading</td>\n",
        "    </tr>\n",
        "  </tbody>\n",
        "</table>\n",
        "<p>5 rows \u00d7 1 columns</p>\n",
        "</div>"
       ],
       "metadata": {},
       "output_type": "pyout",
       "prompt_number": 3,
       "text": [
        "    department\n",
        "eid           \n",
        "1      Trading\n",
        "2      Trading\n",
        "3      Trading\n",
        "4        Legal\n",
        "5      Trading\n",
        "\n",
        "[5 rows x 1 columns]"
       ]
      }
     ],
     "prompt_number": 3
    },
    {
     "cell_type": "code",
     "collapsed": false,
     "input": [
      "EMRBase = RMBase.join(NewEmployeeBase)\n",
      "EMRBase.head()"
     ],
     "language": "python",
     "metadata": {},
     "outputs": [
      {
       "html": [
        "<div style=\"max-height:1000px;max-width:1500px;overflow:auto;\">\n",
        "<table border=\"1\" class=\"dataframe\">\n",
        "  <thead>\n",
        "    <tr style=\"text-align: right;\">\n",
        "      <th></th>\n",
        "      <th>recipient_count</th>\n",
        "      <th>eid</th>\n",
        "      <th>department</th>\n",
        "    </tr>\n",
        "    <tr>\n",
        "      <th>mid</th>\n",
        "      <th></th>\n",
        "      <th></th>\n",
        "      <th></th>\n",
        "    </tr>\n",
        "  </thead>\n",
        "  <tbody>\n",
        "    <tr>\n",
        "      <th>1</th>\n",
        "      <td> 1</td>\n",
        "      <td> 138</td>\n",
        "      <td> Trading</td>\n",
        "    </tr>\n",
        "    <tr>\n",
        "      <th>2</th>\n",
        "      <td> 1</td>\n",
        "      <td> 138</td>\n",
        "      <td> Trading</td>\n",
        "    </tr>\n",
        "    <tr>\n",
        "      <th>3</th>\n",
        "      <td> 1</td>\n",
        "      <td> 138</td>\n",
        "      <td> Trading</td>\n",
        "    </tr>\n",
        "    <tr>\n",
        "      <th>4</th>\n",
        "      <td> 4</td>\n",
        "      <td> 138</td>\n",
        "      <td>   Legal</td>\n",
        "    </tr>\n",
        "    <tr>\n",
        "      <th>5</th>\n",
        "      <td> 2</td>\n",
        "      <td> 138</td>\n",
        "      <td> Trading</td>\n",
        "    </tr>\n",
        "  </tbody>\n",
        "</table>\n",
        "<p>5 rows \u00d7 3 columns</p>\n",
        "</div>"
       ],
       "metadata": {},
       "output_type": "pyout",
       "prompt_number": 4,
       "text": [
        "     recipient_count  eid department\n",
        "mid                                 \n",
        "1                  1  138    Trading\n",
        "2                  1  138    Trading\n",
        "3                  1  138    Trading\n",
        "4                  4  138      Legal\n",
        "5                  2  138    Trading\n",
        "\n",
        "[5 rows x 3 columns]"
       ]
      }
     ],
     "prompt_number": 4
    },
    {
     "cell_type": "code",
     "collapsed": false,
     "input": [
      "EMRBase.recipient_count.hist()"
     ],
     "language": "python",
     "metadata": {},
     "outputs": [
      {
       "metadata": {},
       "output_type": "pyout",
       "prompt_number": 5,
       "text": [
        "<matplotlib.axes.AxesSubplot at 0x107d2f110>"
       ]
      },
      {
       "metadata": {},
       "output_type": "display_data",
       "png": "[encoded data removed]",
       "text": [
        "<matplotlib.figure.Figure at 0x10275c590>"
       ]
      }
     ],
     "prompt_number": 5
    },
    {
     "cell_type": "code",
     "collapsed": false,
     "input": [
      "EMRBase['lrc'] = np.log(EMRBase.recipient_count)\n",
      "EMRBase.head()"
     ],
     "language": "python",
     "metadata": {},
     "outputs": [
      {
       "html": [
        "<div style=\"max-height:1000px;max-width:1500px;overflow:auto;\">\n",
        "<table border=\"1\" class=\"dataframe\">\n",
        "  <thead>\n",
        "    <tr style=\"text-align: right;\">\n",
        "      <th></th>\n",
        "      <th>recipient_count</th>\n",
        "      <th>eid</th>\n",
        "      <th>department</th>\n",
        "      <th>lrc</th>\n",
        "    </tr>\n",
        "    <tr>\n",
        "      <th>mid</th>\n",
        "      <th></th>\n",
        "      <th></th>\n",
        "      <th></th>\n",
        "      <th></th>\n",
        "    </tr>\n",
        "  </thead>\n",
        "  <tbody>\n",
        "    <tr>\n",
        "      <th>1</th>\n",
        "      <td> 1</td>\n",
        "      <td> 138</td>\n",
        "      <td> Trading</td>\n",
        "      <td> 0.000000</td>\n",
        "    </tr>\n",
        "    <tr>\n",
        "      <th>2</th>\n",
        "      <td> 1</td>\n",
        "      <td> 138</td>\n",
        "      <td> Trading</td>\n",
        "      <td> 0.000000</td>\n",
        "    </tr>\n",
        "    <tr>\n",
        "      <th>3</th>\n",
        "      <td> 1</td>\n",
        "      <td> 138</td>\n",
        "      <td> Trading</td>\n",
        "      <td> 0.000000</td>\n",
        "    </tr>\n",
        "    <tr>\n",
        "      <th>4</th>\n",
        "      <td> 4</td>\n",
        "      <td> 138</td>\n",
        "      <td>   Legal</td>\n",
        "      <td> 1.386294</td>\n",
        "    </tr>\n",
        "    <tr>\n",
        "      <th>5</th>\n",
        "      <td> 2</td>\n",
        "      <td> 138</td>\n",
        "      <td> Trading</td>\n",
        "      <td> 0.693147</td>\n",
        "    </tr>\n",
        "  </tbody>\n",
        "</table>\n",
        "<p>5 rows \u00d7 4 columns</p>\n",
        "</div>"
       ],
       "metadata": {},
       "output_type": "pyout",
       "prompt_number": 8,
       "text": [
        "     recipient_count  eid department       lrc\n",
        "mid                                           \n",
        "1                  1  138    Trading  0.000000\n",
        "2                  1  138    Trading  0.000000\n",
        "3                  1  138    Trading  0.000000\n",
        "4                  4  138      Legal  1.386294\n",
        "5                  2  138    Trading  0.693147\n",
        "\n",
        "[5 rows x 4 columns]"
       ]
      }
     ],
     "prompt_number": 8
    },
    {
     "cell_type": "code",
     "collapsed": false,
     "input": [
      "EMRBase.lrc.hist()"
     ],
     "language": "python",
     "metadata": {},
     "outputs": [
      {
       "metadata": {},
       "output_type": "pyout",
       "prompt_number": 10,
       "text": [
        "<matplotlib.axes.AxesSubplot at 0x107e9aa50>"
       ]
      },
      {
       "metadata": {},
       "output_type": "display_data",
       "png": "[encoded data removed]",
       "text": [
        "<matplotlib.figure.Figure at 0x107e9ad50>"
       ]
      }
     ],
     "prompt_number": 10
    },
    {
     "cell_type": "code",
     "collapsed": false,
     "input": [
      "EMRBase.boxplot(column='lrc', by='department')"
     ],
     "language": "python",
     "metadata": {},
     "outputs": [
      {
       "metadata": {},
       "output_type": "pyout",
       "prompt_number": 12,
       "text": [
        "<matplotlib.axes.AxesSubplot at 0x107e1dd90>"
       ]
      },
      {
       "metadata": {},
       "output_type": "display_data",
       "png": "[encoded data removed]",
       "text": [
        "<matplotlib.figure.Figure at 0x107e1d750>"
       ]
      }
     ],
     "prompt_number": 12
    },
    {
     "cell_type": "code",
     "collapsed": false,
     "input": [
      "legal = EMRBase.lrc[EMRBase.department == 'Legal']\n",
      "trading = EMRBase.lrc[EMRBase.department == 'Trading']\n",
      "other = EMRBase.lrc[EMRBase.department == 'Other']\n",
      "legal.describe()"
     ],
     "language": "python",
     "metadata": {},
     "outputs": [
      {
       "metadata": {},
       "output_type": "pyout",
       "prompt_number": 14,
       "text": [
        "count    25.000000\n",
        "mean      0.366781\n",
        "std       0.607982\n",
        "min       0.000000\n",
        "25%       0.000000\n",
        "50%       0.000000\n",
        "75%       0.693147\n",
        "max       1.791759\n",
        "Name: lrc, dtype: float64"
       ]
      }
     ],
     "prompt_number": 14
    },
    {
     "cell_type": "code",
     "collapsed": false,
     "input": [
      "trading.describe()"
     ],
     "language": "python",
     "metadata": {},
     "outputs": [
      {
       "metadata": {},
       "output_type": "pyout",
       "prompt_number": 15,
       "text": [
        "count    60.000000\n",
        "mean      0.141927\n",
        "std       0.410467\n",
        "min       0.000000\n",
        "25%       0.000000\n",
        "50%       0.000000\n",
        "75%       0.000000\n",
        "max       2.564949\n",
        "Name: lrc, dtype: float64"
       ]
      }
     ],
     "prompt_number": 15
    },
    {
     "cell_type": "code",
     "collapsed": false,
     "input": [
      "other.describe()"
     ],
     "language": "python",
     "metadata": {},
     "outputs": [
      {
       "metadata": {},
       "output_type": "pyout",
       "prompt_number": 16,
       "text": [
        "count    71.000000\n",
        "mean      0.164147\n",
        "std       0.412784\n",
        "min       0.000000\n",
        "25%       0.000000\n",
        "50%       0.000000\n",
        "75%       0.000000\n",
        "max       1.609438\n",
        "Name: lrc, dtype: float64"
       ]
      }
     ],
     "prompt_number": 16
    },
    {
     "cell_type": "code",
     "collapsed": false,
     "input": [
      "t, p = stats.ttest_ind(other, trading, equal_var= True)\n",
      "'t-statistic = {:6.6} pvalue = {:.4}'.format(t, p)"
     ],
     "language": "python",
     "metadata": {},
     "outputs": [
      {
       "metadata": {},
       "output_type": "pyout",
       "prompt_number": 30,
       "text": [
        "'t-statistic = 0.3077 pvalue = 0.7588'"
       ]
      }
     ],
     "prompt_number": 30
    },
    {
     "cell_type": "code",
     "collapsed": false,
     "input": [
      "t, p = stats.ttest_ind(legal, trading, equal_var=False)\n",
      "'t-statistic = {:6.6} pvalue = {:.4}'.format(t, p)"
     ],
     "language": "python",
     "metadata": {},
     "outputs": [
      {
       "metadata": {},
       "output_type": "pyout",
       "prompt_number": 24,
       "text": [
        "'t-statistic = 1.6952 pvalue = 0.09932'"
       ]
      }
     ],
     "prompt_number": 24
    },
    {
     "cell_type": "code",
     "collapsed": false,
     "input": [
      "t, p = stats.ttest_ind(legal, other, equal_var=False)\n",
      "'t-statistic = {:6.6} pvalue = {:.4}'.format(t, p)"
     ],
     "language": "python",
     "metadata": {},
     "outputs": [
      {
       "metadata": {},
       "output_type": "pyout",
       "prompt_number": 26,
       "text": [
        "'t-statistic = 1.5457 pvalue = 0.132'"
       ]
      }
     ],
     "prompt_number": 26
    },
    {
     "cell_type": "markdown",
     "metadata": {},
     "source": [
      "Level 2\n",
      "-------\n",
      "A criminologist studying the relationship between income level and assults in U.S. cities (among other things) collected the following data for 2215 communities. The dataset can be found in the [UCI machine learning site](http://archive.ics.uci.edu/ml/datasets/Communities+and+Crime+Unnormalized).\n",
      "\n",
      "We are interested in the per capita assult rate and its relation to median income."
     ]
    },
    {
     "cell_type": "code",
     "collapsed": false,
     "input": [
      "crime = pd.read_csv(\"http://archive.ics.uci.edu/ml/machine-learning-databases/00211/CommViolPredUnnormalizedData.txt\", header = None, na_values  = '?',\n",
      "                    names = ['communityname', 'state', 'countyCode', 'communityCode', 'fold', 'population', 'householdsize', 'racepctblack', 'racePctWhite', 'racePctAsian', 'racePctHisp', 'agePct12t21', 'agePct12t29', 'agePct16t24', 'agePct65up', 'numbUrban', 'pctUrban', 'medIncome', 'pctWWage', 'pctWFarmSelf', 'pctWInvInc', 'pctWSocSec', 'pctWPubAsst', 'pctWRetire', 'medFamInc', 'perCapInc', 'whitePerCap', 'blackPerCap', 'indianPerCap', 'AsianPerCap', 'OtherPerCap', 'HispPerCap', 'NumUnderPov', 'PctPopUnderPov', 'PctLess9thGrade', 'PctNotHSGrad', 'PctBSorMore', 'PctUnemployed', 'PctEmploy', 'PctEmplManu', 'PctEmplProfServ', 'PctOccupManu', 'PctOccupMgmtProf', 'MalePctDivorce', 'MalePctNevMarr', 'FemalePctDiv', 'TotalPctDiv', 'PersPerFam', 'PctFam2Par', 'PctKids2Par', 'PctYoungKids2Par', 'PctTeen2Par', 'PctWorkMomYoungKids', 'PctWorkMom', 'NumKidsBornNeverMar', 'PctKidsBornNeverMar', 'NumImmig', 'PctImmigRecent', 'PctImmigRec5', 'PctImmigRec8', 'PctImmigRec10', 'PctRecentImmig', 'PctRecImmig5', 'PctRecImmig8', 'PctRecImmig10', 'PctSpeakEnglOnly', 'PctNotSpeakEnglWell', 'PctLargHouseFam', 'PctLargHouseOccup', 'PersPerOccupHous', 'PersPerOwnOccHous', 'PersPerRentOccHous', 'PctPersOwnOccup', 'PctPersDenseHous', 'PctHousLess3BR', 'MedNumBR', 'HousVacant', 'PctHousOccup', 'PctHousOwnOcc', 'PctVacantBoarded', 'PctVacMore6Mos', 'MedYrHousBuilt', 'PctHousNoPhone', 'PctWOFullPlumb', 'OwnOccLowQuart', 'OwnOccMedVal', 'OwnOccHiQuart', 'OwnOccQrange', 'RentLowQ', 'RentMedian', 'RentHighQ', 'RentQrange', 'MedRent', 'MedRentPctHousInc', 'MedOwnCostPctInc', 'MedOwnCostPctIncNoMtg', 'NumInShelters', 'NumStreet', 'PctForeignBorn', 'PctBornSameState', 'PctSameHouse85', 'PctSameCity85', 'PctSameState85', 'LemasSwornFT', 'LemasSwFTPerPop', 'LemasSwFTFieldOps', 'LemasSwFTFieldPerPop', 'LemasTotalReq', 'LemasTotReqPerPop', 'PolicReqPerOffic', 'PolicPerPop', 'RacialMatchCommPol', 'PctPolicWhite', 'PctPolicBlack', 'PctPolicHisp', 'PctPolicAsian', 'PctPolicMinor', 'OfficAssgnDrugUnits', 'NumKindsDrugsSeiz', 'PolicAveOTWorked', 'LandArea', 'PopDens', 'PctUsePubTrans', 'PolicCars', 'PolicOperBudg', 'LemasPctPolicOnPatr', 'LemasGangUnitDeploy', 'LemasPctOfficDrugUn', 'PolicBudgPerPop', 'murders', 'murdPerPop', 'rapes', 'rapesPerPop', 'robberies', 'robbbPerPop', 'assaults', 'assaultPerPop', 'burglaries', 'burglPerPop', 'larcenies', 'larcPerPop', 'autoTheft', 'autoTheftPerPop', 'arsons', 'arsonsPerPop', 'ViolentCrimesPerPop', 'nonViolPerPop'])\n",
      "crime.head()"
     ],
     "language": "python",
     "metadata": {},
     "outputs": [
      {
       "html": [
        "<div style=\"max-height:1000px;max-width:1500px;overflow:auto;\">\n",
        "<table border=\"1\" class=\"dataframe\">\n",
        "  <thead>\n",
        "    <tr style=\"text-align: right;\">\n",
        "      <th></th>\n",
        "      <th>communityname</th>\n",
        "      <th>state</th>\n",
        "      <th>countyCode</th>\n",
        "      <th>communityCode</th>\n",
        "      <th>fold</th>\n",
        "      <th>population</th>\n",
        "      <th>householdsize</th>\n",
        "      <th>racepctblack</th>\n",
        "      <th>racePctWhite</th>\n",
        "      <th>racePctAsian</th>\n",
        "      <th>racePctHisp</th>\n",
        "      <th>agePct12t21</th>\n",
        "      <th>agePct12t29</th>\n",
        "      <th>agePct16t24</th>\n",
        "      <th>agePct65up</th>\n",
        "      <th>numbUrban</th>\n",
        "      <th>pctUrban</th>\n",
        "      <th>medIncome</th>\n",
        "      <th>pctWWage</th>\n",
        "      <th>pctWFarmSelf</th>\n",
        "      <th></th>\n",
        "    </tr>\n",
        "  </thead>\n",
        "  <tbody>\n",
        "    <tr>\n",
        "      <th>0</th>\n",
        "      <td> BerkeleyHeightstownship</td>\n",
        "      <td> NJ</td>\n",
        "      <td> 39</td>\n",
        "      <td>  5320</td>\n",
        "      <td> 1</td>\n",
        "      <td> 11980</td>\n",
        "      <td> 3.10</td>\n",
        "      <td> 1.37</td>\n",
        "      <td> 91.78</td>\n",
        "      <td> 6.50</td>\n",
        "      <td> 1.88</td>\n",
        "      <td> 12.47</td>\n",
        "      <td> 21.44</td>\n",
        "      <td> 10.93</td>\n",
        "      <td> 11.33</td>\n",
        "      <td> 11980</td>\n",
        "      <td> 100</td>\n",
        "      <td> 75122</td>\n",
        "      <td> 89.24</td>\n",
        "      <td> 1.55</td>\n",
        "      <td>...</td>\n",
        "    </tr>\n",
        "    <tr>\n",
        "      <th>1</th>\n",
        "      <td>          Marpletownship</td>\n",
        "      <td> PA</td>\n",
        "      <td> 45</td>\n",
        "      <td> 47616</td>\n",
        "      <td> 1</td>\n",
        "      <td> 23123</td>\n",
        "      <td> 2.82</td>\n",
        "      <td> 0.80</td>\n",
        "      <td> 95.57</td>\n",
        "      <td> 3.44</td>\n",
        "      <td> 0.85</td>\n",
        "      <td> 11.01</td>\n",
        "      <td> 21.30</td>\n",
        "      <td> 10.48</td>\n",
        "      <td> 17.18</td>\n",
        "      <td> 23123</td>\n",
        "      <td> 100</td>\n",
        "      <td> 47917</td>\n",
        "      <td> 78.99</td>\n",
        "      <td> 1.11</td>\n",
        "      <td>...</td>\n",
        "    </tr>\n",
        "    <tr>\n",
        "      <th>2</th>\n",
        "      <td>              Tigardcity</td>\n",
        "      <td> OR</td>\n",
        "      <td>NaN</td>\n",
        "      <td>   NaN</td>\n",
        "      <td> 1</td>\n",
        "      <td> 29344</td>\n",
        "      <td> 2.43</td>\n",
        "      <td> 0.74</td>\n",
        "      <td> 94.33</td>\n",
        "      <td> 3.43</td>\n",
        "      <td> 2.35</td>\n",
        "      <td> 11.36</td>\n",
        "      <td> 25.88</td>\n",
        "      <td> 11.01</td>\n",
        "      <td> 10.28</td>\n",
        "      <td> 29344</td>\n",
        "      <td> 100</td>\n",
        "      <td> 35669</td>\n",
        "      <td> 82.00</td>\n",
        "      <td> 1.15</td>\n",
        "      <td>...</td>\n",
        "    </tr>\n",
        "    <tr>\n",
        "      <th>3</th>\n",
        "      <td>        Gloversvillecity</td>\n",
        "      <td> NY</td>\n",
        "      <td> 35</td>\n",
        "      <td> 29443</td>\n",
        "      <td> 1</td>\n",
        "      <td> 16656</td>\n",
        "      <td> 2.40</td>\n",
        "      <td> 1.70</td>\n",
        "      <td> 97.35</td>\n",
        "      <td> 0.50</td>\n",
        "      <td> 0.70</td>\n",
        "      <td> 12.55</td>\n",
        "      <td> 25.20</td>\n",
        "      <td> 12.19</td>\n",
        "      <td> 17.57</td>\n",
        "      <td>     0</td>\n",
        "      <td>   0</td>\n",
        "      <td> 20580</td>\n",
        "      <td> 68.15</td>\n",
        "      <td> 0.24</td>\n",
        "      <td>...</td>\n",
        "    </tr>\n",
        "    <tr>\n",
        "      <th>4</th>\n",
        "      <td>             Bemidjicity</td>\n",
        "      <td> MN</td>\n",
        "      <td>  7</td>\n",
        "      <td>  5068</td>\n",
        "      <td> 1</td>\n",
        "      <td> 11245</td>\n",
        "      <td> 2.76</td>\n",
        "      <td> 0.53</td>\n",
        "      <td> 89.16</td>\n",
        "      <td> 1.17</td>\n",
        "      <td> 0.52</td>\n",
        "      <td> 24.46</td>\n",
        "      <td> 40.53</td>\n",
        "      <td> 28.69</td>\n",
        "      <td> 12.65</td>\n",
        "      <td>     0</td>\n",
        "      <td>   0</td>\n",
        "      <td> 17390</td>\n",
        "      <td> 69.33</td>\n",
        "      <td> 0.55</td>\n",
        "      <td>...</td>\n",
        "    </tr>\n",
        "  </tbody>\n",
        "</table>\n",
        "<p>5 rows \u00d7 147 columns</p>\n",
        "</div>"
       ],
       "metadata": {},
       "output_type": "pyout",
       "prompt_number": 31,
       "text": [
        "             communityname state  countyCode  communityCode  fold  population  \\\n",
        "0  BerkeleyHeightstownship    NJ          39           5320     1       11980   \n",
        "1           Marpletownship    PA          45          47616     1       23123   \n",
        "2               Tigardcity    OR         NaN            NaN     1       29344   \n",
        "3         Gloversvillecity    NY          35          29443     1       16656   \n",
        "4              Bemidjicity    MN           7           5068     1       11245   \n",
        "\n",
        "   householdsize  racepctblack  racePctWhite  racePctAsian  racePctHisp  \\\n",
        "0           3.10          1.37         91.78          6.50         1.88   \n",
        "1           2.82          0.80         95.57          3.44         0.85   \n",
        "2           2.43          0.74         94.33          3.43         2.35   \n",
        "3           2.40          1.70         97.35          0.50         0.70   \n",
        "4           2.76          0.53         89.16          1.17         0.52   \n",
        "\n",
        "   agePct12t21  agePct12t29  agePct16t24  agePct65up  numbUrban  pctUrban  \\\n",
        "0        12.47        21.44        10.93       11.33      11980       100   \n",
        "1        11.01        21.30        10.48       17.18      23123       100   \n",
        "2        11.36        25.88        11.01       10.28      29344       100   \n",
        "3        12.55        25.20        12.19       17.57          0         0   \n",
        "4        24.46        40.53        28.69       12.65          0         0   \n",
        "\n",
        "   medIncome  pctWWage  pctWFarmSelf      \n",
        "0      75122     89.24          1.55 ...  \n",
        "1      47917     78.99          1.11 ...  \n",
        "2      35669     82.00          1.15 ...  \n",
        "3      20580     68.15          0.24 ...  \n",
        "4      17390     69.33          0.55 ...  \n",
        "\n",
        "[5 rows x 147 columns]"
       ]
      }
     ],
     "prompt_number": 31
    },
    {
     "cell_type": "markdown",
     "metadata": {},
     "source": [
      "1. Fit a simple linear regression model to the data with `np.log(crime.assaults)` as the dependent variable and `np.log(crime.medIncome)` as the independent variable. Plot the estimated regression line.\n",
      "\n",
      "4. Test whether there is a linear relationship between `assaults` and `medIncome` at level $\\alpha=0.05$. State the null hypothesis, the alternative, the conclusion and the $p$-value.\n",
      "\n",
      "5. Give a 95% confidence interval for the slope of the regression line. Interpret your interval.\n",
      "\n",
      "6. Report the $R^2$ and the adjusted $R^2$ of the model, as well as an estimate of the variance of the errors in the model.\n",
      "\n",
      "7. Go to [archive.ics.uci.edu/ml/datasets/Communities+and+Crime+Unnormalized](http://archive.ics.uci.edu/ml/datasets/Communities+and+Crime+Unnormalized) and pick out a few other factors that might help you predict `assults`."
     ]
    },
    {
     "cell_type": "code",
     "collapsed": false,
     "input": [
      "avmi = pd.DataFrame({'la': np.log(crime.assaults), 'lmi': np.log(crime.medIncome)})\n",
      "avmi.head()"
     ],
     "language": "python",
     "metadata": {},
     "outputs": [
      {
       "html": [
        "<div style=\"max-height:1000px;max-width:1500px;overflow:auto;\">\n",
        "<table border=\"1\" class=\"dataframe\">\n",
        "  <thead>\n",
        "    <tr style=\"text-align: right;\">\n",
        "      <th></th>\n",
        "      <th>la</th>\n",
        "      <th>lmi</th>\n",
        "    </tr>\n",
        "  </thead>\n",
        "  <tbody>\n",
        "    <tr>\n",
        "      <th>0</th>\n",
        "      <td> 1.386294</td>\n",
        "      <td> 11.226869</td>\n",
        "    </tr>\n",
        "    <tr>\n",
        "      <th>1</th>\n",
        "      <td> 3.178054</td>\n",
        "      <td> 10.777226</td>\n",
        "    </tr>\n",
        "    <tr>\n",
        "      <th>2</th>\n",
        "      <td> 2.639057</td>\n",
        "      <td> 10.482037</td>\n",
        "    </tr>\n",
        "    <tr>\n",
        "      <th>3</th>\n",
        "      <td> 3.496508</td>\n",
        "      <td>  9.932075</td>\n",
        "    </tr>\n",
        "    <tr>\n",
        "      <th>4</th>\n",
        "      <td> 2.639057</td>\n",
        "      <td>  9.763651</td>\n",
        "    </tr>\n",
        "  </tbody>\n",
        "</table>\n",
        "<p>5 rows \u00d7 2 columns</p>\n",
        "</div>"
       ],
       "metadata": {},
       "output_type": "pyout",
       "prompt_number": 54,
       "text": [
        "         la        lmi\n",
        "0  1.386294  11.226869\n",
        "1  3.178054  10.777226\n",
        "2  2.639057  10.482037\n",
        "3  3.496508   9.932075\n",
        "4  2.639057   9.763651\n",
        "\n",
        "[5 rows x 2 columns]"
       ]
      }
     ],
     "prompt_number": 54
    },
    {
     "cell_type": "code",
     "collapsed": false,
     "input": [
      "lm = smf.ols('la ~ lmi', data = avmi)\n",
      "fit = lm.fit()\n",
      "fit.summary()"
     ],
     "language": "python",
     "metadata": {},
     "outputs": [
      {
       "html": [
        "<table class=\"simpletable\">\n",
        "<caption>OLS Regression Results</caption>\n",
        "<tr>\n",
        "  <th>Dep. Variable:</th>           <td>la</td>        <th>  R-squared:         </th> <td>     nan</td>\n",
        "</tr>\n",
        "<tr>\n",
        "  <th>Model:</th>                   <td>OLS</td>       <th>  Adj. R-squared:    </th> <td>     nan</td>\n",
        "</tr>\n",
        "<tr>\n",
        "  <th>Method:</th>             <td>Least Squares</td>  <th>  F-statistic:       </th> <td>     nan</td>\n",
        "</tr>\n",
        "<tr>\n",
        "  <th>Date:</th>             <td>Wed, 07 May 2014</td> <th>  Prob (F-statistic):</th>  <td>   nan</td> \n",
        "</tr>\n",
        "<tr>\n",
        "  <th>Time:</th>                 <td>16:39:21</td>     <th>  Log-Likelihood:    </th> <td>     nan</td>\n",
        "</tr>\n",
        "<tr>\n",
        "  <th>No. Observations:</th>      <td>  2202</td>      <th>  AIC:               </th> <td>     nan</td>\n",
        "</tr>\n",
        "<tr>\n",
        "  <th>Df Residuals:</th>          <td>  2200</td>      <th>  BIC:               </th> <td>     nan</td>\n",
        "</tr>\n",
        "<tr>\n",
        "  <th>Df Model:</th>              <td>     1</td>      <th>                     </th>     <td> </td>   \n",
        "</tr>\n",
        "</table>\n",
        "<table class=\"simpletable\">\n",
        "<tr>\n",
        "      <td></td>         <th>coef</th>     <th>std err</th>      <th>t</th>      <th>P>|t|</th> <th>[95.0% Conf. Int.]</th> \n",
        "</tr>\n",
        "<tr>\n",
        "  <th>Intercept</th> <td>       nan</td> <td>      nan</td> <td>      nan</td> <td>   nan</td> <td>      nan       nan</td>\n",
        "</tr>\n",
        "<tr>\n",
        "  <th>lmi</th>       <td>       nan</td> <td>      nan</td> <td>      nan</td> <td>   nan</td> <td>      nan       nan</td>\n",
        "</tr>\n",
        "</table>\n",
        "<table class=\"simpletable\">\n",
        "<tr>\n",
        "  <th>Omnibus:</th>       <td>   nan</td> <th>  Durbin-Watson:     </th> <td>     nan</td>\n",
        "</tr>\n",
        "<tr>\n",
        "  <th>Prob(Omnibus):</th> <td>   nan</td> <th>  Jarque-Bera (JB):  </th> <td>     nan</td>\n",
        "</tr>\n",
        "<tr>\n",
        "  <th>Skew:</th>          <td>   nan</td> <th>  Prob(JB):          </th> <td>     nan</td>\n",
        "</tr>\n",
        "<tr>\n",
        "  <th>Kurtosis:</th>      <td>   nan</td> <th>  Cond. No.          </th> <td>    293.</td>\n",
        "</tr>\n",
        "</table>"
       ],
       "metadata": {},
       "output_type": "pyout",
       "prompt_number": 57,
       "text": [
        "<class 'statsmodels.iolib.summary.Summary'>\n",
        "\"\"\"\n",
        "                            OLS Regression Results                            \n",
        "==============================================================================\n",
        "Dep. Variable:                     la   R-squared:                         nan\n",
        "Model:                            OLS   Adj. R-squared:                    nan\n",
        "Method:                 Least Squares   F-statistic:                       nan\n",
        "Date:                Wed, 07 May 2014   Prob (F-statistic):                nan\n",
        "Time:                        16:39:21   Log-Likelihood:                    nan\n",
        "No. Observations:                2202   AIC:                               nan\n",
        "Df Residuals:                    2200   BIC:                               nan\n",
        "Df Model:                           1                                         \n",
        "==============================================================================\n",
        "                 coef    std err          t      P>|t|      [95.0% Conf. Int.]\n",
        "------------------------------------------------------------------------------\n",
        "Intercept         nan        nan        nan        nan           nan       nan\n",
        "lmi               nan        nan        nan        nan           nan       nan\n",
        "==============================================================================\n",
        "Omnibus:                          nan   Durbin-Watson:                     nan\n",
        "Prob(Omnibus):                    nan   Jarque-Bera (JB):                  nan\n",
        "Skew:                             nan   Prob(JB):                          nan\n",
        "Kurtosis:                         nan   Cond. No.                         293.\n",
        "==============================================================================\n",
        "\"\"\""
       ]
      }
     ],
     "prompt_number": 57
    },
    {
     "cell_type": "code",
     "collapsed": false,
     "input": [
      "avmi.la.head()"
     ],
     "language": "python",
     "metadata": {},
     "outputs": [
      {
       "metadata": {},
       "output_type": "pyout",
       "prompt_number": 61,
       "text": [
        "0    1.386294\n",
        "1    3.178054\n",
        "2    2.639057\n",
        "3    3.496508\n",
        "4    2.639057\n",
        "Name: la, dtype: float64"
       ]
      }
     ],
     "prompt_number": 61
    },
    {
     "cell_type": "code",
     "collapsed": false,
     "input": [
      "avmi.count(axis=1, level=None, numeric_only=False)"
     ],
     "language": "python",
     "metadata": {},
     "outputs": [
      {
       "metadata": {},
       "output_type": "pyout",
       "prompt_number": 62,
       "text": [
        "0     2\n",
        "1     2\n",
        "2     2\n",
        "3     2\n",
        "4     2\n",
        "5     2\n",
        "6     2\n",
        "7     2\n",
        "8     2\n",
        "9     2\n",
        "10    2\n",
        "11    2\n",
        "12    2\n",
        "13    2\n",
        "14    2\n",
        "...\n",
        "2200    2\n",
        "2201    2\n",
        "2202    2\n",
        "2203    2\n",
        "2204    2\n",
        "2205    2\n",
        "2206    2\n",
        "2207    2\n",
        "2208    2\n",
        "2209    2\n",
        "2210    2\n",
        "2211    2\n",
        "2212    2\n",
        "2213    2\n",
        "2214    2\n",
        "Length: 2215, dtype: int64"
       ]
      }
     ],
     "prompt_number": 62
    },
    {
     "cell_type": "code",
     "collapsed": false,
     "input": [],
     "language": "python",
     "metadata": {},
     "outputs": []
    }
   ],
   "metadata": {}
  }
 ]
}