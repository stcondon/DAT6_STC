{
 "metadata": {
  "celltoolbar": "Slideshow",
  "name": "",
  "signature": "sha256:9099d6b477b455842b258b83da1f40ad7fc3ae347a1e4982012b7eeedee9a37f"
 },
 "nbformat": 3,
 "nbformat_minor": 0,
 "worksheets": [
  {
   "cells": [
    {
     "cell_type": "markdown",
     "metadata": {
      "slideshow": {
       "slide_type": "slide"
      }
     },
     "source": [
      "Lab\n",
      "===================\n",
      "Twitter & MongoDB\n",
      "-------------------\n",
      "Alessandro D. Gagliardi"
     ]
    },
    {
     "cell_type": "markdown",
     "metadata": {
      "slideshow": {
       "slide_type": "subslide"
      }
     },
     "source": [
      "Importing Libraries\n",
      "-------------------"
     ]
    },
    {
     "cell_type": "code",
     "collapsed": false,
     "input": [
      "%matplotlib inline\n",
      "# standard library:\n",
      "import os  \n",
      "\n",
      "from pprint import pprint\n",
      "\n",
      "# other modules:\n",
      "import matplotlib.pyplot as plt\n",
      "import pandas as pd\n",
      "import twitter\n",
      "import yaml\n",
      "\n",
      "from pymongo import MongoClient"
     ],
     "language": "python",
     "metadata": {
      "slideshow": {
       "slide_type": "-"
      }
     },
     "outputs": [],
     "prompt_number": 12
    },
    {
     "cell_type": "markdown",
     "metadata": {
      "slideshow": {
       "slide_type": "slide"
      }
     },
     "source": [
      "Twitter Trends\n",
      "=============="
     ]
    },
    {
     "cell_type": "heading",
     "level": 3,
     "metadata": {
      "slideshow": {
       "slide_type": "subslide"
      }
     },
     "source": [
      "Connect to Twitter:"
     ]
    },
    {
     "cell_type": "code",
     "collapsed": false,
     "input": [
      "credentials = yaml.load(open(os.path.expanduser('~/api_cred.yml')))\n",
      "\n",
      "auth = twitter.oauth.OAuth(credentials['ACCESS_TOKEN'], \n",
      "                           credentials['ACCESS_TOKEN_SECRET'],\n",
      "                           credentials['API_KEY'],\n",
      "                           credentials['API_SECRET'])\n",
      "\n",
      "twitter_api = twitter.Twitter(auth=auth)"
     ],
     "language": "python",
     "metadata": {
      "slideshow": {
       "slide_type": "-"
      }
     },
     "outputs": []
    },
    {
     "cell_type": "code",
     "collapsed": false,
     "input": [
      "# The Yahoo! Where On Earth ID for the entire world is 1.\n",
      "# See https://dev.twitter.com/docs/api/1.1/get/trends/place and\n",
      "# http://developer.yahoo.com/geo/geoplanet/\n",
      "\n",
      "WORLD_WOE_ID = 1\n",
      "US_WOE_ID = 23424977\n",
      "\n",
      "# Prefix ID with the underscore for query string parameterization.\n",
      "# Without the underscore, the twitter package appends the ID value\n",
      "# to the URL itself as a special case keyword argument.\n",
      "\n",
      "world_trends = twitter_api.trends.place(_id=WORLD_WOE_ID)\n",
      "us_trends = twitter_api.trends.place(_id=US_WOE_ID)"
     ],
     "language": "python",
     "metadata": {
      "slideshow": {
       "slide_type": "slide"
      }
     },
     "outputs": []
    },
    {
     "cell_type": "code",
     "collapsed": false,
     "input": [
      "world_trends_set = set([trend['name'] for trends in world_trends\n",
      "                        for trend in trends['trends']])\n",
      "\n",
      "us_trends_set = set([trend['name'] for trends in us_trends\n",
      "                     for trend in trends['trends']]) \n",
      "\n",
      "world_trends_set.intersection(us_trends_set)"
     ],
     "language": "python",
     "metadata": {
      "slideshow": {
       "slide_type": "fragment"
      }
     },
     "outputs": []
    },
    {
     "cell_type": "code",
     "collapsed": false,
     "input": [
      "q = world_trends[0]['trends'][0]['name']\n",
      "\n",
      "count = 100\n",
      "\n",
      "# See https://dev.twitter.com/docs/api/1.1/get/search/tweets\n",
      "\n",
      "search_results = twitter_api.search.tweets(q=q, count=count)\n",
      "\n",
      "statuses = search_results['statuses']"
     ],
     "language": "python",
     "metadata": {
      "slideshow": {
       "slide_type": "fragment"
      }
     },
     "outputs": []
    },
    {
     "cell_type": "code",
     "collapsed": false,
     "input": [
      "len(statuses)"
     ],
     "language": "python",
     "metadata": {
      "slideshow": {
       "slide_type": "fragment"
      }
     },
     "outputs": []
    },
    {
     "cell_type": "heading",
     "level": 3,
     "metadata": {
      "slideshow": {
       "slide_type": "subslide"
      }
     },
     "source": [
      "More?"
     ]
    },
    {
     "cell_type": "code",
     "collapsed": false,
     "input": [
      "search_results['search_metadata'].get('next_results')"
     ],
     "language": "python",
     "metadata": {
      "slideshow": {
       "slide_type": "fragment"
      }
     },
     "outputs": []
    },
    {
     "cell_type": "code",
     "collapsed": false,
     "input": [
      "if 'next_results' in search_results['search_metadata']:\n",
      "    next_results = search_results['search_metadata']['next_results']\n",
      "    kwargs = dict([ kv.split('=') for kv in next_results[1:].split(\"&\") ])\n",
      "    search_results = twitter_api.search.tweets(**kwargs)\n",
      "    statuses += search_results['statuses']\n",
      "\n",
      "len(statuses)"
     ],
     "language": "python",
     "metadata": {
      "slideshow": {
       "slide_type": "fragment"
      }
     },
     "outputs": []
    },
    {
     "cell_type": "markdown",
     "metadata": {
      "slideshow": {
       "slide_type": "slide"
      }
     },
     "source": [
      "Mongo\n",
      "====="
     ]
    },
    {
     "cell_type": "markdown",
     "metadata": {
      "slideshow": {
       "slide_type": "subslide"
      }
     },
     "source": [
      "from the command line:\n",
      "```bash\n",
      "$ mkdir -p data/db\n",
      "$ mongod --dbpath data/db\n",
      "```"
     ]
    },
    {
     "cell_type": "heading",
     "level": 3,
     "metadata": {
      "slideshow": {
       "slide_type": "slide"
      }
     },
     "source": [
      "Connect to our Mongo database management server (DBMS):"
     ]
    },
    {
     "cell_type": "code",
     "collapsed": false,
     "input": [
      "c = MongoClient()"
     ],
     "language": "python",
     "metadata": {
      "slideshow": {
       "slide_type": "fragment"
      }
     },
     "outputs": [],
     "prompt_number": 13
    },
    {
     "cell_type": "heading",
     "level": 4,
     "metadata": {
      "slideshow": {
       "slide_type": "fragment"
      }
     },
     "source": [
      "Create a database called `twitter`:"
     ]
    },
    {
     "cell_type": "code",
     "collapsed": false,
     "input": [
      "db = c.twitter"
     ],
     "language": "python",
     "metadata": {
      "slideshow": {
       "slide_type": "fragment"
      }
     },
     "outputs": [],
     "prompt_number": 14
    },
    {
     "cell_type": "markdown",
     "metadata": {
      "slideshow": {
       "slide_type": "notes"
      }
     },
     "source": [
      "##### Yes, it's that easy."
     ]
    },
    {
     "cell_type": "heading",
     "level": 4,
     "metadata": {
      "slideshow": {
       "slide_type": "slide"
      }
     },
     "source": [
      "Insert the results we pulled from Twitter and store them as a document in a collection named `tweets`:"
     ]
    },
    {
     "cell_type": "code",
     "collapsed": false,
     "input": [
      "mentions_followers = list(db.tweets.find(fields=['entities.user_mentions', 'user.followers_count']))\n",
      "pd.DataFrame(mentions_followers).head()"
     ],
     "language": "python",
     "metadata": {
      "slideshow": {
       "slide_type": "-"
      }
     },
     "outputs": [
      {
       "html": [
        "<div style=\"max-height:1000px;max-width:1500px;overflow:auto;\">\n",
        "<table border=\"1\" class=\"dataframe\">\n",
        "  <thead>\n",
        "    <tr style=\"text-align: right;\">\n",
        "      <th></th>\n",
        "      <th>_id</th>\n",
        "      <th>entities</th>\n",
        "      <th>user</th>\n",
        "    </tr>\n",
        "  </thead>\n",
        "  <tbody>\n",
        "    <tr>\n",
        "      <th>0</th>\n",
        "      <td> 5358837ce781c404531322d6</td>\n",
        "      <td> {u'user_mentions': [{u'indices': [0, 13], u'sc...</td>\n",
        "      <td> {u'followers_count': 964}</td>\n",
        "    </tr>\n",
        "    <tr>\n",
        "      <th>1</th>\n",
        "      <td> 5358837ce781c40453132341</td>\n",
        "      <td>                            {u'user_mentions': []}</td>\n",
        "      <td>  {u'followers_count': 19}</td>\n",
        "    </tr>\n",
        "    <tr>\n",
        "      <th>2</th>\n",
        "      <td> 5358837ce781c404531322d7</td>\n",
        "      <td> {u'user_mentions': [{u'indices': [3, 18], u'sc...</td>\n",
        "      <td> {u'followers_count': 200}</td>\n",
        "    </tr>\n",
        "    <tr>\n",
        "      <th>3</th>\n",
        "      <td> 5358837ce781c404531322d8</td>\n",
        "      <td> {u'user_mentions': [{u'indices': [0, 13], u'sc...</td>\n",
        "      <td>   {u'followers_count': 6}</td>\n",
        "    </tr>\n",
        "    <tr>\n",
        "      <th>4</th>\n",
        "      <td> 5358837ce781c404531322d9</td>\n",
        "      <td> {u'user_mentions': [{u'indices': [0, 13], u'sc...</td>\n",
        "      <td> {u'followers_count': 242}</td>\n",
        "    </tr>\n",
        "  </tbody>\n",
        "</table>\n",
        "<p>5 rows \u00d7 3 columns</p>\n",
        "</div>"
       ],
       "metadata": {},
       "output_type": "pyout",
       "prompt_number": 15,
       "text": [
        "                        _id  \\\n",
        "0  5358837ce781c404531322d6   \n",
        "1  5358837ce781c40453132341   \n",
        "2  5358837ce781c404531322d7   \n",
        "3  5358837ce781c404531322d8   \n",
        "4  5358837ce781c404531322d9   \n",
        "\n",
        "                                            entities  \\\n",
        "0  {u'user_mentions': [{u'indices': [0, 13], u'sc...   \n",
        "1                             {u'user_mentions': []}   \n",
        "2  {u'user_mentions': [{u'indices': [3, 18], u'sc...   \n",
        "3  {u'user_mentions': [{u'indices': [0, 13], u'sc...   \n",
        "4  {u'user_mentions': [{u'indices': [0, 13], u'sc...   \n",
        "\n",
        "                        user  \n",
        "0  {u'followers_count': 964}  \n",
        "1   {u'followers_count': 19}  \n",
        "2  {u'followers_count': 200}  \n",
        "3    {u'followers_count': 6}  \n",
        "4  {u'followers_count': 242}  \n",
        "\n",
        "[5 rows x 3 columns]"
       ]
      }
     ],
     "prompt_number": 15
    },
    {
     "cell_type": "markdown",
     "metadata": {
      "slideshow": {
       "slide_type": "subslide"
      }
     },
     "source": [
      "Pandas doesn't know how to parse the sub-documents however, so we must tell it explicitly:"
     ]
    },
    {
     "cell_type": "code",
     "collapsed": false,
     "input": [
      "mentions_followers_df = pd.DataFrame({'user_mentions': len(tweet['entities']['user_mentions']), \n",
      "              'followers_count': tweet['user'].get('followers_count')} for tweet in mentions_followers)\n",
      "mentions_followers_df.head()"
     ],
     "language": "python",
     "metadata": {
      "slideshow": {
       "slide_type": "-"
      }
     },
     "outputs": [
      {
       "html": [
        "<div style=\"max-height:1000px;max-width:1500px;overflow:auto;\">\n",
        "<table border=\"1\" class=\"dataframe\">\n",
        "  <thead>\n",
        "    <tr style=\"text-align: right;\">\n",
        "      <th></th>\n",
        "      <th>followers_count</th>\n",
        "      <th>user_mentions</th>\n",
        "    </tr>\n",
        "  </thead>\n",
        "  <tbody>\n",
        "    <tr>\n",
        "      <th>0</th>\n",
        "      <td> 964</td>\n",
        "      <td> 1</td>\n",
        "    </tr>\n",
        "    <tr>\n",
        "      <th>1</th>\n",
        "      <td>  19</td>\n",
        "      <td> 0</td>\n",
        "    </tr>\n",
        "    <tr>\n",
        "      <th>2</th>\n",
        "      <td> 200</td>\n",
        "      <td> 2</td>\n",
        "    </tr>\n",
        "    <tr>\n",
        "      <th>3</th>\n",
        "      <td>   6</td>\n",
        "      <td> 2</td>\n",
        "    </tr>\n",
        "    <tr>\n",
        "      <th>4</th>\n",
        "      <td> 242</td>\n",
        "      <td> 1</td>\n",
        "    </tr>\n",
        "  </tbody>\n",
        "</table>\n",
        "<p>5 rows \u00d7 2 columns</p>\n",
        "</div>"
       ],
       "metadata": {},
       "output_type": "pyout",
       "prompt_number": 16,
       "text": [
        "   followers_count  user_mentions\n",
        "0              964              1\n",
        "1               19              0\n",
        "2              200              2\n",
        "3                6              2\n",
        "4              242              1\n",
        "\n",
        "[5 rows x 2 columns]"
       ]
      }
     ],
     "prompt_number": 16
    },
    {
     "cell_type": "code",
     "collapsed": false,
     "input": [
      "mentions_followers_df.describe()"
     ],
     "language": "python",
     "metadata": {},
     "outputs": []
    },
    {
     "cell_type": "markdown",
     "metadata": {
      "slideshow": {
       "slide_type": "slide"
      }
     },
     "source": [
      "Perhaps `user_mentions` and `followers_count` are correlated?"
     ]
    },
    {
     "cell_type": "code",
     "collapsed": false,
     "input": [
      "plt.scatter(mentions_followers_df.user_mentions, mentions_followers_df.followers_count)\n",
      "mentions_followers_df.corr()"
     ],
     "language": "python",
     "metadata": {
      "slideshow": {
       "slide_type": "-"
      }
     },
     "outputs": []
    },
    {
     "cell_type": "markdown",
     "metadata": {
      "slideshow": {
       "slide_type": "slide"
      }
     },
     "source": [
      "Lab\n",
      "============\n",
      "1-2 Pairs\n",
      "------------"
     ]
    },
    {
     "cell_type": "markdown",
     "metadata": {
      "slideshow": {
       "slide_type": "notes"
      }
     },
     "source": [
      "Raise two fingers if you understand the material well.  \n",
      "Raise one finger if you understand this material OK.  \n",
      "Now, 1 find a 2 and sit next to them. While you work through this exercise, only 1's can type."
     ]
    },
    {
     "cell_type": "markdown",
     "metadata": {
      "slideshow": {
       "slide_type": "fragment"
      }
     },
     "source": [
      "The [Yahoo! Where On Earth ID](https://developer.yahoo.com/geo/geoplanet/) of Canada is 23424775.  \n",
      "Use it to find Twitter trends in Canada and compare it to US trends. What's the difference between them?  \n",
      "\n",
      "- Insert the last 100 tweets for all Canada-only trends into a `canada` collection.  \n",
      "- Insert the last 100 tweets for all US-only trends into a `us` collections.  \n",
      "- For this (small and not very representative) sample, which users have the highest `follower_count`?"
     ]
    },
    {
     "cell_type": "code",
     "collapsed": false,
     "input": [
      "CANADA_WOE_ID = 23424775\n",
      "\n",
      "canada_trends = twitter_api.trends.place(_id=CANADA_WOE_ID)\n"
     ],
     "language": "python",
     "metadata": {},
     "outputs": []
    },
    {
     "cell_type": "code",
     "collapsed": false,
     "input": [
      "canada_trends_set = set([trend['name'] for trends in canada_trends\n",
      "                        for trend in trends['trends']])\n",
      "\n",
      "us_trends_set = set([trend['name'] for trends in us_trends\n",
      "                     for trend in trends['trends']]) \n",
      "\n",
      "canada_only = canada_trends_set.difference(us_trends_set)\n",
      "canada_only"
     ],
     "language": "python",
     "metadata": {},
     "outputs": []
    },
    {
     "cell_type": "code",
     "collapsed": false,
     "input": [
      "us_only = us_trends_set.difference(canada_trends_set)\n",
      "us_only"
     ],
     "language": "python",
     "metadata": {},
     "outputs": []
    },
    {
     "cell_type": "code",
     "collapsed": false,
     "input": [
      "\n",
      "count = 100\n",
      "\n",
      "for i in canada_only:\n",
      "    search_results = twitter_api.search.tweets(q=i, count = count)\n",
      "    db.canada.insert(search_results)\n"
     ],
     "language": "python",
     "metadata": {},
     "outputs": []
    },
    {
     "cell_type": "code",
     "collapsed": false,
     "input": [
      "for i in us_only:\n",
      "    search_results = twitter_api.search.tweets(q=i, count = count)\n",
      "    db.us.insert(search_results)"
     ],
     "language": "python",
     "metadata": {},
     "outputs": []
    },
    {
     "cell_type": "code",
     "collapsed": false,
     "input": [
      "ca_followers = list(db.canada.find(fields=['user.followers_count']))\n",
      "pd.DataFrame(ca_followers).head()"
     ],
     "language": "python",
     "metadata": {},
     "outputs": [
      {
       "html": [
        "<div style=\"max-height:1000px;max-width:1500px;overflow:auto;\">\n",
        "<table border=\"1\" class=\"dataframe\">\n",
        "  <thead>\n",
        "    <tr style=\"text-align: right;\">\n",
        "      <th></th>\n",
        "      <th>_id</th>\n",
        "      <th>user</th>\n",
        "    </tr>\n",
        "  </thead>\n",
        "  <tbody>\n",
        "    <tr>\n",
        "      <th>0</th>\n",
        "      <td> 535ed5f1e781c402fd0edb47</td>\n",
        "      <td>  {u'followers_count': 150}</td>\n",
        "    </tr>\n",
        "    <tr>\n",
        "      <th>1</th>\n",
        "      <td> 535ed5f1e781c402fd0edb4b</td>\n",
        "      <td> {u'followers_count': 1445}</td>\n",
        "    </tr>\n",
        "    <tr>\n",
        "      <th>2</th>\n",
        "      <td> 535ed5f1e781c402fd0edb45</td>\n",
        "      <td>  {u'followers_count': 735}</td>\n",
        "    </tr>\n",
        "    <tr>\n",
        "      <th>3</th>\n",
        "      <td> 535ed5f1e781c402fd0edb46</td>\n",
        "      <td>  {u'followers_count': 576}</td>\n",
        "    </tr>\n",
        "    <tr>\n",
        "      <th>4</th>\n",
        "      <td> 535ed5f1e781c402fd0edb48</td>\n",
        "      <td>   {u'followers_count': 48}</td>\n",
        "    </tr>\n",
        "  </tbody>\n",
        "</table>\n",
        "<p>5 rows \u00d7 2 columns</p>\n",
        "</div>"
       ],
       "metadata": {},
       "output_type": "pyout",
       "prompt_number": 17,
       "text": [
        "                        _id                        user\n",
        "0  535ed5f1e781c402fd0edb47   {u'followers_count': 150}\n",
        "1  535ed5f1e781c402fd0edb4b  {u'followers_count': 1445}\n",
        "2  535ed5f1e781c402fd0edb45   {u'followers_count': 735}\n",
        "3  535ed5f1e781c402fd0edb46   {u'followers_count': 576}\n",
        "4  535ed5f1e781c402fd0edb48    {u'followers_count': 48}\n",
        "\n",
        "[5 rows x 2 columns]"
       ]
      }
     ],
     "prompt_number": 17
    },
    {
     "cell_type": "code",
     "collapsed": false,
     "input": [
      "ca_followers_df = pd.DataFrame({'followers_count': tweet['user'].get('followers_count')} for tweet in ca_followers)\n",
      "ca_followers_df.head()"
     ],
     "language": "python",
     "metadata": {},
     "outputs": [
      {
       "ename": "KeyError",
       "evalue": "'user'",
       "output_type": "pyerr",
       "traceback": [
        "\u001b[0;31m---------------------------------------------------------------------------\u001b[0m\n\u001b[0;31mKeyError\u001b[0m                                  Traceback (most recent call last)",
        "\u001b[0;32m<ipython-input-18-966d6c59fb2b>\u001b[0m in \u001b[0;36m<module>\u001b[0;34m()\u001b[0m\n\u001b[0;32m----> 1\u001b[0;31m \u001b[0mca_followers_df\u001b[0m \u001b[0;34m=\u001b[0m \u001b[0mpd\u001b[0m\u001b[0;34m.\u001b[0m\u001b[0mDataFrame\u001b[0m\u001b[0;34m(\u001b[0m\u001b[0;34m{\u001b[0m\u001b[0;34m'followers_count'\u001b[0m\u001b[0;34m:\u001b[0m \u001b[0mtweet\u001b[0m\u001b[0;34m[\u001b[0m\u001b[0;34m'user'\u001b[0m\u001b[0;34m]\u001b[0m\u001b[0;34m.\u001b[0m\u001b[0mget\u001b[0m\u001b[0;34m(\u001b[0m\u001b[0;34m'followers_count'\u001b[0m\u001b[0;34m)\u001b[0m\u001b[0;34m}\u001b[0m \u001b[0;32mfor\u001b[0m \u001b[0mtweet\u001b[0m \u001b[0;32min\u001b[0m \u001b[0mca_followers\u001b[0m\u001b[0;34m)\u001b[0m\u001b[0;34m\u001b[0m\u001b[0m\n\u001b[0m\u001b[1;32m      2\u001b[0m \u001b[0mca_followers_df\u001b[0m\u001b[0;34m.\u001b[0m\u001b[0mhead\u001b[0m\u001b[0;34m(\u001b[0m\u001b[0;34m)\u001b[0m\u001b[0;34m\u001b[0m\u001b[0m\n",
        "\u001b[0;32m/Users/quicksoat/anaconda/lib/python2.7/site-packages/pandas/core/frame.pyc\u001b[0m in \u001b[0;36m__init__\u001b[0;34m(self, data, index, columns, dtype, copy)\u001b[0m\n\u001b[1;32m    233\u001b[0m         \u001b[0;32melif\u001b[0m \u001b[0misinstance\u001b[0m\u001b[0;34m(\u001b[0m\u001b[0mdata\u001b[0m\u001b[0;34m,\u001b[0m \u001b[0;34m(\u001b[0m\u001b[0mlist\u001b[0m\u001b[0;34m,\u001b[0m \u001b[0mtypes\u001b[0m\u001b[0;34m.\u001b[0m\u001b[0mGeneratorType\u001b[0m\u001b[0;34m)\u001b[0m\u001b[0;34m)\u001b[0m\u001b[0;34m:\u001b[0m\u001b[0;34m\u001b[0m\u001b[0m\n\u001b[1;32m    234\u001b[0m             \u001b[0;32mif\u001b[0m \u001b[0misinstance\u001b[0m\u001b[0;34m(\u001b[0m\u001b[0mdata\u001b[0m\u001b[0;34m,\u001b[0m \u001b[0mtypes\u001b[0m\u001b[0;34m.\u001b[0m\u001b[0mGeneratorType\u001b[0m\u001b[0;34m)\u001b[0m\u001b[0;34m:\u001b[0m\u001b[0;34m\u001b[0m\u001b[0m\n\u001b[0;32m--> 235\u001b[0;31m                 \u001b[0mdata\u001b[0m \u001b[0;34m=\u001b[0m \u001b[0mlist\u001b[0m\u001b[0;34m(\u001b[0m\u001b[0mdata\u001b[0m\u001b[0;34m)\u001b[0m\u001b[0;34m\u001b[0m\u001b[0m\n\u001b[0m\u001b[1;32m    236\u001b[0m             \u001b[0;32mif\u001b[0m \u001b[0mlen\u001b[0m\u001b[0;34m(\u001b[0m\u001b[0mdata\u001b[0m\u001b[0;34m)\u001b[0m \u001b[0;34m>\u001b[0m \u001b[0;36m0\u001b[0m\u001b[0;34m:\u001b[0m\u001b[0;34m\u001b[0m\u001b[0m\n\u001b[1;32m    237\u001b[0m                 \u001b[0;32mif\u001b[0m \u001b[0mindex\u001b[0m \u001b[0;32mis\u001b[0m \u001b[0mNone\u001b[0m \u001b[0;32mand\u001b[0m \u001b[0misinstance\u001b[0m\u001b[0;34m(\u001b[0m\u001b[0mdata\u001b[0m\u001b[0;34m[\u001b[0m\u001b[0;36m0\u001b[0m\u001b[0;34m]\u001b[0m\u001b[0;34m,\u001b[0m \u001b[0mSeries\u001b[0m\u001b[0;34m)\u001b[0m\u001b[0;34m:\u001b[0m\u001b[0;34m\u001b[0m\u001b[0m\n",
        "\u001b[0;32m<ipython-input-18-966d6c59fb2b>\u001b[0m in \u001b[0;36m<genexpr>\u001b[0;34m((tweet,))\u001b[0m\n\u001b[0;32m----> 1\u001b[0;31m \u001b[0mca_followers_df\u001b[0m \u001b[0;34m=\u001b[0m \u001b[0mpd\u001b[0m\u001b[0;34m.\u001b[0m\u001b[0mDataFrame\u001b[0m\u001b[0;34m(\u001b[0m\u001b[0;34m{\u001b[0m\u001b[0;34m'followers_count'\u001b[0m\u001b[0;34m:\u001b[0m \u001b[0mtweet\u001b[0m\u001b[0;34m[\u001b[0m\u001b[0;34m'user'\u001b[0m\u001b[0;34m]\u001b[0m\u001b[0;34m.\u001b[0m\u001b[0mget\u001b[0m\u001b[0;34m(\u001b[0m\u001b[0;34m'followers_count'\u001b[0m\u001b[0;34m)\u001b[0m\u001b[0;34m}\u001b[0m \u001b[0;32mfor\u001b[0m \u001b[0mtweet\u001b[0m \u001b[0;32min\u001b[0m \u001b[0mca_followers\u001b[0m\u001b[0;34m)\u001b[0m\u001b[0;34m\u001b[0m\u001b[0m\n\u001b[0m\u001b[1;32m      2\u001b[0m \u001b[0mca_followers_df\u001b[0m\u001b[0;34m.\u001b[0m\u001b[0mhead\u001b[0m\u001b[0;34m(\u001b[0m\u001b[0;34m)\u001b[0m\u001b[0;34m\u001b[0m\u001b[0m\n",
        "\u001b[0;31mKeyError\u001b[0m: 'user'"
       ]
      }
     ],
     "prompt_number": 18
    },
    {
     "cell_type": "code",
     "collapsed": false,
     "input": [
      "can_followers = list(db.canada.find(fields=['entities.user_mentions', 'user.followers_count']))\n",
      "pd.DataFrame(can_followers).head()"
     ],
     "language": "python",
     "metadata": {},
     "outputs": []
    },
    {
     "cell_type": "code",
     "collapsed": false,
     "input": [
      "can_followers_df = pd.DataFrame({'user_mentions': len(tweet['entities']['user_mentions']), \n",
      "              'followers_count': tweet['user'].get('followers_count')} for tweet in can_followers)"
     ],
     "language": "python",
     "metadata": {},
     "outputs": []
    },
    {
     "cell_type": "markdown",
     "metadata": {
      "slideshow": {
       "slide_type": "fragment"
      }
     },
     "source": [
      "Individually:\n",
      "------------\n",
      "Find tweets where `'retweet_count': {\"$gt\": 0}`.  \n",
      "What is their `count`?  \n",
      "Is there anything about them that stands out as retweetable?"
     ]
    },
    {
     "cell_type": "markdown",
     "metadata": {
      "slideshow": {
       "slide_type": "notes"
      }
     },
     "source": [
      "Further exercises:  \n",
      "\n",
      "* Twitter - _Mining-the-Social-Web-2nd-Edition_: [Chapter 1 - Mining Twitter](http://nbviewer.ipython.org/github/ptwobrussell/Mining-the-Social-Web-2nd-Edition/blob/master/ipynb/__Chapter%201%20-%20Mining%20Twitter%20%28Full-Text%20Sampler%29.ipynb)\n",
      "* Mongo - [Aggregation Framework](http://docs.mongodb.org/manual/aggregation/)"
     ]
    },
    {
     "cell_type": "markdown",
     "metadata": {
      "slideshow": {
       "slide_type": "slide"
      }
     },
     "source": [
      "Next week:\n",
      "==============\n",
      "Exploring Data\n",
      "--------------"
     ]
    }
   ],
   "metadata": {}
  }
 ]
}