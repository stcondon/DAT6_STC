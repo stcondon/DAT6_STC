{
 "metadata": {
  "celltoolbar": "Slideshow",
  "name": "",
  "signature": "sha256:b534a6abbe2b443e859226f51f91c276742d05415f476cd39b97c6fe4709db68"
 },
 "nbformat": 3,
 "nbformat_minor": 0,
 "worksheets": [
  {
   "cells": [
    {
     "cell_type": "markdown",
     "metadata": {
      "slideshow": {
       "slide_type": "slide"
      }
     },
     "source": [
      "Lab\n",
      "===================\n",
      "Twitter & MongoDB\n",
      "-------------------\n",
      "Alessandro D. Gagliardi"
     ]
    },
    {
     "cell_type": "markdown",
     "metadata": {
      "slideshow": {
       "slide_type": "subslide"
      }
     },
     "source": [
      "Importing Libraries\n",
      "-------------------"
     ]
    },
    {
     "cell_type": "code",
     "collapsed": false,
     "input": [
      "# standard library:\n",
      "import os  \n",
      "\n",
      "from pprint import pprint\n",
      "\n",
      "# other modules:\n",
      "import matplotlib.pyplot as plt\n",
      "import pandas as pd\n",
      "import twitter\n",
      "import yaml\n",
      "\n",
      "from pymongo import MongoClient"
     ],
     "language": "python",
     "metadata": {
      "slideshow": {
       "slide_type": "-"
      }
     },
     "outputs": [],
     "prompt_number": 13
    },
    {
     "cell_type": "markdown",
     "metadata": {
      "slideshow": {
       "slide_type": "slide"
      }
     },
     "source": [
      "Twitter Trends\n",
      "=============="
     ]
    },
    {
     "cell_type": "heading",
     "level": 3,
     "metadata": {
      "slideshow": {
       "slide_type": "subslide"
      }
     },
     "source": [
      "Connect to Twitter:"
     ]
    },
    {
     "cell_type": "code",
     "collapsed": false,
     "input": [
      "credentials = yaml.load(open(os.path.expanduser('~/api_cred.yml')))\n",
      "\n",
      "auth = twitter.oauth.OAuth(credentials['ACCESS_TOKEN'], \n",
      "                           credentials['ACCESS_TOKEN_SECRET'],\n",
      "                           credentials['API_KEY'],\n",
      "                           credentials['API_SECRET'])\n",
      "\n",
      "twitter_api = twitter.Twitter(auth=auth)"
     ],
     "language": "python",
     "metadata": {
      "slideshow": {
       "slide_type": "-"
      }
     },
     "outputs": [],
     "prompt_number": 2
    },
    {
     "cell_type": "code",
     "collapsed": false,
     "input": [
      "# The Yahoo! Where On Earth ID for the entire world is 1.\n",
      "# See https://dev.twitter.com/docs/api/1.1/get/trends/place and\n",
      "# http://developer.yahoo.com/geo/geoplanet/\n",
      "\n",
      "WORLD_WOE_ID = 1\n",
      "US_WOE_ID = 23424977\n",
      "\n",
      "# Prefix ID with the underscore for query string parameterization.\n",
      "# Without the underscore, the twitter package appends the ID value\n",
      "# to the URL itself as a special case keyword argument.\n",
      "\n",
      "world_trends = twitter_api.trends.place(_id=WORLD_WOE_ID)\n",
      "us_trends = twitter_api.trends.place(_id=US_WOE_ID)\n",
      "\n",
      "pprint(world_trends)"
     ],
     "language": "python",
     "metadata": {
      "slideshow": {
       "slide_type": "slide"
      }
     },
     "outputs": [
      {
       "output_type": "stream",
       "stream": "stdout",
       "text": [
        "[{u'as_of': u'2014-04-28T22:24:43Z',\n",
        "  u'created_at': u'2014-04-28T22:22:08Z',\n",
        "  u'locations': [{u'name': u'Worldwide', u'woeid': 1}],\n",
        "  u'trends': [{u'name': u'#BieberStoleFromParamore',\n",
        "               u'promoted_content': None,\n",
        "               u'query': u'%23BieberStoleFromParamore',\n",
        "               u'url': u'http://twitter.com/search?q=%23BieberStoleFromParamore'},\n",
        "              {u'name': u'#GalaSV7',\n",
        "               u'promoted_content': None,\n",
        "               u'query': u'%23GalaSV7',\n",
        "               u'url': u'http://twitter.com/search?q=%23GalaSV7'},\n",
        "              {u'name': u'#WeWereBornForThis',\n",
        "               u'promoted_content': None,\n",
        "               u'query': u'%23WeWereBornForThis',\n",
        "               u'url': u'http://twitter.com/search?q=%23WeWereBornForThis'},\n",
        "              {u'name': u'#HayatDedi\\u011fin',\n",
        "               u'promoted_content': None,\n",
        "               u'query': u'%23HayatDedi%C4%9Fin',\n",
        "               u'url': u'http://twitter.com/search?q=%23HayatDedi%C4%9Fin'},\n",
        "              {u'name': u'#Vazge\\xe7ilmezOlan',\n",
        "               u'promoted_content': None,\n",
        "               u'query': u'%23Vazge%C3%A7ilmezOlan',\n",
        "               u'url': u'http://twitter.com/search?q=%23Vazge%C3%A7ilmezOlan'},\n",
        "              {u'name': u'Zayn Is An Angel',\n",
        "               u'promoted_content': None,\n",
        "               u'query': u'%22Zayn+Is+An+Angel%22',\n",
        "               u'url': u'http://twitter.com/search?q=%22Zayn+Is+An+Angel%22'},\n",
        "              {u'name': u'LeBron vs the Bobcats',\n",
        "               u'promoted_content': None,\n",
        "               u'query': u'%22LeBron+vs+the+Bobcats%22',\n",
        "               u'url': u'http://twitter.com/search?q=%22LeBron+vs+the+Bobcats%22'},\n",
        "              {u'name': u'Luan Banana',\n",
        "               u'promoted_content': None,\n",
        "               u'query': u'%22Luan+Banana%22',\n",
        "               u'url': u'http://twitter.com/search?q=%22Luan+Banana%22'},\n",
        "              {u'name': u'Welcome To Brazil Avril Lavigne',\n",
        "               u'promoted_content': None,\n",
        "               u'query': u'%22Welcome+To+Brazil+Avril+Lavigne%22',\n",
        "               u'url': u'http://twitter.com/search?q=%22Welcome+To+Brazil+Avril+Lavigne%22'},\n",
        "              {u'name': u'Eli\\xe9cer Otaiza',\n",
        "               u'promoted_content': None,\n",
        "               u'query': u'%22Eli%C3%A9cer+Otaiza%22',\n",
        "               u'url': u'http://twitter.com/search?q=%22Eli%C3%A9cer+Otaiza%22'}]}]\n"
       ]
      }
     ],
     "prompt_number": 3
    },
    {
     "cell_type": "code",
     "collapsed": false,
     "input": [
      "pprint(us_trends)"
     ],
     "language": "python",
     "metadata": {
      "slideshow": {
       "slide_type": "subslide"
      }
     },
     "outputs": [
      {
       "output_type": "stream",
       "stream": "stdout",
       "text": [
        "[{u'as_of': u'2014-04-28T22:24:43Z',\n",
        "  u'created_at': u'2014-04-28T22:18:46Z',\n",
        "  u'locations': [{u'name': u'United States', u'woeid': 23424977}],\n",
        "  u'trends': [{u'name': u'LeBron vs the Bobcats',\n",
        "               u'promoted_content': None,\n",
        "               u'query': u'%22LeBron+vs+the+Bobcats%22',\n",
        "               u'url': u'http://twitter.com/search?q=%22LeBron+vs+the+Bobcats%22'},\n",
        "              {u'name': u'#BieberStoleFromParamore',\n",
        "               u'promoted_content': None,\n",
        "               u'query': u'%23BieberStoleFromParamore',\n",
        "               u'url': u'http://twitter.com/search?q=%23BieberStoleFromParamore'},\n",
        "              {u'name': u'#WeWereBornForThis',\n",
        "               u'promoted_content': None,\n",
        "               u'query': u'%23WeWereBornForThis',\n",
        "               u'url': u'http://twitter.com/search?q=%23WeWereBornForThis'},\n",
        "              {u'name': u'#OnTheRunTour',\n",
        "               u'promoted_content': None,\n",
        "               u'query': u'%23OnTheRunTour',\n",
        "               u'url': u'http://twitter.com/search?q=%23OnTheRunTour'},\n",
        "              {u'name': u'#RvB12',\n",
        "               u'promoted_content': None,\n",
        "               u'query': u'%23RvB12',\n",
        "               u'url': u'http://twitter.com/search?q=%23RvB12'},\n",
        "              {u'name': u'Pretty Woman',\n",
        "               u'promoted_content': None,\n",
        "               u'query': u'%22Pretty+Woman%22',\n",
        "               u'url': u'http://twitter.com/search?q=%22Pretty+Woman%22'},\n",
        "              {u'name': u'#WhyBeInARelationshipWhen',\n",
        "               u'promoted_content': None,\n",
        "               u'query': u'%23WhyBeInARelationshipWhen',\n",
        "               u'url': u'http://twitter.com/search?q=%23WhyBeInARelationshipWhen'},\n",
        "              {u'name': u\"Malibu's Most Wanted\",\n",
        "               u'promoted_content': None,\n",
        "               u'query': u'%22Malibu%27s+Most+Wanted%22',\n",
        "               u'url': u'http://twitter.com/search?q=%22Malibu%27s+Most+Wanted%22'},\n",
        "              {u'name': u'Earl Thomas',\n",
        "               u'promoted_content': None,\n",
        "               u'query': u'%22Earl+Thomas%22',\n",
        "               u'url': u'http://twitter.com/search?q=%22Earl+Thomas%22'},\n",
        "              {u'name': u'Larry Johnson',\n",
        "               u'promoted_content': None,\n",
        "               u'query': u'%22Larry+Johnson%22',\n",
        "               u'url': u'http://twitter.com/search?q=%22Larry+Johnson%22'}]}]\n"
       ]
      }
     ],
     "prompt_number": 4
    },
    {
     "cell_type": "heading",
     "level": 3,
     "metadata": {
      "slideshow": {
       "slide_type": "subslide"
      }
     },
     "source": [
      "Do any of these trends intersect?"
     ]
    },
    {
     "cell_type": "code",
     "collapsed": false,
     "input": [
      "world_trends_set = set([trend['name'] for trends in world_trends\n",
      "                        for trend in trends['trends']])\n",
      "\n",
      "us_trends_set = set([trend['name'] for trends in us_trends\n",
      "                     for trend in trends['trends']]) \n",
      "\n",
      "world_trends_set.intersection(us_trends_set)"
     ],
     "language": "python",
     "metadata": {
      "slideshow": {
       "slide_type": "fragment"
      }
     },
     "outputs": [
      {
       "metadata": {},
       "output_type": "pyout",
       "prompt_number": 5,
       "text": [
        "{u'#BieberStoleFromParamore', u'#WeWereBornForThis', u'LeBron vs the Bobcats'}"
       ]
      }
     ],
     "prompt_number": 5
    },
    {
     "cell_type": "markdown",
     "metadata": {
      "slideshow": {
       "slide_type": "slide"
      }
     },
     "source": [
      "Twitter Statuses\n",
      "================"
     ]
    },
    {
     "cell_type": "code",
     "collapsed": false,
     "input": [
      "q = world_trends[0]['trends'][0]['name']\n",
      "\n",
      "count = 100\n",
      "\n",
      "# See https://dev.twitter.com/docs/api/1.1/get/search/tweets\n",
      "\n",
      "search_results = twitter_api.search.tweets(q=q, count=count)\n",
      "\n",
      "statuses = search_results['statuses']"
     ],
     "language": "python",
     "metadata": {
      "slideshow": {
       "slide_type": "fragment"
      }
     },
     "outputs": [],
     "prompt_number": 6
    },
    {
     "cell_type": "code",
     "collapsed": false,
     "input": [
      "len(statuses)"
     ],
     "language": "python",
     "metadata": {
      "slideshow": {
       "slide_type": "fragment"
      }
     },
     "outputs": [
      {
       "metadata": {},
       "output_type": "pyout",
       "prompt_number": 7,
       "text": [
        "99"
       ]
      }
     ],
     "prompt_number": 7
    },
    {
     "cell_type": "heading",
     "level": 3,
     "metadata": {
      "slideshow": {
       "slide_type": "subslide"
      }
     },
     "source": [
      "More?"
     ]
    },
    {
     "cell_type": "code",
     "collapsed": false,
     "input": [
      "search_results['search_metadata'].get('next_results')"
     ],
     "language": "python",
     "metadata": {
      "slideshow": {
       "slide_type": "fragment"
      }
     },
     "outputs": [],
     "prompt_number": 8
    },
    {
     "cell_type": "code",
     "collapsed": false,
     "input": [
      "if 'next_results' in search_results['search_metadata']:\n",
      "    next_results = search_results['search_metadata']['next_results']\n",
      "    kwargs = dict([ kv.split('=') for kv in next_results[1:].split(\"&\") ])\n",
      "    search_results = twitter_api.search.tweets(**kwargs)\n",
      "    statuses += search_results['statuses']\n",
      "\n",
      "len(statuses)"
     ],
     "language": "python",
     "metadata": {
      "slideshow": {
       "slide_type": "fragment"
      }
     },
     "outputs": [
      {
       "metadata": {},
       "output_type": "pyout",
       "prompt_number": 9,
       "text": [
        "99"
       ]
      }
     ],
     "prompt_number": 9
    },
    {
     "cell_type": "markdown",
     "metadata": {
      "slideshow": {
       "slide_type": "slide"
      }
     },
     "source": [
      "Mongo\n",
      "====="
     ]
    },
    {
     "cell_type": "markdown",
     "metadata": {
      "slideshow": {
       "slide_type": "subslide"
      }
     },
     "source": [
      "from the command line:\n",
      "```bash\n",
      "$ mkdir -p data/db\n",
      "$ mongod --dbpath data/db\n",
      "```"
     ]
    },
    {
     "cell_type": "heading",
     "level": 3,
     "metadata": {
      "slideshow": {
       "slide_type": "slide"
      }
     },
     "source": [
      "Connect to our Mongo database management server (DBMS):"
     ]
    },
    {
     "cell_type": "code",
     "collapsed": false,
     "input": [
      "c = MongoClient()"
     ],
     "language": "python",
     "metadata": {
      "slideshow": {
       "slide_type": "fragment"
      }
     },
     "outputs": [],
     "prompt_number": 15
    },
    {
     "cell_type": "heading",
     "level": 4,
     "metadata": {
      "slideshow": {
       "slide_type": "fragment"
      }
     },
     "source": [
      "Create a database called `twitter`:"
     ]
    },
    {
     "cell_type": "code",
     "collapsed": false,
     "input": [
      "db = c.twitter"
     ],
     "language": "python",
     "metadata": {
      "slideshow": {
       "slide_type": "fragment"
      }
     },
     "outputs": [],
     "prompt_number": 16
    },
    {
     "cell_type": "markdown",
     "metadata": {
      "slideshow": {
       "slide_type": "notes"
      }
     },
     "source": [
      "##### Yes, it's that easy."
     ]
    },
    {
     "cell_type": "heading",
     "level": 4,
     "metadata": {
      "slideshow": {
       "slide_type": "slide"
      }
     },
     "source": [
      "Insert the results we pulled from Twitter and store them as a document in a collection named `tweets`:"
     ]
    },
    {
     "cell_type": "code",
     "collapsed": false,
     "input": [
      "statuses_ids = db.tweets.insert(statuses)\n",
      "statuses_ids[:5]"
     ],
     "language": "python",
     "metadata": {
      "slideshow": {
       "slide_type": "fragment"
      }
     },
     "outputs": [
      {
       "metadata": {},
       "output_type": "pyout",
       "prompt_number": 17,
       "text": [
        "[ObjectId('535ed5f1e781c402fd0edb45'),\n",
        " ObjectId('535ed5f1e781c402fd0edb46'),\n",
        " ObjectId('535ed5f1e781c402fd0edb47'),\n",
        " ObjectId('535ed5f1e781c402fd0edb48'),\n",
        " ObjectId('535ed5f1e781c402fd0edb49')]"
       ]
      }
     ],
     "prompt_number": 17
    },
    {
     "cell_type": "heading",
     "level": 3,
     "metadata": {
      "slideshow": {
       "slide_type": "slide"
      }
     },
     "source": [
      "`ObjectId`s"
     ]
    },
    {
     "cell_type": "markdown",
     "metadata": {
      "slideshow": {
       "slide_type": "fragment"
      }
     },
     "source": [
      "**ObjectId** is a 12-byte **BSON** type, constructed using:\n",
      "\n",
      "-    a 4-byte value representing the seconds since the Unix epoch,\n",
      "-    a 3-byte machine identifier,\n",
      "-    a 2-byte process id, and\n",
      "-    a 3-byte counter, starting with a random value.\n",
      "\n",
      "In MongoDB, documents stored in a collection require a unique `_id` field that acts as a **primary key**. Because ObjectIds are small, most likely unique, and fast to generate, MongoDB uses ObjectIds as the default value for the `_id` field if the `_id` field is not specified. \n",
      "\n",
      "<!--small><i>from http://docs.mongodb.org/manual/reference/object-id/</i></small-->"
     ]
    },
    {
     "cell_type": "markdown",
     "metadata": {
      "slideshow": {
       "slide_type": "notes"
      }
     },
     "source": [
      "Using ObjectIds for the `_id` field provides the following additional benefits:\n",
      "\n",
      "- you can access the insertion time of the ObjectId, using the `.generation_time` property in pymongo. \n",
      "- sorting on an `_id` field that stores ObjectId values is roughly equivalent to sorting by insertion time."
     ]
    },
    {
     "cell_type": "heading",
     "level": 3,
     "metadata": {
      "slideshow": {
       "slide_type": "slide"
      }
     },
     "source": [
      "Test the contents of our database:"
     ]
    },
    {
     "cell_type": "code",
     "collapsed": false,
     "input": [
      "c.database_names()"
     ],
     "language": "python",
     "metadata": {
      "slideshow": {
       "slide_type": "fragment"
      }
     },
     "outputs": [
      {
       "metadata": {},
       "output_type": "pyout",
       "prompt_number": 18,
       "text": [
        "[u'local', u'twitter', u'admin']"
       ]
      }
     ],
     "prompt_number": 18
    },
    {
     "cell_type": "code",
     "collapsed": false,
     "input": [
      "db = c.twitter\n",
      "db.collection_names()"
     ],
     "language": "python",
     "metadata": {
      "slideshow": {
       "slide_type": "fragment"
      }
     },
     "outputs": [
      {
       "metadata": {},
       "output_type": "pyout",
       "prompt_number": 19,
       "text": [
        "[u'tweets', u'system.indexes']"
       ]
      }
     ],
     "prompt_number": 19
    },
    {
     "cell_type": "code",
     "collapsed": false,
     "input": [
      "db.tweets.find_one()"
     ],
     "language": "python",
     "metadata": {
      "slideshow": {
       "slide_type": "fragment"
      }
     },
     "outputs": [
      {
       "metadata": {},
       "output_type": "pyout",
       "prompt_number": 20,
       "text": [
        "{u'_id': ObjectId('5358837ce781c404531322d6'),\n",
        " u'contributors': None,\n",
        " u'coordinates': None,\n",
        " u'created_at': u'Thu Apr 24 02:58:40 +0000 2014',\n",
        " u'entities': {u'hashtags': [{u'indices': [38, 56],\n",
        "    u'text': u'4DaysUntilProblem'}],\n",
        "  u'symbols': [],\n",
        "  u'urls': [],\n",
        "  u'user_mentions': [{u'id': 34507480,\n",
        "    u'id_str': u'34507480',\n",
        "    u'indices': [0, 13],\n",
        "    u'name': u'Ariana Grande',\n",
        "    u'screen_name': u'ArianaGrande'}]},\n",
        " u'favorite_count': 0,\n",
        " u'favorited': False,\n",
        " u'geo': None,\n",
        " u'id': 459164493495681024L,\n",
        " u'id_str': u'459164493495681024',\n",
        " u'in_reply_to_screen_name': u'ArianaGrande',\n",
        " u'in_reply_to_status_id': None,\n",
        " u'in_reply_to_status_id_str': None,\n",
        " u'in_reply_to_user_id': 34507480,\n",
        " u'in_reply_to_user_id_str': u'34507480',\n",
        " u'lang': u'en',\n",
        " u'metadata': {u'iso_language_code': u'en', u'result_type': u'recent'},\n",
        " u'place': None,\n",
        " u'retweet_count': 0,\n",
        " u'retweeted': False,\n",
        " u'source': u'web',\n",
        " u'text': u\"@ArianaGrande I'M SOOO   EXCITED FOR  #4DaysUntilProblem !! PLEASE ARI FOLLOW ME .\\n.\\n.\\n.\\n.\\n.\\n.\\n..\\n.\\n.\\n.\\n.\\n.\\n.\\n.\\n.\\n..\\n.\\n.\\n.\",\n",
        " u'truncated': False,\n",
        " u'user': {u'contributors_enabled': False,\n",
        "  u'created_at': u'Sat Apr 05 16:24:34 +0000 2014',\n",
        "  u'default_profile': False,\n",
        "  u'default_profile_image': False,\n",
        "  u'description': u'',\n",
        "  u'entities': {u'description': {u'urls': []}},\n",
        "  u'favourites_count': 151,\n",
        "  u'follow_request_sent': False,\n",
        "  u'followers_count': 964,\n",
        "  u'following': False,\n",
        "  u'friends_count': 847,\n",
        "  u'geo_enabled': False,\n",
        "  u'id': 2429143602L,\n",
        "  u'id_str': u'2429143602',\n",
        "  u'is_translation_enabled': False,\n",
        "  u'is_translator': False,\n",
        "  u'lang': u'en',\n",
        "  u'listed_count': 0,\n",
        "  u'location': u'',\n",
        "  u'name': u'FOLLOW ME ARIANA',\n",
        "  u'notifications': False,\n",
        "  u'profile_background_color': u'FFFFFF',\n",
        "  u'profile_background_image_url': u'http://pbs.twimg.com/profile_background_images/459140585731813377/JI4Oqnqq.png',\n",
        "  u'profile_background_image_url_https': u'https://pbs.twimg.com/profile_background_images/459140585731813377/JI4Oqnqq.png',\n",
        "  u'profile_background_tile': True,\n",
        "  u'profile_banner_url': u'https://pbs.twimg.com/profile_banners/2429143602/1398301466',\n",
        "  u'profile_image_url': u'http://pbs.twimg.com/profile_images/459158946851196929/frN59YYU_normal.png',\n",
        "  u'profile_image_url_https': u'https://pbs.twimg.com/profile_images/459158946851196929/frN59YYU_normal.png',\n",
        "  u'profile_link_color': u'C4C0C2',\n",
        "  u'profile_sidebar_border_color': u'FFFFFF',\n",
        "  u'profile_sidebar_fill_color': u'DDEEF6',\n",
        "  u'profile_text_color': u'333333',\n",
        "  u'profile_use_background_image': True,\n",
        "  u'protected': False,\n",
        "  u'screen_name': u'jdbfIops',\n",
        "  u'statuses_count': 2987,\n",
        "  u'time_zone': u'Brasilia',\n",
        "  u'url': None,\n",
        "  u'utc_offset': -10800,\n",
        "  u'verified': False}}"
       ]
      }
     ],
     "prompt_number": 20
    },
    {
     "cell_type": "markdown",
     "metadata": {
      "slideshow": {
       "slide_type": "notes"
      }
     },
     "source": [
      "Notice the `_id` included in the document along with the values we already saw before."
     ]
    },
    {
     "cell_type": "markdown",
     "metadata": {
      "slideshow": {
       "slide_type": "slide"
      }
     },
     "source": [
      "Now that we have our data in MongoDB, we can use some of it's search functionality. For example:"
     ]
    },
    {
     "cell_type": "code",
     "collapsed": false,
     "input": [
      "popular_tweets = db.tweets.find({'retweet_count': {\"$gte\": 3}})\n",
      "popular_tweets.count()"
     ],
     "language": "python",
     "metadata": {
      "slideshow": {
       "slide_type": "fragment"
      }
     },
     "outputs": [
      {
       "metadata": {},
       "output_type": "pyout",
       "prompt_number": 21,
       "text": [
        "125"
       ]
      }
     ],
     "prompt_number": 21
    },
    {
     "cell_type": "markdown",
     "metadata": {
      "slideshow": {
       "slide_type": "slide"
      }
     },
     "source": [
      "Making Sense with Pandas\n",
      "========================"
     ]
    },
    {
     "cell_type": "code",
     "collapsed": false,
     "input": [
      "pd.DataFrame(list(db.tweets.find(fields=['created_at', 'retweet_count', 'favorite_count'])))"
     ],
     "language": "python",
     "metadata": {
      "slideshow": {
       "slide_type": "slide"
      }
     },
     "outputs": [
      {
       "html": [
        "<div style=\"max-height:1000px;max-width:1500px;overflow:auto;\">\n",
        "<table border=\"1\" class=\"dataframe\">\n",
        "  <thead>\n",
        "    <tr style=\"text-align: right;\">\n",
        "      <th></th>\n",
        "      <th>_id</th>\n",
        "      <th>created_at</th>\n",
        "      <th>favorite_count</th>\n",
        "      <th>retweet_count</th>\n",
        "    </tr>\n",
        "  </thead>\n",
        "  <tbody>\n",
        "    <tr>\n",
        "      <th>0 </th>\n",
        "      <td> 5358837ce781c404531322d6</td>\n",
        "      <td> Thu Apr 24 02:58:40 +0000 2014</td>\n",
        "      <td> 0</td>\n",
        "      <td>    0</td>\n",
        "    </tr>\n",
        "    <tr>\n",
        "      <th>1 </th>\n",
        "      <td> 5358837ce781c40453132341</td>\n",
        "      <td> Thu Apr 24 02:58:21 +0000 2014</td>\n",
        "      <td> 0</td>\n",
        "      <td>    0</td>\n",
        "    </tr>\n",
        "    <tr>\n",
        "      <th>2 </th>\n",
        "      <td> 5358837ce781c404531322d7</td>\n",
        "      <td> Thu Apr 24 02:58:40 +0000 2014</td>\n",
        "      <td> 0</td>\n",
        "      <td>    1</td>\n",
        "    </tr>\n",
        "    <tr>\n",
        "      <th>3 </th>\n",
        "      <td> 5358837ce781c404531322d8</td>\n",
        "      <td> Thu Apr 24 02:58:40 +0000 2014</td>\n",
        "      <td> 0</td>\n",
        "      <td>    0</td>\n",
        "    </tr>\n",
        "    <tr>\n",
        "      <th>4 </th>\n",
        "      <td> 5358837ce781c404531322d9</td>\n",
        "      <td> Thu Apr 24 02:58:40 +0000 2014</td>\n",
        "      <td> 0</td>\n",
        "      <td>    0</td>\n",
        "    </tr>\n",
        "    <tr>\n",
        "      <th>5 </th>\n",
        "      <td> 5358837ce781c404531322da</td>\n",
        "      <td> Thu Apr 24 02:58:40 +0000 2014</td>\n",
        "      <td> 0</td>\n",
        "      <td>    0</td>\n",
        "    </tr>\n",
        "    <tr>\n",
        "      <th>6 </th>\n",
        "      <td> 5358837ce781c404531322db</td>\n",
        "      <td> Thu Apr 24 02:58:40 +0000 2014</td>\n",
        "      <td> 1</td>\n",
        "      <td>    0</td>\n",
        "    </tr>\n",
        "    <tr>\n",
        "      <th>7 </th>\n",
        "      <td> 5358837ce781c404531322dc</td>\n",
        "      <td> Thu Apr 24 02:58:40 +0000 2014</td>\n",
        "      <td> 0</td>\n",
        "      <td>    1</td>\n",
        "    </tr>\n",
        "    <tr>\n",
        "      <th>8 </th>\n",
        "      <td> 5358837ce781c404531322dd</td>\n",
        "      <td> Thu Apr 24 02:58:40 +0000 2014</td>\n",
        "      <td> 0</td>\n",
        "      <td> 3502</td>\n",
        "    </tr>\n",
        "    <tr>\n",
        "      <th>9 </th>\n",
        "      <td> 5358837ce781c404531322de</td>\n",
        "      <td> Thu Apr 24 02:58:40 +0000 2014</td>\n",
        "      <td> 0</td>\n",
        "      <td>    0</td>\n",
        "    </tr>\n",
        "    <tr>\n",
        "      <th>10</th>\n",
        "      <td> 5358837ce781c404531322df</td>\n",
        "      <td> Thu Apr 24 02:58:39 +0000 2014</td>\n",
        "      <td> 0</td>\n",
        "      <td>    0</td>\n",
        "    </tr>\n",
        "    <tr>\n",
        "      <th>11</th>\n",
        "      <td> 5358837ce781c404531322e0</td>\n",
        "      <td> Thu Apr 24 02:58:39 +0000 2014</td>\n",
        "      <td> 0</td>\n",
        "      <td>    3</td>\n",
        "    </tr>\n",
        "    <tr>\n",
        "      <th>12</th>\n",
        "      <td> 5358837ce781c404531322e1</td>\n",
        "      <td> Thu Apr 24 02:58:39 +0000 2014</td>\n",
        "      <td> 0</td>\n",
        "      <td> 3502</td>\n",
        "    </tr>\n",
        "    <tr>\n",
        "      <th>13</th>\n",
        "      <td> 5358837ce781c404531322e2</td>\n",
        "      <td> Thu Apr 24 02:58:39 +0000 2014</td>\n",
        "      <td> 0</td>\n",
        "      <td>    0</td>\n",
        "    </tr>\n",
        "    <tr>\n",
        "      <th>14</th>\n",
        "      <td> 5358837ce781c404531322e3</td>\n",
        "      <td> Thu Apr 24 02:58:38 +0000 2014</td>\n",
        "      <td> 0</td>\n",
        "      <td>    0</td>\n",
        "    </tr>\n",
        "    <tr>\n",
        "      <th>15</th>\n",
        "      <td> 5358837ce781c404531322e4</td>\n",
        "      <td> Thu Apr 24 02:58:38 +0000 2014</td>\n",
        "      <td> 0</td>\n",
        "      <td>    0</td>\n",
        "    </tr>\n",
        "    <tr>\n",
        "      <th>16</th>\n",
        "      <td> 5358837ce781c404531322e5</td>\n",
        "      <td> Thu Apr 24 02:58:38 +0000 2014</td>\n",
        "      <td> 0</td>\n",
        "      <td>    0</td>\n",
        "    </tr>\n",
        "    <tr>\n",
        "      <th>17</th>\n",
        "      <td> 5358837ce781c404531322e6</td>\n",
        "      <td> Thu Apr 24 02:58:38 +0000 2014</td>\n",
        "      <td> 0</td>\n",
        "      <td>    0</td>\n",
        "    </tr>\n",
        "    <tr>\n",
        "      <th>18</th>\n",
        "      <td> 5358837ce781c404531322e7</td>\n",
        "      <td> Thu Apr 24 02:58:38 +0000 2014</td>\n",
        "      <td> 0</td>\n",
        "      <td>    2</td>\n",
        "    </tr>\n",
        "    <tr>\n",
        "      <th>19</th>\n",
        "      <td> 5358837ce781c404531322e8</td>\n",
        "      <td> Thu Apr 24 02:58:37 +0000 2014</td>\n",
        "      <td> 0</td>\n",
        "      <td> 3502</td>\n",
        "    </tr>\n",
        "    <tr>\n",
        "      <th>20</th>\n",
        "      <td> 5358837ce781c404531322e9</td>\n",
        "      <td> Thu Apr 24 02:58:37 +0000 2014</td>\n",
        "      <td> 0</td>\n",
        "      <td> 3502</td>\n",
        "    </tr>\n",
        "    <tr>\n",
        "      <th>21</th>\n",
        "      <td> 5358837ce781c404531322ea</td>\n",
        "      <td> Thu Apr 24 02:58:37 +0000 2014</td>\n",
        "      <td> 0</td>\n",
        "      <td>    0</td>\n",
        "    </tr>\n",
        "    <tr>\n",
        "      <th>22</th>\n",
        "      <td> 5358837ce781c404531322eb</td>\n",
        "      <td> Thu Apr 24 02:58:37 +0000 2014</td>\n",
        "      <td> 0</td>\n",
        "      <td>    1</td>\n",
        "    </tr>\n",
        "    <tr>\n",
        "      <th>23</th>\n",
        "      <td> 5358837ce781c404531322ed</td>\n",
        "      <td> Thu Apr 24 02:58:37 +0000 2014</td>\n",
        "      <td> 0</td>\n",
        "      <td>    0</td>\n",
        "    </tr>\n",
        "    <tr>\n",
        "      <th>24</th>\n",
        "      <td> 5358837ce781c4045313231c</td>\n",
        "      <td> Thu Apr 24 02:58:28 +0000 2014</td>\n",
        "      <td> 0</td>\n",
        "      <td>    0</td>\n",
        "    </tr>\n",
        "    <tr>\n",
        "      <th>25</th>\n",
        "      <td> 5358837ce781c404531322ec</td>\n",
        "      <td> Thu Apr 24 02:58:37 +0000 2014</td>\n",
        "      <td> 0</td>\n",
        "      <td>    5</td>\n",
        "    </tr>\n",
        "    <tr>\n",
        "      <th>26</th>\n",
        "      <td> 5358837ce781c404531322ee</td>\n",
        "      <td> Thu Apr 24 02:58:37 +0000 2014</td>\n",
        "      <td> 0</td>\n",
        "      <td>    0</td>\n",
        "    </tr>\n",
        "    <tr>\n",
        "      <th>27</th>\n",
        "      <td> 5358837ce781c404531322ef</td>\n",
        "      <td> Thu Apr 24 02:58:37 +0000 2014</td>\n",
        "      <td> 0</td>\n",
        "      <td> 3502</td>\n",
        "    </tr>\n",
        "    <tr>\n",
        "      <th>28</th>\n",
        "      <td> 5358837ce781c404531322f0</td>\n",
        "      <td> Thu Apr 24 02:58:36 +0000 2014</td>\n",
        "      <td> 0</td>\n",
        "      <td> 3502</td>\n",
        "    </tr>\n",
        "    <tr>\n",
        "      <th>29</th>\n",
        "      <td> 5358837ce781c404531322f1</td>\n",
        "      <td> Thu Apr 24 02:58:36 +0000 2014</td>\n",
        "      <td> 0</td>\n",
        "      <td>    0</td>\n",
        "    </tr>\n",
        "    <tr>\n",
        "      <th>30</th>\n",
        "      <td> 5358837ce781c404531322f2</td>\n",
        "      <td> Thu Apr 24 02:58:36 +0000 2014</td>\n",
        "      <td> 0</td>\n",
        "      <td>    0</td>\n",
        "    </tr>\n",
        "    <tr>\n",
        "      <th>31</th>\n",
        "      <td> 5358837ce781c404531322f3</td>\n",
        "      <td> Thu Apr 24 02:58:36 +0000 2014</td>\n",
        "      <td> 0</td>\n",
        "      <td> 3502</td>\n",
        "    </tr>\n",
        "    <tr>\n",
        "      <th>32</th>\n",
        "      <td> 5358837ce781c404531322f4</td>\n",
        "      <td> Thu Apr 24 02:58:35 +0000 2014</td>\n",
        "      <td> 0</td>\n",
        "      <td>    0</td>\n",
        "    </tr>\n",
        "    <tr>\n",
        "      <th>33</th>\n",
        "      <td> 5358837ce781c404531322f5</td>\n",
        "      <td> Thu Apr 24 02:58:35 +0000 2014</td>\n",
        "      <td> 0</td>\n",
        "      <td>    0</td>\n",
        "    </tr>\n",
        "    <tr>\n",
        "      <th>34</th>\n",
        "      <td> 5358837ce781c404531322f6</td>\n",
        "      <td> Thu Apr 24 02:58:35 +0000 2014</td>\n",
        "      <td> 0</td>\n",
        "      <td>    1</td>\n",
        "    </tr>\n",
        "    <tr>\n",
        "      <th>35</th>\n",
        "      <td> 5358837ce781c404531322f7</td>\n",
        "      <td> Thu Apr 24 02:58:35 +0000 2014</td>\n",
        "      <td> 0</td>\n",
        "      <td>    0</td>\n",
        "    </tr>\n",
        "    <tr>\n",
        "      <th>36</th>\n",
        "      <td> 5358837ce781c404531322f8</td>\n",
        "      <td> Thu Apr 24 02:58:35 +0000 2014</td>\n",
        "      <td> 0</td>\n",
        "      <td>    0</td>\n",
        "    </tr>\n",
        "    <tr>\n",
        "      <th>37</th>\n",
        "      <td> 5358837ce781c404531322f9</td>\n",
        "      <td> Thu Apr 24 02:58:35 +0000 2014</td>\n",
        "      <td> 0</td>\n",
        "      <td>    0</td>\n",
        "    </tr>\n",
        "    <tr>\n",
        "      <th>38</th>\n",
        "      <td> 5358837ce781c404531322fa</td>\n",
        "      <td> Thu Apr 24 02:58:35 +0000 2014</td>\n",
        "      <td> 0</td>\n",
        "      <td>    7</td>\n",
        "    </tr>\n",
        "    <tr>\n",
        "      <th>39</th>\n",
        "      <td> 5358837ce781c404531322fb</td>\n",
        "      <td> Thu Apr 24 02:58:35 +0000 2014</td>\n",
        "      <td> 0</td>\n",
        "      <td> 3502</td>\n",
        "    </tr>\n",
        "    <tr>\n",
        "      <th>40</th>\n",
        "      <td> 5358837ce781c404531322fc</td>\n",
        "      <td> Thu Apr 24 02:58:34 +0000 2014</td>\n",
        "      <td> 0</td>\n",
        "      <td>    0</td>\n",
        "    </tr>\n",
        "    <tr>\n",
        "      <th>41</th>\n",
        "      <td> 5358837ce781c404531322fd</td>\n",
        "      <td> Thu Apr 24 02:58:34 +0000 2014</td>\n",
        "      <td> 0</td>\n",
        "      <td>    0</td>\n",
        "    </tr>\n",
        "    <tr>\n",
        "      <th>42</th>\n",
        "      <td> 5358837ce781c404531322fe</td>\n",
        "      <td> Thu Apr 24 02:58:34 +0000 2014</td>\n",
        "      <td> 0</td>\n",
        "      <td>    1</td>\n",
        "    </tr>\n",
        "    <tr>\n",
        "      <th>43</th>\n",
        "      <td> 5358837ce781c404531322ff</td>\n",
        "      <td> Thu Apr 24 02:58:33 +0000 2014</td>\n",
        "      <td> 0</td>\n",
        "      <td>    0</td>\n",
        "    </tr>\n",
        "    <tr>\n",
        "      <th>44</th>\n",
        "      <td> 5358837ce781c40453132300</td>\n",
        "      <td> Thu Apr 24 02:58:33 +0000 2014</td>\n",
        "      <td> 0</td>\n",
        "      <td> 3502</td>\n",
        "    </tr>\n",
        "    <tr>\n",
        "      <th>45</th>\n",
        "      <td> 5358837ce781c40453132301</td>\n",
        "      <td> Thu Apr 24 02:58:33 +0000 2014</td>\n",
        "      <td> 0</td>\n",
        "      <td> 3502</td>\n",
        "    </tr>\n",
        "    <tr>\n",
        "      <th>46</th>\n",
        "      <td> 5358837ce781c40453132302</td>\n",
        "      <td> Thu Apr 24 02:58:33 +0000 2014</td>\n",
        "      <td> 0</td>\n",
        "      <td>    0</td>\n",
        "    </tr>\n",
        "    <tr>\n",
        "      <th>47</th>\n",
        "      <td> 5358837ce781c40453132303</td>\n",
        "      <td> Thu Apr 24 02:58:33 +0000 2014</td>\n",
        "      <td> 0</td>\n",
        "      <td>    1</td>\n",
        "    </tr>\n",
        "    <tr>\n",
        "      <th>48</th>\n",
        "      <td> 5358837ce781c40453132304</td>\n",
        "      <td> Thu Apr 24 02:58:33 +0000 2014</td>\n",
        "      <td> 0</td>\n",
        "      <td> 3502</td>\n",
        "    </tr>\n",
        "    <tr>\n",
        "      <th>49</th>\n",
        "      <td> 5358837ce781c40453132305</td>\n",
        "      <td> Thu Apr 24 02:58:33 +0000 2014</td>\n",
        "      <td> 0</td>\n",
        "      <td>    0</td>\n",
        "    </tr>\n",
        "    <tr>\n",
        "      <th>50</th>\n",
        "      <td> 5358837ce781c40453132306</td>\n",
        "      <td> Thu Apr 24 02:58:33 +0000 2014</td>\n",
        "      <td> 0</td>\n",
        "      <td>    0</td>\n",
        "    </tr>\n",
        "    <tr>\n",
        "      <th>51</th>\n",
        "      <td> 5358837ce781c40453132307</td>\n",
        "      <td> Thu Apr 24 02:58:33 +0000 2014</td>\n",
        "      <td> 0</td>\n",
        "      <td> 3502</td>\n",
        "    </tr>\n",
        "    <tr>\n",
        "      <th>52</th>\n",
        "      <td> 5358837ce781c40453132308</td>\n",
        "      <td> Thu Apr 24 02:58:32 +0000 2014</td>\n",
        "      <td> 0</td>\n",
        "      <td> 3502</td>\n",
        "    </tr>\n",
        "    <tr>\n",
        "      <th>53</th>\n",
        "      <td> 5358837ce781c40453132309</td>\n",
        "      <td> Thu Apr 24 02:58:32 +0000 2014</td>\n",
        "      <td> 0</td>\n",
        "      <td>    1</td>\n",
        "    </tr>\n",
        "    <tr>\n",
        "      <th>54</th>\n",
        "      <td> 5358837ce781c4045313230a</td>\n",
        "      <td> Thu Apr 24 02:58:32 +0000 2014</td>\n",
        "      <td> 0</td>\n",
        "      <td>    0</td>\n",
        "    </tr>\n",
        "    <tr>\n",
        "      <th>55</th>\n",
        "      <td> 5358837ce781c4045313230b</td>\n",
        "      <td> Thu Apr 24 02:58:31 +0000 2014</td>\n",
        "      <td> 0</td>\n",
        "      <td>    0</td>\n",
        "    </tr>\n",
        "    <tr>\n",
        "      <th>56</th>\n",
        "      <td> 5358837ce781c4045313230c</td>\n",
        "      <td> Thu Apr 24 02:58:31 +0000 2014</td>\n",
        "      <td> 0</td>\n",
        "      <td> 3502</td>\n",
        "    </tr>\n",
        "    <tr>\n",
        "      <th>57</th>\n",
        "      <td> 5358837ce781c4045313230d</td>\n",
        "      <td> Thu Apr 24 02:58:31 +0000 2014</td>\n",
        "      <td> 0</td>\n",
        "      <td>    0</td>\n",
        "    </tr>\n",
        "    <tr>\n",
        "      <th>58</th>\n",
        "      <td> 5358837ce781c4045313230e</td>\n",
        "      <td> Thu Apr 24 02:58:31 +0000 2014</td>\n",
        "      <td> 0</td>\n",
        "      <td> 3502</td>\n",
        "    </tr>\n",
        "    <tr>\n",
        "      <th>59</th>\n",
        "      <td> 5358837ce781c4045313230f</td>\n",
        "      <td> Thu Apr 24 02:58:31 +0000 2014</td>\n",
        "      <td> 0</td>\n",
        "      <td> 3502</td>\n",
        "    </tr>\n",
        "    <tr>\n",
        "      <th></th>\n",
        "      <td>...</td>\n",
        "      <td>...</td>\n",
        "      <td>...</td>\n",
        "      <td>...</td>\n",
        "    </tr>\n",
        "  </tbody>\n",
        "</table>\n",
        "<p>398 rows \u00d7 4 columns</p>\n",
        "</div>"
       ],
       "metadata": {},
       "output_type": "pyout",
       "prompt_number": 49,
       "text": [
        "                         _id                      created_at  favorite_count  \\\n",
        "0   5358837ce781c404531322d6  Thu Apr 24 02:58:40 +0000 2014               0   \n",
        "1   5358837ce781c40453132341  Thu Apr 24 02:58:21 +0000 2014               0   \n",
        "2   5358837ce781c404531322d7  Thu Apr 24 02:58:40 +0000 2014               0   \n",
        "3   5358837ce781c404531322d8  Thu Apr 24 02:58:40 +0000 2014               0   \n",
        "4   5358837ce781c404531322d9  Thu Apr 24 02:58:40 +0000 2014               0   \n",
        "5   5358837ce781c404531322da  Thu Apr 24 02:58:40 +0000 2014               0   \n",
        "6   5358837ce781c404531322db  Thu Apr 24 02:58:40 +0000 2014               1   \n",
        "7   5358837ce781c404531322dc  Thu Apr 24 02:58:40 +0000 2014               0   \n",
        "8   5358837ce781c404531322dd  Thu Apr 24 02:58:40 +0000 2014               0   \n",
        "9   5358837ce781c404531322de  Thu Apr 24 02:58:40 +0000 2014               0   \n",
        "10  5358837ce781c404531322df  Thu Apr 24 02:58:39 +0000 2014               0   \n",
        "11  5358837ce781c404531322e0  Thu Apr 24 02:58:39 +0000 2014               0   \n",
        "12  5358837ce781c404531322e1  Thu Apr 24 02:58:39 +0000 2014               0   \n",
        "13  5358837ce781c404531322e2  Thu Apr 24 02:58:39 +0000 2014               0   \n",
        "14  5358837ce781c404531322e3  Thu Apr 24 02:58:38 +0000 2014               0   \n",
        "15  5358837ce781c404531322e4  Thu Apr 24 02:58:38 +0000 2014               0   \n",
        "16  5358837ce781c404531322e5  Thu Apr 24 02:58:38 +0000 2014               0   \n",
        "17  5358837ce781c404531322e6  Thu Apr 24 02:58:38 +0000 2014               0   \n",
        "18  5358837ce781c404531322e7  Thu Apr 24 02:58:38 +0000 2014               0   \n",
        "19  5358837ce781c404531322e8  Thu Apr 24 02:58:37 +0000 2014               0   \n",
        "20  5358837ce781c404531322e9  Thu Apr 24 02:58:37 +0000 2014               0   \n",
        "21  5358837ce781c404531322ea  Thu Apr 24 02:58:37 +0000 2014               0   \n",
        "22  5358837ce781c404531322eb  Thu Apr 24 02:58:37 +0000 2014               0   \n",
        "23  5358837ce781c404531322ed  Thu Apr 24 02:58:37 +0000 2014               0   \n",
        "24  5358837ce781c4045313231c  Thu Apr 24 02:58:28 +0000 2014               0   \n",
        "25  5358837ce781c404531322ec  Thu Apr 24 02:58:37 +0000 2014               0   \n",
        "26  5358837ce781c404531322ee  Thu Apr 24 02:58:37 +0000 2014               0   \n",
        "27  5358837ce781c404531322ef  Thu Apr 24 02:58:37 +0000 2014               0   \n",
        "28  5358837ce781c404531322f0  Thu Apr 24 02:58:36 +0000 2014               0   \n",
        "29  5358837ce781c404531322f1  Thu Apr 24 02:58:36 +0000 2014               0   \n",
        "30  5358837ce781c404531322f2  Thu Apr 24 02:58:36 +0000 2014               0   \n",
        "31  5358837ce781c404531322f3  Thu Apr 24 02:58:36 +0000 2014               0   \n",
        "32  5358837ce781c404531322f4  Thu Apr 24 02:58:35 +0000 2014               0   \n",
        "33  5358837ce781c404531322f5  Thu Apr 24 02:58:35 +0000 2014               0   \n",
        "34  5358837ce781c404531322f6  Thu Apr 24 02:58:35 +0000 2014               0   \n",
        "35  5358837ce781c404531322f7  Thu Apr 24 02:58:35 +0000 2014               0   \n",
        "36  5358837ce781c404531322f8  Thu Apr 24 02:58:35 +0000 2014               0   \n",
        "37  5358837ce781c404531322f9  Thu Apr 24 02:58:35 +0000 2014               0   \n",
        "38  5358837ce781c404531322fa  Thu Apr 24 02:58:35 +0000 2014               0   \n",
        "39  5358837ce781c404531322fb  Thu Apr 24 02:58:35 +0000 2014               0   \n",
        "40  5358837ce781c404531322fc  Thu Apr 24 02:58:34 +0000 2014               0   \n",
        "41  5358837ce781c404531322fd  Thu Apr 24 02:58:34 +0000 2014               0   \n",
        "42  5358837ce781c404531322fe  Thu Apr 24 02:58:34 +0000 2014               0   \n",
        "43  5358837ce781c404531322ff  Thu Apr 24 02:58:33 +0000 2014               0   \n",
        "44  5358837ce781c40453132300  Thu Apr 24 02:58:33 +0000 2014               0   \n",
        "45  5358837ce781c40453132301  Thu Apr 24 02:58:33 +0000 2014               0   \n",
        "46  5358837ce781c40453132302  Thu Apr 24 02:58:33 +0000 2014               0   \n",
        "47  5358837ce781c40453132303  Thu Apr 24 02:58:33 +0000 2014               0   \n",
        "48  5358837ce781c40453132304  Thu Apr 24 02:58:33 +0000 2014               0   \n",
        "49  5358837ce781c40453132305  Thu Apr 24 02:58:33 +0000 2014               0   \n",
        "50  5358837ce781c40453132306  Thu Apr 24 02:58:33 +0000 2014               0   \n",
        "51  5358837ce781c40453132307  Thu Apr 24 02:58:33 +0000 2014               0   \n",
        "52  5358837ce781c40453132308  Thu Apr 24 02:58:32 +0000 2014               0   \n",
        "53  5358837ce781c40453132309  Thu Apr 24 02:58:32 +0000 2014               0   \n",
        "54  5358837ce781c4045313230a  Thu Apr 24 02:58:32 +0000 2014               0   \n",
        "55  5358837ce781c4045313230b  Thu Apr 24 02:58:31 +0000 2014               0   \n",
        "56  5358837ce781c4045313230c  Thu Apr 24 02:58:31 +0000 2014               0   \n",
        "57  5358837ce781c4045313230d  Thu Apr 24 02:58:31 +0000 2014               0   \n",
        "58  5358837ce781c4045313230e  Thu Apr 24 02:58:31 +0000 2014               0   \n",
        "59  5358837ce781c4045313230f  Thu Apr 24 02:58:31 +0000 2014               0   \n",
        "                         ...                             ...             ...   \n",
        "\n",
        "    retweet_count  \n",
        "0               0  \n",
        "1               0  \n",
        "2               1  \n",
        "3               0  \n",
        "4               0  \n",
        "5               0  \n",
        "6               0  \n",
        "7               1  \n",
        "8            3502  \n",
        "9               0  \n",
        "10              0  \n",
        "11              3  \n",
        "12           3502  \n",
        "13              0  \n",
        "14              0  \n",
        "15              0  \n",
        "16              0  \n",
        "17              0  \n",
        "18              2  \n",
        "19           3502  \n",
        "20           3502  \n",
        "21              0  \n",
        "22              1  \n",
        "23              0  \n",
        "24              0  \n",
        "25              5  \n",
        "26              0  \n",
        "27           3502  \n",
        "28           3502  \n",
        "29              0  \n",
        "30              0  \n",
        "31           3502  \n",
        "32              0  \n",
        "33              0  \n",
        "34              1  \n",
        "35              0  \n",
        "36              0  \n",
        "37              0  \n",
        "38              7  \n",
        "39           3502  \n",
        "40              0  \n",
        "41              0  \n",
        "42              1  \n",
        "43              0  \n",
        "44           3502  \n",
        "45           3502  \n",
        "46              0  \n",
        "47              1  \n",
        "48           3502  \n",
        "49              0  \n",
        "50              0  \n",
        "51           3502  \n",
        "52           3502  \n",
        "53              1  \n",
        "54              0  \n",
        "55              0  \n",
        "56           3502  \n",
        "57              0  \n",
        "58           3502  \n",
        "59           3502  \n",
        "              ...  \n",
        "\n",
        "[398 rows x 4 columns]"
       ]
      }
     ],
     "prompt_number": 49
    },
    {
     "cell_type": "code",
     "collapsed": false,
     "input": [
      "retweet_favorites = pd.DataFrame(list(db.tweets.find(fields=['created_at','retweet_count','favorite_count'])))\n",
      "retweet_favorites.head()"
     ],
     "language": "python",
     "metadata": {
      "slideshow": {
       "slide_type": "subslide"
      }
     },
     "outputs": [
      {
       "html": [
        "<div style=\"max-height:1000px;max-width:1500px;overflow:auto;\">\n",
        "<table border=\"1\" class=\"dataframe\">\n",
        "  <thead>\n",
        "    <tr style=\"text-align: right;\">\n",
        "      <th></th>\n",
        "      <th>_id</th>\n",
        "      <th>created_at</th>\n",
        "      <th>favorite_count</th>\n",
        "      <th>retweet_count</th>\n",
        "    </tr>\n",
        "  </thead>\n",
        "  <tbody>\n",
        "    <tr>\n",
        "      <th>0</th>\n",
        "      <td> 5358837ce781c404531322d6</td>\n",
        "      <td> Thu Apr 24 02:58:40 +0000 2014</td>\n",
        "      <td> 0</td>\n",
        "      <td> 0</td>\n",
        "    </tr>\n",
        "    <tr>\n",
        "      <th>1</th>\n",
        "      <td> 5358837ce781c40453132341</td>\n",
        "      <td> Thu Apr 24 02:58:21 +0000 2014</td>\n",
        "      <td> 0</td>\n",
        "      <td> 0</td>\n",
        "    </tr>\n",
        "    <tr>\n",
        "      <th>2</th>\n",
        "      <td> 5358837ce781c404531322d7</td>\n",
        "      <td> Thu Apr 24 02:58:40 +0000 2014</td>\n",
        "      <td> 0</td>\n",
        "      <td> 1</td>\n",
        "    </tr>\n",
        "    <tr>\n",
        "      <th>3</th>\n",
        "      <td> 5358837ce781c404531322d8</td>\n",
        "      <td> Thu Apr 24 02:58:40 +0000 2014</td>\n",
        "      <td> 0</td>\n",
        "      <td> 0</td>\n",
        "    </tr>\n",
        "    <tr>\n",
        "      <th>4</th>\n",
        "      <td> 5358837ce781c404531322d9</td>\n",
        "      <td> Thu Apr 24 02:58:40 +0000 2014</td>\n",
        "      <td> 0</td>\n",
        "      <td> 0</td>\n",
        "    </tr>\n",
        "  </tbody>\n",
        "</table>\n",
        "<p>5 rows \u00d7 4 columns</p>\n",
        "</div>"
       ],
       "metadata": {},
       "output_type": "pyout",
       "prompt_number": 23,
       "text": [
        "                        _id                      created_at  favorite_count  \\\n",
        "0  5358837ce781c404531322d6  Thu Apr 24 02:58:40 +0000 2014               0   \n",
        "1  5358837ce781c40453132341  Thu Apr 24 02:58:21 +0000 2014               0   \n",
        "2  5358837ce781c404531322d7  Thu Apr 24 02:58:40 +0000 2014               0   \n",
        "3  5358837ce781c404531322d8  Thu Apr 24 02:58:40 +0000 2014               0   \n",
        "4  5358837ce781c404531322d9  Thu Apr 24 02:58:40 +0000 2014               0   \n",
        "\n",
        "   retweet_count  \n",
        "0              0  \n",
        "1              0  \n",
        "2              1  \n",
        "3              0  \n",
        "4              0  \n",
        "\n",
        "[5 rows x 4 columns]"
       ]
      }
     ],
     "prompt_number": 23
    },
    {
     "cell_type": "markdown",
     "metadata": {
      "slideshow": {
       "slide_type": "slide"
      }
     },
     "source": [
      "`.describe()` is a useful method to get the gist of our data."
     ]
    },
    {
     "cell_type": "code",
     "collapsed": false,
     "input": [
      "retweet_favorites.describe()"
     ],
     "language": "python",
     "metadata": {
      "slideshow": {
       "slide_type": "-"
      }
     },
     "outputs": [
      {
       "html": [
        "<div style=\"max-height:1000px;max-width:1500px;overflow:auto;\">\n",
        "<table border=\"1\" class=\"dataframe\">\n",
        "  <thead>\n",
        "    <tr style=\"text-align: right;\">\n",
        "      <th></th>\n",
        "      <th>favorite_count</th>\n",
        "      <th>retweet_count</th>\n",
        "    </tr>\n",
        "  </thead>\n",
        "  <tbody>\n",
        "    <tr>\n",
        "      <th>count</th>\n",
        "      <td> 398.000000</td>\n",
        "      <td>  398.000000</td>\n",
        "    </tr>\n",
        "    <tr>\n",
        "      <th>mean</th>\n",
        "      <td>   0.105528</td>\n",
        "      <td>  414.761307</td>\n",
        "    </tr>\n",
        "    <tr>\n",
        "      <th>std</th>\n",
        "      <td>   0.539539</td>\n",
        "      <td> 1133.332273</td>\n",
        "    </tr>\n",
        "    <tr>\n",
        "      <th>min</th>\n",
        "      <td>   0.000000</td>\n",
        "      <td>    0.000000</td>\n",
        "    </tr>\n",
        "    <tr>\n",
        "      <th>25%</th>\n",
        "      <td>   0.000000</td>\n",
        "      <td>    0.000000</td>\n",
        "    </tr>\n",
        "    <tr>\n",
        "      <th>50%</th>\n",
        "      <td>   0.000000</td>\n",
        "      <td>    0.000000</td>\n",
        "    </tr>\n",
        "    <tr>\n",
        "      <th>75%</th>\n",
        "      <td>   0.000000</td>\n",
        "      <td>    5.750000</td>\n",
        "    </tr>\n",
        "    <tr>\n",
        "      <th>max</th>\n",
        "      <td>   6.000000</td>\n",
        "      <td> 3588.000000</td>\n",
        "    </tr>\n",
        "  </tbody>\n",
        "</table>\n",
        "<p>8 rows \u00d7 2 columns</p>\n",
        "</div>"
       ],
       "metadata": {},
       "output_type": "pyout",
       "prompt_number": 24,
       "text": [
        "       favorite_count  retweet_count\n",
        "count      398.000000     398.000000\n",
        "mean         0.105528     414.761307\n",
        "std          0.539539    1133.332273\n",
        "min          0.000000       0.000000\n",
        "25%          0.000000       0.000000\n",
        "50%          0.000000       0.000000\n",
        "75%          0.000000       5.750000\n",
        "max          6.000000    3588.000000\n",
        "\n",
        "[8 rows x 2 columns]"
       ]
      }
     ],
     "prompt_number": 24
    },
    {
     "cell_type": "markdown",
     "metadata": {
      "slideshow": {
       "slide_type": "subslide"
      }
     },
     "source": [
      "However, when applied to a DataFrame, it only describes numeric columns."
     ]
    },
    {
     "cell_type": "code",
     "collapsed": false,
     "input": [
      "retweet_favorites.dtypes"
     ],
     "language": "python",
     "metadata": {
      "slideshow": {
       "slide_type": "-"
      }
     },
     "outputs": [
      {
       "metadata": {},
       "output_type": "pyout",
       "prompt_number": 25,
       "text": [
        "_id               object\n",
        "created_at        object\n",
        "favorite_count     int64\n",
        "retweet_count      int64\n",
        "dtype: object"
       ]
      }
     ],
     "prompt_number": 25
    },
    {
     "cell_type": "markdown",
     "metadata": {
      "slideshow": {
       "slide_type": "subslide"
      }
     },
     "source": [
      "`.describe()` can be called on individual columns (i.e. `Series`), even if they are not numeric."
     ]
    },
    {
     "cell_type": "code",
     "collapsed": false,
     "input": [
      "retweet_favorites.created_at.describe()"
     ],
     "language": "python",
     "metadata": {
      "slideshow": {
       "slide_type": "-"
      }
     },
     "outputs": [
      {
       "metadata": {},
       "output_type": "pyout",
       "prompt_number": 26,
       "text": [
        "count                                398\n",
        "unique                                75\n",
        "top       Thu Apr 24 03:41:39 +0000 2014\n",
        "freq                                  13\n",
        "Name: created_at, dtype: object"
       ]
      }
     ],
     "prompt_number": 26
    },
    {
     "cell_type": "markdown",
     "metadata": {
      "slideshow": {
       "slide_type": "fragment"
      }
     },
     "source": [
      "However, in this case `created_at` is being treated as a string, which is not very helpful. We can fix that with `pandas.to_datetime`:"
     ]
    },
    {
     "cell_type": "code",
     "collapsed": false,
     "input": [
      "retweet_favorites.created_at.map(pd.to_datetime).describe()"
     ],
     "language": "python",
     "metadata": {
      "slideshow": {
       "slide_type": "fragment"
      }
     },
     "outputs": [
      {
       "metadata": {},
       "output_type": "pyout",
       "prompt_number": 27,
       "text": [
        "count                     398\n",
        "unique                     75\n",
        "first     2014-04-24 02:58:02\n",
        "last      2014-04-28 22:24:11\n",
        "top       2014-04-24 03:41:39\n",
        "freq                       13\n",
        "Name: created_at, dtype: object"
       ]
      }
     ],
     "prompt_number": 27
    },
    {
     "cell_type": "markdown",
     "metadata": {
      "slideshow": {
       "slide_type": "notes"
      }
     },
     "source": [
      "Not all that interesting though, since all of these tweets were collected within a couple seconds of each other."
     ]
    },
    {
     "cell_type": "markdown",
     "metadata": {
      "slideshow": {
       "slide_type": "slide"
      }
     },
     "source": [
      "Mongo allows us to access subfields directly."
     ]
    },
    {
     "cell_type": "code",
     "collapsed": false,
     "input": [
      "mentions_followers = list(db.tweets.find(fields=['entities.user_mentions', 'user.followers_count']))\n",
      "pd.DataFrame(mentions_followers).head()"
     ],
     "language": "python",
     "metadata": {
      "slideshow": {
       "slide_type": "-"
      }
     },
     "outputs": [
      {
       "html": [
        "<div style=\"max-height:1000px;max-width:1500px;overflow:auto;\">\n",
        "<table border=\"1\" class=\"dataframe\">\n",
        "  <thead>\n",
        "    <tr style=\"text-align: right;\">\n",
        "      <th></th>\n",
        "      <th>_id</th>\n",
        "      <th>entities</th>\n",
        "      <th>user</th>\n",
        "    </tr>\n",
        "  </thead>\n",
        "  <tbody>\n",
        "    <tr>\n",
        "      <th>0</th>\n",
        "      <td> 5358837ce781c404531322d6</td>\n",
        "      <td> {u'user_mentions': [{u'indices': [0, 13], u'sc...</td>\n",
        "      <td> {u'followers_count': 964}</td>\n",
        "    </tr>\n",
        "    <tr>\n",
        "      <th>1</th>\n",
        "      <td> 5358837ce781c40453132341</td>\n",
        "      <td>                            {u'user_mentions': []}</td>\n",
        "      <td>  {u'followers_count': 19}</td>\n",
        "    </tr>\n",
        "    <tr>\n",
        "      <th>2</th>\n",
        "      <td> 5358837ce781c404531322d7</td>\n",
        "      <td> {u'user_mentions': [{u'indices': [3, 18], u'sc...</td>\n",
        "      <td> {u'followers_count': 200}</td>\n",
        "    </tr>\n",
        "    <tr>\n",
        "      <th>3</th>\n",
        "      <td> 5358837ce781c404531322d8</td>\n",
        "      <td> {u'user_mentions': [{u'indices': [0, 13], u'sc...</td>\n",
        "      <td>   {u'followers_count': 6}</td>\n",
        "    </tr>\n",
        "    <tr>\n",
        "      <th>4</th>\n",
        "      <td> 5358837ce781c404531322d9</td>\n",
        "      <td> {u'user_mentions': [{u'indices': [0, 13], u'sc...</td>\n",
        "      <td> {u'followers_count': 242}</td>\n",
        "    </tr>\n",
        "  </tbody>\n",
        "</table>\n",
        "<p>5 rows \u00d7 3 columns</p>\n",
        "</div>"
       ],
       "metadata": {},
       "output_type": "pyout",
       "prompt_number": 28,
       "text": [
        "                        _id  \\\n",
        "0  5358837ce781c404531322d6   \n",
        "1  5358837ce781c40453132341   \n",
        "2  5358837ce781c404531322d7   \n",
        "3  5358837ce781c404531322d8   \n",
        "4  5358837ce781c404531322d9   \n",
        "\n",
        "                                            entities  \\\n",
        "0  {u'user_mentions': [{u'indices': [0, 13], u'sc...   \n",
        "1                             {u'user_mentions': []}   \n",
        "2  {u'user_mentions': [{u'indices': [3, 18], u'sc...   \n",
        "3  {u'user_mentions': [{u'indices': [0, 13], u'sc...   \n",
        "4  {u'user_mentions': [{u'indices': [0, 13], u'sc...   \n",
        "\n",
        "                        user  \n",
        "0  {u'followers_count': 964}  \n",
        "1   {u'followers_count': 19}  \n",
        "2  {u'followers_count': 200}  \n",
        "3    {u'followers_count': 6}  \n",
        "4  {u'followers_count': 242}  \n",
        "\n",
        "[5 rows x 3 columns]"
       ]
      }
     ],
     "prompt_number": 28
    },
    {
     "cell_type": "markdown",
     "metadata": {
      "slideshow": {
       "slide_type": "subslide"
      }
     },
     "source": [
      "Pandas doesn't know how to parse the sub-documents however, so we must tell it explicitly:"
     ]
    },
    {
     "cell_type": "code",
     "collapsed": false,
     "input": [
      "mentions_followers_df = pd.DataFrame({'user_mentions': len(tweet['entities']['user_mentions']), \n",
      "              'followers_count': tweet['user'].get('followers_count')} for tweet in mentions_followers)\n",
      "mentions_followers_df.head()"
     ],
     "language": "python",
     "metadata": {
      "slideshow": {
       "slide_type": "-"
      }
     },
     "outputs": [
      {
       "html": [
        "<div style=\"max-height:1000px;max-width:1500px;overflow:auto;\">\n",
        "<table border=\"1\" class=\"dataframe\">\n",
        "  <thead>\n",
        "    <tr style=\"text-align: right;\">\n",
        "      <th></th>\n",
        "      <th>followers_count</th>\n",
        "      <th>user_mentions</th>\n",
        "    </tr>\n",
        "  </thead>\n",
        "  <tbody>\n",
        "    <tr>\n",
        "      <th>0</th>\n",
        "      <td> 964</td>\n",
        "      <td> 1</td>\n",
        "    </tr>\n",
        "    <tr>\n",
        "      <th>1</th>\n",
        "      <td>  19</td>\n",
        "      <td> 0</td>\n",
        "    </tr>\n",
        "    <tr>\n",
        "      <th>2</th>\n",
        "      <td> 200</td>\n",
        "      <td> 2</td>\n",
        "    </tr>\n",
        "    <tr>\n",
        "      <th>3</th>\n",
        "      <td>   6</td>\n",
        "      <td> 2</td>\n",
        "    </tr>\n",
        "    <tr>\n",
        "      <th>4</th>\n",
        "      <td> 242</td>\n",
        "      <td> 1</td>\n",
        "    </tr>\n",
        "  </tbody>\n",
        "</table>\n",
        "<p>5 rows \u00d7 2 columns</p>\n",
        "</div>"
       ],
       "metadata": {},
       "output_type": "pyout",
       "prompt_number": 91,
       "text": [
        "   followers_count  user_mentions\n",
        "0              964              1\n",
        "1               19              0\n",
        "2              200              2\n",
        "3                6              2\n",
        "4              242              1\n",
        "\n",
        "[5 rows x 2 columns]"
       ]
      }
     ],
     "prompt_number": 91
    },
    {
     "cell_type": "code",
     "collapsed": false,
     "input": [
      "mentions_followers_df.describe()"
     ],
     "language": "python",
     "metadata": {},
     "outputs": [
      {
       "html": [
        "<div style=\"max-height:1000px;max-width:1500px;overflow:auto;\">\n",
        "<table border=\"1\" class=\"dataframe\">\n",
        "  <thead>\n",
        "    <tr style=\"text-align: right;\">\n",
        "      <th></th>\n",
        "      <th>followers_count</th>\n",
        "      <th>user_mentions</th>\n",
        "    </tr>\n",
        "  </thead>\n",
        "  <tbody>\n",
        "    <tr>\n",
        "      <th>count</th>\n",
        "      <td>    398.000000</td>\n",
        "      <td> 398.000000</td>\n",
        "    </tr>\n",
        "    <tr>\n",
        "      <th>mean</th>\n",
        "      <td>   4391.706030</td>\n",
        "      <td>   1.120603</td>\n",
        "    </tr>\n",
        "    <tr>\n",
        "      <th>std</th>\n",
        "      <td>  17515.356097</td>\n",
        "      <td>   0.699426</td>\n",
        "    </tr>\n",
        "    <tr>\n",
        "      <th>min</th>\n",
        "      <td>      0.000000</td>\n",
        "      <td>   0.000000</td>\n",
        "    </tr>\n",
        "    <tr>\n",
        "      <th>25%</th>\n",
        "      <td>    236.000000</td>\n",
        "      <td>   1.000000</td>\n",
        "    </tr>\n",
        "    <tr>\n",
        "      <th>50%</th>\n",
        "      <td>    803.000000</td>\n",
        "      <td>   1.000000</td>\n",
        "    </tr>\n",
        "    <tr>\n",
        "      <th>75%</th>\n",
        "      <td>   2929.500000</td>\n",
        "      <td>   1.000000</td>\n",
        "    </tr>\n",
        "    <tr>\n",
        "      <th>max</th>\n",
        "      <td> 214075.000000</td>\n",
        "      <td>   5.000000</td>\n",
        "    </tr>\n",
        "  </tbody>\n",
        "</table>\n",
        "<p>8 rows \u00d7 2 columns</p>\n",
        "</div>"
       ],
       "metadata": {},
       "output_type": "pyout",
       "prompt_number": 89,
       "text": [
        "       followers_count  user_mentions\n",
        "count       398.000000     398.000000\n",
        "mean       4391.706030       1.120603\n",
        "std       17515.356097       0.699426\n",
        "min           0.000000       0.000000\n",
        "25%         236.000000       1.000000\n",
        "50%         803.000000       1.000000\n",
        "75%        2929.500000       1.000000\n",
        "max      214075.000000       5.000000\n",
        "\n",
        "[8 rows x 2 columns]"
       ]
      }
     ],
     "prompt_number": 89
    },
    {
     "cell_type": "markdown",
     "metadata": {
      "slideshow": {
       "slide_type": "slide"
      }
     },
     "source": [
      "Perhaps `user_mentions` and `followers_count` are correlated?"
     ]
    },
    {
     "cell_type": "code",
     "collapsed": false,
     "input": [
      "%matplotlib inline"
     ],
     "language": "python",
     "metadata": {},
     "outputs": [],
     "prompt_number": 30
    },
    {
     "cell_type": "markdown",
     "metadata": {},
     "source": [
      "%matplotlib inline"
     ]
    },
    {
     "cell_type": "code",
     "collapsed": false,
     "input": [
      "plt.scatter(mentions_followers_df.user_mentions, mentions_followers_df.followers_count)\n",
      "mentions_followers_df.corr()"
     ],
     "language": "python",
     "metadata": {
      "slideshow": {
       "slide_type": "-"
      }
     },
     "outputs": [
      {
       "html": [
        "<div style=\"max-height:1000px;max-width:1500px;overflow:auto;\">\n",
        "<table border=\"1\" class=\"dataframe\">\n",
        "  <thead>\n",
        "    <tr style=\"text-align: right;\">\n",
        "      <th></th>\n",
        "      <th>followers_count</th>\n",
        "      <th>user_mentions</th>\n",
        "    </tr>\n",
        "  </thead>\n",
        "  <tbody>\n",
        "    <tr>\n",
        "      <th>followers_count</th>\n",
        "      <td> 1.000000</td>\n",
        "      <td>-0.147122</td>\n",
        "    </tr>\n",
        "    <tr>\n",
        "      <th>user_mentions</th>\n",
        "      <td>-0.147122</td>\n",
        "      <td> 1.000000</td>\n",
        "    </tr>\n",
        "  </tbody>\n",
        "</table>\n",
        "<p>2 rows \u00d7 2 columns</p>\n",
        "</div>"
       ],
       "metadata": {},
       "output_type": "pyout",
       "prompt_number": 31,
       "text": [
        "                 followers_count  user_mentions\n",
        "followers_count         1.000000      -0.147122\n",
        "user_mentions          -0.147122       1.000000\n",
        "\n",
        "[2 rows x 2 columns]"
       ]
      },
      {
       "metadata": {},
       "output_type": "display_data",
       "png": "[encoded data removed]",
       "text": [
        "<matplotlib.figure.Figure at 0x106e2afd0>"
       ]
      }
     ],
     "prompt_number": 31
    },
    {
     "cell_type": "markdown",
     "metadata": {
      "slideshow": {
       "slide_type": "fragment"
      }
     },
     "source": [
      "Perhaps not."
     ]
    },
    {
     "cell_type": "markdown",
     "metadata": {
      "slideshow": {
       "slide_type": "slide"
      }
     },
     "source": [
      "Lab\n",
      "============\n",
      "1-2 Pairs\n",
      "------------"
     ]
    },
    {
     "cell_type": "markdown",
     "metadata": {
      "slideshow": {
       "slide_type": "notes"
      }
     },
     "source": [
      "Raise two fingers if you understand the material well.  \n",
      "Raise one finger if you understand this material OK.  \n",
      "Now, 1 find a 2 and sit next to them. While you work through this exercise, only 1's can type."
     ]
    },
    {
     "cell_type": "markdown",
     "metadata": {
      "slideshow": {
       "slide_type": "fragment"
      }
     },
     "source": [
      "The [Yahoo! Where On Earth ID](https://developer.yahoo.com/geo/geoplanet/) of Canada is 23424775.  \n",
      "Use it to find Twitter trends in Canada and compare it to US trends. What's the difference between them?  \n",
      "\n",
      "- Insert the last 100 tweets for all Canada-only trends into a `canada` collection.  \n",
      "- Insert the last 100 tweets for all US-only trends into a `us` collections.  \n",
      "- For this (small and not very representative) sample, which users have the highest `follower_count`?"
     ]
    },
    {
     "cell_type": "code",
     "collapsed": false,
     "input": [
      "CANADA_WOE_ID = 23424775\n",
      "\n",
      "canada_trends = twitter_api.trends.place(_id=CANADA_WOE_ID)\n",
      "pprint(canada_trends)"
     ],
     "language": "python",
     "metadata": {},
     "outputs": [
      {
       "output_type": "stream",
       "stream": "stdout",
       "text": [
        "[{u'as_of': u'2014-04-28T22:31:55Z',\n",
        "  u'created_at': u'2014-04-28T22:28:45Z',\n",
        "  u'locations': [{u'name': u'Canada', u'woeid': 23424775}],\n",
        "  u'trends': [{u'name': u'#WeWereBornForThis',\n",
        "               u'promoted_content': None,\n",
        "               u'query': u'%23WeWereBornForThis',\n",
        "               u'url': u'http://twitter.com/search?q=%23WeWereBornForThis'},\n",
        "              {u'name': u'#BieberStoleFromParamore',\n",
        "               u'promoted_content': None,\n",
        "               u'query': u'%23BieberStoleFromParamore',\n",
        "               u'url': u'http://twitter.com/search?q=%23BieberStoleFromParamore'},\n",
        "              {u'name': u'#RvB12',\n",
        "               u'promoted_content': None,\n",
        "               u'query': u'%23RvB12',\n",
        "               u'url': u'http://twitter.com/search?q=%23RvB12'},\n",
        "              {u'name': u'#AskEllen',\n",
        "               u'promoted_content': None,\n",
        "               u'query': u'%23AskEllen',\n",
        "               u'url': u'http://twitter.com/search?q=%23AskEllen'},\n",
        "              {u'name': u'#BuyProblemOniTunes',\n",
        "               u'promoted_content': None,\n",
        "               u'query': u'%23BuyProblemOniTunes',\n",
        "               u'url': u'http://twitter.com/search?q=%23BuyProblemOniTunes'},\n",
        "              {u'name': u'Jim Prentice',\n",
        "               u'promoted_content': None,\n",
        "               u'query': u'%22Jim+Prentice%22',\n",
        "               u'url': u'http://twitter.com/search?q=%22Jim+Prentice%22'},\n",
        "              {u'name': u'Toronto',\n",
        "               u'promoted_content': None,\n",
        "               u'query': u'Toronto',\n",
        "               u'url': u'http://twitter.com/search?q=Toronto'},\n",
        "              {u'name': u'Vancouver',\n",
        "               u'promoted_content': None,\n",
        "               u'query': u'Vancouver',\n",
        "               u'url': u'http://twitter.com/search?q=Vancouver'},\n",
        "              {u'name': u'Winnipeg',\n",
        "               u'promoted_content': None,\n",
        "               u'query': u'Winnipeg',\n",
        "               u'url': u'http://twitter.com/search?q=Winnipeg'},\n",
        "              {u'name': u'Xbox',\n",
        "               u'promoted_content': None,\n",
        "               u'query': u'Xbox',\n",
        "               u'url': u'http://twitter.com/search?q=Xbox'}]}]\n"
       ]
      }
     ],
     "prompt_number": 33
    },
    {
     "cell_type": "code",
     "collapsed": false,
     "input": [
      "canada_trends_set = set([trend['name'] for trends in canada_trends\n",
      "                        for trend in trends['trends']])\n",
      "\n",
      "us_trends_set = set([trend['name'] for trends in us_trends\n",
      "                     for trend in trends['trends']]) \n",
      "\n",
      "canada_only = canada_trends_set.difference(us_trends_set)\n",
      "canada_only"
     ],
     "language": "python",
     "metadata": {},
     "outputs": [
      {
       "metadata": {},
       "output_type": "pyout",
       "prompt_number": 45,
       "text": [
        "{u'#AskEllen',\n",
        " u'#BuyProblemOniTunes',\n",
        " u'Jim Prentice',\n",
        " u'Toronto',\n",
        " u'Vancouver',\n",
        " u'Winnipeg',\n",
        " u'Xbox'}"
       ]
      }
     ],
     "prompt_number": 45
    },
    {
     "cell_type": "code",
     "collapsed": false,
     "input": [
      "us_only = us_trends_set.difference(canada_trends_set)\n",
      "us_only"
     ],
     "language": "python",
     "metadata": {},
     "outputs": [
      {
       "metadata": {},
       "output_type": "pyout",
       "prompt_number": 35,
       "text": [
        "{u'#OnTheRunTour',\n",
        " u'#WhyBeInARelationshipWhen',\n",
        " u'Earl Thomas',\n",
        " u'Larry Johnson',\n",
        " u'LeBron vs the Bobcats',\n",
        " u\"Malibu's Most Wanted\",\n",
        " u'Pretty Woman'}"
       ]
      }
     ],
     "prompt_number": 35
    },
    {
     "cell_type": "code",
     "collapsed": false,
     "input": [
      "db = c.twitter\n",
      "db.canada.find_one()"
     ],
     "language": "python",
     "metadata": {},
     "outputs": [
      {
       "metadata": {},
       "output_type": "pyout",
       "prompt_number": 82,
       "text": [
        "{u'_id': ObjectId('535ed5f1e781c402fd0edb47'),\n",
        " u'contributors': None,\n",
        " u'coordinates': None,\n",
        " u'created_at': u'Mon Apr 28 22:24:11 +0000 2014',\n",
        " u'entities': {u'hashtags': [{u'indices': [1, 25],\n",
        "    u'text': u'BieberStoleFromParamore'}],\n",
        "  u'symbols': [],\n",
        "  u'urls': [],\n",
        "  u'user_mentions': []},\n",
        " u'favorite_count': 0,\n",
        " u'favorited': False,\n",
        " u'geo': None,\n",
        " u'id': 460907355233062912L,\n",
        " u'id_str': u'460907355233062912',\n",
        " u'in_reply_to_screen_name': None,\n",
        " u'in_reply_to_status_id': None,\n",
        " u'in_reply_to_status_id_str': None,\n",
        " u'in_reply_to_user_id': None,\n",
        " u'in_reply_to_user_id_str': None,\n",
        " u'lang': u'en',\n",
        " u'metadata': {u'iso_language_code': u'en', u'result_type': u'recent'},\n",
        " u'place': None,\n",
        " u'retweet_count': 0,\n",
        " u'retweeted': False,\n",
        " u'source': u'web',\n",
        " u'text': u'\"#BieberStoleFromParamore\" que',\n",
        " u'truncated': False,\n",
        " u'user': {u'contributors_enabled': False,\n",
        "  u'created_at': u'Sat Apr 17 01:10:22 +0000 2010',\n",
        "  u'default_profile': False,\n",
        "  u'default_profile_image': False,\n",
        "  u'description': u'Dying slowly.',\n",
        "  u'entities': {u'description': {u'urls': []},\n",
        "   u'url': {u'urls': [{u'display_url': u'start.io/jezeca',\n",
        "      u'expanded_url': u'http://start.io/jezeca',\n",
        "      u'indices': [0, 22],\n",
        "      u'url': u'http://t.co/Jf3H239Qmj'}]}},\n",
        "  u'favourites_count': 1404,\n",
        "  u'follow_request_sent': False,\n",
        "  u'followers_count': 150,\n",
        "  u'following': False,\n",
        "  u'friends_count': 147,\n",
        "  u'geo_enabled': False,\n",
        "  u'id': 133929028,\n",
        "  u'id_str': u'133929028',\n",
        "  u'is_translation_enabled': False,\n",
        "  u'is_translator': False,\n",
        "  u'lang': u'en',\n",
        "  u'listed_count': 30,\n",
        "  u'location': u'',\n",
        "  u'name': u'jezeca',\n",
        "  u'notifications': False,\n",
        "  u'profile_background_color': u'000000',\n",
        "  u'profile_background_image_url': u'http://pbs.twimg.com/profile_background_images/378800000043042963/5484a0e7565464200ac9336ba1adb3c0.jpeg',\n",
        "  u'profile_background_image_url_https': u'https://pbs.twimg.com/profile_background_images/378800000043042963/5484a0e7565464200ac9336ba1adb3c0.jpeg',\n",
        "  u'profile_background_tile': True,\n",
        "  u'profile_banner_url': u'https://pbs.twimg.com/profile_banners/133929028/1393206837',\n",
        "  u'profile_image_url': u'http://pbs.twimg.com/profile_images/3786733624/c7535f4c9d564f5d6d7a7895aee98173_normal.png',\n",
        "  u'profile_image_url_https': u'https://pbs.twimg.com/profile_images/3786733624/c7535f4c9d564f5d6d7a7895aee98173_normal.png',\n",
        "  u'profile_link_color': u'3C0B8A',\n",
        "  u'profile_sidebar_border_color': u'FFFFFF',\n",
        "  u'profile_sidebar_fill_color': u'380D38',\n",
        "  u'profile_text_color': u'7E0699',\n",
        "  u'profile_use_background_image': True,\n",
        "  u'protected': False,\n",
        "  u'screen_name': u'dafuckjezeca',\n",
        "  u'statuses_count': 39560,\n",
        "  u'time_zone': u'Quito',\n",
        "  u'url': u'http://t.co/Jf3H239Qmj',\n",
        "  u'utc_offset': -18000,\n",
        "  u'verified': False}}"
       ]
      }
     ],
     "prompt_number": 82
    },
    {
     "cell_type": "code",
     "collapsed": false,
     "input": [
      "\n",
      "count = 100\n",
      "\n",
      "for i in canada_only:\n",
      "    search_results = twitter_api.search.tweets(q=i, count = count)\n",
      "    db.canada.insert(search_results)\n"
     ],
     "language": "python",
     "metadata": {},
     "outputs": [],
     "prompt_number": 47
    },
    {
     "cell_type": "code",
     "collapsed": false,
     "input": [
      "for i in us_only:\n",
      "    search_results = twitter_api.search.tweets(q=i, count = count)\n",
      "    db.us.insert(search_results)"
     ],
     "language": "python",
     "metadata": {},
     "outputs": [],
     "prompt_number": 48
    },
    {
     "cell_type": "code",
     "collapsed": false,
     "input": [
      "ca_followers = list(db.canada.find(fields=['user.followers_count']))\n",
      "pd.DataFrame(ca_followers).head()"
     ],
     "language": "python",
     "metadata": {},
     "outputs": [
      {
       "html": [
        "<div style=\"max-height:1000px;max-width:1500px;overflow:auto;\">\n",
        "<table border=\"1\" class=\"dataframe\">\n",
        "  <thead>\n",
        "    <tr style=\"text-align: right;\">\n",
        "      <th></th>\n",
        "      <th>_id</th>\n",
        "      <th>user</th>\n",
        "    </tr>\n",
        "  </thead>\n",
        "  <tbody>\n",
        "    <tr>\n",
        "      <th>0</th>\n",
        "      <td> 535ed5f1e781c402fd0edb47</td>\n",
        "      <td>  {u'followers_count': 150}</td>\n",
        "    </tr>\n",
        "    <tr>\n",
        "      <th>1</th>\n",
        "      <td> 535ed5f1e781c402fd0edb4b</td>\n",
        "      <td> {u'followers_count': 1445}</td>\n",
        "    </tr>\n",
        "    <tr>\n",
        "      <th>2</th>\n",
        "      <td> 535ed5f1e781c402fd0edb45</td>\n",
        "      <td>  {u'followers_count': 735}</td>\n",
        "    </tr>\n",
        "    <tr>\n",
        "      <th>3</th>\n",
        "      <td> 535ed5f1e781c402fd0edb46</td>\n",
        "      <td>  {u'followers_count': 576}</td>\n",
        "    </tr>\n",
        "    <tr>\n",
        "      <th>4</th>\n",
        "      <td> 535ed5f1e781c402fd0edb48</td>\n",
        "      <td>   {u'followers_count': 48}</td>\n",
        "    </tr>\n",
        "  </tbody>\n",
        "</table>\n",
        "<p>5 rows \u00d7 2 columns</p>\n",
        "</div>"
       ],
       "metadata": {},
       "output_type": "pyout",
       "prompt_number": 83,
       "text": [
        "                        _id                        user\n",
        "0  535ed5f1e781c402fd0edb47   {u'followers_count': 150}\n",
        "1  535ed5f1e781c402fd0edb4b  {u'followers_count': 1445}\n",
        "2  535ed5f1e781c402fd0edb45   {u'followers_count': 735}\n",
        "3  535ed5f1e781c402fd0edb46   {u'followers_count': 576}\n",
        "4  535ed5f1e781c402fd0edb48    {u'followers_count': 48}\n",
        "\n",
        "[5 rows x 2 columns]"
       ]
      }
     ],
     "prompt_number": 83
    },
    {
     "cell_type": "code",
     "collapsed": false,
     "input": [
      "can_followers = list(db.canada.find(fields=['entities.user_mentions', 'user.followers_count']))\n",
      "pd.DataFrame(can_followers).head()"
     ],
     "language": "python",
     "metadata": {},
     "outputs": [
      {
       "html": [
        "<div style=\"max-height:1000px;max-width:1500px;overflow:auto;\">\n",
        "<table border=\"1\" class=\"dataframe\">\n",
        "  <thead>\n",
        "    <tr style=\"text-align: right;\">\n",
        "      <th></th>\n",
        "      <th>_id</th>\n",
        "      <th>entities</th>\n",
        "      <th>user</th>\n",
        "    </tr>\n",
        "  </thead>\n",
        "  <tbody>\n",
        "    <tr>\n",
        "      <th>0</th>\n",
        "      <td> 535ed5f1e781c402fd0edb47</td>\n",
        "      <td>                            {u'user_mentions': []}</td>\n",
        "      <td>  {u'followers_count': 150}</td>\n",
        "    </tr>\n",
        "    <tr>\n",
        "      <th>1</th>\n",
        "      <td> 535ed5f1e781c402fd0edb4b</td>\n",
        "      <td>                            {u'user_mentions': []}</td>\n",
        "      <td> {u'followers_count': 1445}</td>\n",
        "    </tr>\n",
        "    <tr>\n",
        "      <th>2</th>\n",
        "      <td> 535ed5f1e781c402fd0edb45</td>\n",
        "      <td> {u'user_mentions': [{u'indices': [3, 18], u'sc...</td>\n",
        "      <td>  {u'followers_count': 735}</td>\n",
        "    </tr>\n",
        "    <tr>\n",
        "      <th>3</th>\n",
        "      <td> 535ed5f1e781c402fd0edb46</td>\n",
        "      <td> {u'user_mentions': [{u'indices': [3, 17], u'sc...</td>\n",
        "      <td>  {u'followers_count': 576}</td>\n",
        "    </tr>\n",
        "    <tr>\n",
        "      <th>4</th>\n",
        "      <td> 535ed5f1e781c402fd0edb48</td>\n",
        "      <td> {u'user_mentions': [{u'indices': [0, 13], u'sc...</td>\n",
        "      <td>   {u'followers_count': 48}</td>\n",
        "    </tr>\n",
        "  </tbody>\n",
        "</table>\n",
        "<p>5 rows \u00d7 3 columns</p>\n",
        "</div>"
       ],
       "metadata": {},
       "output_type": "pyout",
       "prompt_number": 100,
       "text": [
        "                        _id  \\\n",
        "0  535ed5f1e781c402fd0edb47   \n",
        "1  535ed5f1e781c402fd0edb4b   \n",
        "2  535ed5f1e781c402fd0edb45   \n",
        "3  535ed5f1e781c402fd0edb46   \n",
        "4  535ed5f1e781c402fd0edb48   \n",
        "\n",
        "                                            entities  \\\n",
        "0                             {u'user_mentions': []}   \n",
        "1                             {u'user_mentions': []}   \n",
        "2  {u'user_mentions': [{u'indices': [3, 18], u'sc...   \n",
        "3  {u'user_mentions': [{u'indices': [3, 17], u'sc...   \n",
        "4  {u'user_mentions': [{u'indices': [0, 13], u'sc...   \n",
        "\n",
        "                         user  \n",
        "0   {u'followers_count': 150}  \n",
        "1  {u'followers_count': 1445}  \n",
        "2   {u'followers_count': 735}  \n",
        "3   {u'followers_count': 576}  \n",
        "4    {u'followers_count': 48}  \n",
        "\n",
        "[5 rows x 3 columns]"
       ]
      }
     ],
     "prompt_number": 100
    },
    {
     "cell_type": "code",
     "collapsed": false,
     "input": [
      "can_followers_df = pd.DataFrame({'user_mentions': len(tweet['entities']['user_mentions']), \n",
      "              'followers_count': tweet['user'].get('followers_count')} for tweet in can_followers)"
     ],
     "language": "python",
     "metadata": {},
     "outputs": [
      {
       "ename": "KeyError",
       "evalue": "'entities'",
       "output_type": "pyerr",
       "traceback": [
        "\u001b[0;31m---------------------------------------------------------------------------\u001b[0m\n\u001b[0;31mKeyError\u001b[0m                                  Traceback (most recent call last)",
        "\u001b[0;32m<ipython-input-96-1ff9b57fd2ca>\u001b[0m in \u001b[0;36m<module>\u001b[0;34m()\u001b[0m\n\u001b[1;32m      1\u001b[0m can_followers_df = pd.DataFrame({'user_mentions': len(tweet['entities']['user_mentions']), \n\u001b[0;32m----> 2\u001b[0;31m               'followers_count': tweet['user'].get('followers_count')} for tweet in can_followers)\n\u001b[0m",
        "\u001b[0;32m/Users/quicksoat/anaconda/lib/python2.7/site-packages/pandas/core/frame.pyc\u001b[0m in \u001b[0;36m__init__\u001b[0;34m(self, data, index, columns, dtype, copy)\u001b[0m\n\u001b[1;32m    233\u001b[0m         \u001b[0;32melif\u001b[0m \u001b[0misinstance\u001b[0m\u001b[0;34m(\u001b[0m\u001b[0mdata\u001b[0m\u001b[0;34m,\u001b[0m \u001b[0;34m(\u001b[0m\u001b[0mlist\u001b[0m\u001b[0;34m,\u001b[0m \u001b[0mtypes\u001b[0m\u001b[0;34m.\u001b[0m\u001b[0mGeneratorType\u001b[0m\u001b[0;34m)\u001b[0m\u001b[0;34m)\u001b[0m\u001b[0;34m:\u001b[0m\u001b[0;34m\u001b[0m\u001b[0m\n\u001b[1;32m    234\u001b[0m             \u001b[0;32mif\u001b[0m \u001b[0misinstance\u001b[0m\u001b[0;34m(\u001b[0m\u001b[0mdata\u001b[0m\u001b[0;34m,\u001b[0m \u001b[0mtypes\u001b[0m\u001b[0;34m.\u001b[0m\u001b[0mGeneratorType\u001b[0m\u001b[0;34m)\u001b[0m\u001b[0;34m:\u001b[0m\u001b[0;34m\u001b[0m\u001b[0m\n\u001b[0;32m--> 235\u001b[0;31m                 \u001b[0mdata\u001b[0m \u001b[0;34m=\u001b[0m \u001b[0mlist\u001b[0m\u001b[0;34m(\u001b[0m\u001b[0mdata\u001b[0m\u001b[0;34m)\u001b[0m\u001b[0;34m\u001b[0m\u001b[0m\n\u001b[0m\u001b[1;32m    236\u001b[0m             \u001b[0;32mif\u001b[0m \u001b[0mlen\u001b[0m\u001b[0;34m(\u001b[0m\u001b[0mdata\u001b[0m\u001b[0;34m)\u001b[0m \u001b[0;34m>\u001b[0m \u001b[0;36m0\u001b[0m\u001b[0;34m:\u001b[0m\u001b[0;34m\u001b[0m\u001b[0m\n\u001b[1;32m    237\u001b[0m                 \u001b[0;32mif\u001b[0m \u001b[0mindex\u001b[0m \u001b[0;32mis\u001b[0m \u001b[0mNone\u001b[0m \u001b[0;32mand\u001b[0m \u001b[0misinstance\u001b[0m\u001b[0;34m(\u001b[0m\u001b[0mdata\u001b[0m\u001b[0;34m[\u001b[0m\u001b[0;36m0\u001b[0m\u001b[0;34m]\u001b[0m\u001b[0;34m,\u001b[0m \u001b[0mSeries\u001b[0m\u001b[0;34m)\u001b[0m\u001b[0;34m:\u001b[0m\u001b[0;34m\u001b[0m\u001b[0m\n",
        "\u001b[0;32m<ipython-input-96-1ff9b57fd2ca>\u001b[0m in \u001b[0;36m<genexpr>\u001b[0;34m((tweet,))\u001b[0m\n\u001b[1;32m      1\u001b[0m can_followers_df = pd.DataFrame({'user_mentions': len(tweet['entities']['user_mentions']), \n\u001b[0;32m----> 2\u001b[0;31m               'followers_count': tweet['user'].get('followers_count')} for tweet in can_followers)\n\u001b[0m",
        "\u001b[0;31mKeyError\u001b[0m: 'entities'"
       ]
      }
     ],
     "prompt_number": 96
    },
    {
     "cell_type": "code",
     "collapsed": false,
     "input": [],
     "language": "python",
     "metadata": {},
     "outputs": []
    },
    {
     "cell_type": "code",
     "collapsed": false,
     "input": [
      "ca_followers_df = pd.DataFrame({'followers_count': tweet['user'].get('followers_count')} for tweet in ca_followers)\n",
      "ca_followers_df.head()"
     ],
     "language": "python",
     "metadata": {},
     "outputs": [
      {
       "ename": "KeyError",
       "evalue": "'user'",
       "output_type": "pyerr",
       "traceback": [
        "\u001b[0;31m---------------------------------------------------------------------------\u001b[0m\n\u001b[0;31mKeyError\u001b[0m                                  Traceback (most recent call last)",
        "\u001b[0;32m<ipython-input-90-966d6c59fb2b>\u001b[0m in \u001b[0;36m<module>\u001b[0;34m()\u001b[0m\n\u001b[0;32m----> 1\u001b[0;31m \u001b[0mca_followers_df\u001b[0m \u001b[0;34m=\u001b[0m \u001b[0mpd\u001b[0m\u001b[0;34m.\u001b[0m\u001b[0mDataFrame\u001b[0m\u001b[0;34m(\u001b[0m\u001b[0;34m{\u001b[0m\u001b[0;34m'followers_count'\u001b[0m\u001b[0;34m:\u001b[0m \u001b[0mtweet\u001b[0m\u001b[0;34m[\u001b[0m\u001b[0;34m'user'\u001b[0m\u001b[0;34m]\u001b[0m\u001b[0;34m.\u001b[0m\u001b[0mget\u001b[0m\u001b[0;34m(\u001b[0m\u001b[0;34m'followers_count'\u001b[0m\u001b[0;34m)\u001b[0m\u001b[0;34m}\u001b[0m \u001b[0;32mfor\u001b[0m \u001b[0mtweet\u001b[0m \u001b[0;32min\u001b[0m \u001b[0mca_followers\u001b[0m\u001b[0;34m)\u001b[0m\u001b[0;34m\u001b[0m\u001b[0m\n\u001b[0m\u001b[1;32m      2\u001b[0m \u001b[0mca_followers_df\u001b[0m\u001b[0;34m.\u001b[0m\u001b[0mhead\u001b[0m\u001b[0;34m(\u001b[0m\u001b[0;34m)\u001b[0m\u001b[0;34m\u001b[0m\u001b[0m\n",
        "\u001b[0;32m/Users/quicksoat/anaconda/lib/python2.7/site-packages/pandas/core/frame.pyc\u001b[0m in \u001b[0;36m__init__\u001b[0;34m(self, data, index, columns, dtype, copy)\u001b[0m\n\u001b[1;32m    233\u001b[0m         \u001b[0;32melif\u001b[0m \u001b[0misinstance\u001b[0m\u001b[0;34m(\u001b[0m\u001b[0mdata\u001b[0m\u001b[0;34m,\u001b[0m \u001b[0;34m(\u001b[0m\u001b[0mlist\u001b[0m\u001b[0;34m,\u001b[0m \u001b[0mtypes\u001b[0m\u001b[0;34m.\u001b[0m\u001b[0mGeneratorType\u001b[0m\u001b[0;34m)\u001b[0m\u001b[0;34m)\u001b[0m\u001b[0;34m:\u001b[0m\u001b[0;34m\u001b[0m\u001b[0m\n\u001b[1;32m    234\u001b[0m             \u001b[0;32mif\u001b[0m \u001b[0misinstance\u001b[0m\u001b[0;34m(\u001b[0m\u001b[0mdata\u001b[0m\u001b[0;34m,\u001b[0m \u001b[0mtypes\u001b[0m\u001b[0;34m.\u001b[0m\u001b[0mGeneratorType\u001b[0m\u001b[0;34m)\u001b[0m\u001b[0;34m:\u001b[0m\u001b[0;34m\u001b[0m\u001b[0m\n\u001b[0;32m--> 235\u001b[0;31m                 \u001b[0mdata\u001b[0m \u001b[0;34m=\u001b[0m \u001b[0mlist\u001b[0m\u001b[0;34m(\u001b[0m\u001b[0mdata\u001b[0m\u001b[0;34m)\u001b[0m\u001b[0;34m\u001b[0m\u001b[0m\n\u001b[0m\u001b[1;32m    236\u001b[0m             \u001b[0;32mif\u001b[0m \u001b[0mlen\u001b[0m\u001b[0;34m(\u001b[0m\u001b[0mdata\u001b[0m\u001b[0;34m)\u001b[0m \u001b[0;34m>\u001b[0m \u001b[0;36m0\u001b[0m\u001b[0;34m:\u001b[0m\u001b[0;34m\u001b[0m\u001b[0m\n\u001b[1;32m    237\u001b[0m                 \u001b[0;32mif\u001b[0m \u001b[0mindex\u001b[0m \u001b[0;32mis\u001b[0m \u001b[0mNone\u001b[0m \u001b[0;32mand\u001b[0m \u001b[0misinstance\u001b[0m\u001b[0;34m(\u001b[0m\u001b[0mdata\u001b[0m\u001b[0;34m[\u001b[0m\u001b[0;36m0\u001b[0m\u001b[0;34m]\u001b[0m\u001b[0;34m,\u001b[0m \u001b[0mSeries\u001b[0m\u001b[0;34m)\u001b[0m\u001b[0;34m:\u001b[0m\u001b[0;34m\u001b[0m\u001b[0m\n",
        "\u001b[0;32m<ipython-input-90-966d6c59fb2b>\u001b[0m in \u001b[0;36m<genexpr>\u001b[0;34m((tweet,))\u001b[0m\n\u001b[0;32m----> 1\u001b[0;31m \u001b[0mca_followers_df\u001b[0m \u001b[0;34m=\u001b[0m \u001b[0mpd\u001b[0m\u001b[0;34m.\u001b[0m\u001b[0mDataFrame\u001b[0m\u001b[0;34m(\u001b[0m\u001b[0;34m{\u001b[0m\u001b[0;34m'followers_count'\u001b[0m\u001b[0;34m:\u001b[0m \u001b[0mtweet\u001b[0m\u001b[0;34m[\u001b[0m\u001b[0;34m'user'\u001b[0m\u001b[0;34m]\u001b[0m\u001b[0;34m.\u001b[0m\u001b[0mget\u001b[0m\u001b[0;34m(\u001b[0m\u001b[0;34m'followers_count'\u001b[0m\u001b[0;34m)\u001b[0m\u001b[0;34m}\u001b[0m \u001b[0;32mfor\u001b[0m \u001b[0mtweet\u001b[0m \u001b[0;32min\u001b[0m \u001b[0mca_followers\u001b[0m\u001b[0;34m)\u001b[0m\u001b[0;34m\u001b[0m\u001b[0m\n\u001b[0m\u001b[1;32m      2\u001b[0m \u001b[0mca_followers_df\u001b[0m\u001b[0;34m.\u001b[0m\u001b[0mhead\u001b[0m\u001b[0;34m(\u001b[0m\u001b[0;34m)\u001b[0m\u001b[0;34m\u001b[0m\u001b[0m\n",
        "\u001b[0;31mKeyError\u001b[0m: 'user'"
       ]
      }
     ],
     "prompt_number": 90
    },
    {
     "cell_type": "markdown",
     "metadata": {
      "slideshow": {
       "slide_type": "fragment"
      }
     },
     "source": [
      "Individually:\n",
      "------------\n",
      "Find tweets where `'retweet_count': {\"$gt\": 0}`.  \n",
      "What is their `count`?  \n",
      "Is there anything about them that stands out as retweetable?"
     ]
    },
    {
     "cell_type": "markdown",
     "metadata": {
      "slideshow": {
       "slide_type": "notes"
      }
     },
     "source": [
      "Further exercises:  \n",
      "\n",
      "* Twitter - _Mining-the-Social-Web-2nd-Edition_: [Chapter 1 - Mining Twitter](http://nbviewer.ipython.org/github/ptwobrussell/Mining-the-Social-Web-2nd-Edition/blob/master/ipynb/__Chapter%201%20-%20Mining%20Twitter%20%28Full-Text%20Sampler%29.ipynb)\n",
      "* Mongo - [Aggregation Framework](http://docs.mongodb.org/manual/aggregation/)"
     ]
    },
    {
     "cell_type": "markdown",
     "metadata": {
      "slideshow": {
       "slide_type": "slide"
      }
     },
     "source": [
      "Next week:\n",
      "==============\n",
      "Exploring Data\n",
      "--------------"
     ]
    }
   ],
   "metadata": {}
  }
 ]
}